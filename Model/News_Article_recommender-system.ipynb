{
 "cells": [
  {
   "cell_type": "markdown",
   "metadata": {
    "id": "F8iXJ_okAd3E"
   },
   "source": [
    "# Introduction"
   ]
  },
  {
   "cell_type": "markdown",
   "metadata": {
    "id": "vMLW7R0pAd3G"
   },
   "source": [
    "Recommender systems are the systems that are designed to recommend things to the user based on many different factors. These systems predict the most likely product that the users are most likely to purchase and are of interest to. Companies like Netflix, Amazon, etc. use recommender systems to help their users to identify the correct product or movies for them.\n",
    "\n",
    "The recommender system deals with a large volume of information present by filtering the most important information based on the data provided by a user and other factors that take care of the user’s preference and interest. It finds out the match between user and item and imputes the similarities between users and items for recommendation.\n",
    "\n",
    "Both the users and the services provided have benefited from these kinds of systems. The quality and decision-making process has also improved through these kinds of systems.\n",
    "\n",
    "There are many different things that can be recommended by the system like movies, books, news, articles, jobs, advertisements, etc. Netflix uses a recommender system to recommend movies & web-series to its users. Similarly, YouTube recommends different videos. There are many examples of recommender systems that are widely used today.\n",
    "\n"
   ]
  },
  {
   "cell_type": "markdown",
   "metadata": {
    "id": "3SXZoE2ZAd3J"
   },
   "source": [
    "# Goal"
   ]
  },
  {
   "cell_type": "markdown",
   "metadata": {
    "id": "aeSioBeBAd3J"
   },
   "source": [
    "Create a recommender system to recommend articles similar to the article being read by customer."
   ]
  },
  {
   "cell_type": "code",
   "execution_count": 4,
   "metadata": {
    "executionInfo": {
     "elapsed": 2284,
     "status": "ok",
     "timestamp": 1738729225067,
     "user": {
      "displayName": "Rokkam Nithin",
      "userId": "10045097081452275412"
     },
     "user_tz": -330
    },
    "id": "1uNGP9SgAd3K"
   },
   "outputs": [],
   "source": [
    "import numpy as np\n",
    "import pandas as pd\n",
    "import seaborn as sns\n",
    "\n",
    "import os\n",
    "for dirname, _, filenames in os.walk('/kaggle/input'):\n",
    "    for filename in filenames:\n",
    "        print(os.path.join(dirname, filename))"
   ]
  },
  {
   "cell_type": "markdown",
   "metadata": {
    "id": "_wYMm0AIAd3M"
   },
   "source": [
    "#### Load and inspect your data."
   ]
  },
  {
   "cell_type": "code",
   "execution_count": 5,
   "metadata": {
    "colab": {
     "base_uri": "https://localhost:8080/",
     "height": 865
    },
    "executionInfo": {
     "elapsed": 42,
     "status": "ok",
     "timestamp": 1738729225068,
     "user": {
      "displayName": "Rokkam Nithin",
      "userId": "10045097081452275412"
     },
     "user_tz": -330
    },
    "id": "Ugu1A8VmAd3N",
    "outputId": "898a04a0-6eb2-49ce-9cd3-55afda8c8381"
   },
   "outputs": [
    {
     "name": "stdout",
     "output_type": "stream",
     "text": [
      "(2190, 9)\n",
      "Unnamed: 0.1      int64\n",
      "Unnamed: 0        int64\n",
      "link             object\n",
      "text             object\n",
      "title            object\n",
      "date             object\n",
      "keywords         object\n",
      "summary          object\n",
      "title_summary    object\n",
      "dtype: object\n"
     ]
    },
    {
     "data": {
      "text/html": [
       "<div>\n",
       "<style scoped>\n",
       "    .dataframe tbody tr th:only-of-type {\n",
       "        vertical-align: middle;\n",
       "    }\n",
       "\n",
       "    .dataframe tbody tr th {\n",
       "        vertical-align: top;\n",
       "    }\n",
       "\n",
       "    .dataframe thead th {\n",
       "        text-align: right;\n",
       "    }\n",
       "</style>\n",
       "<table border=\"1\" class=\"dataframe\">\n",
       "  <thead>\n",
       "    <tr style=\"text-align: right;\">\n",
       "      <th></th>\n",
       "      <th>Unnamed: 0.1</th>\n",
       "      <th>Unnamed: 0</th>\n",
       "      <th>link</th>\n",
       "      <th>text</th>\n",
       "      <th>title</th>\n",
       "      <th>date</th>\n",
       "      <th>keywords</th>\n",
       "      <th>summary</th>\n",
       "      <th>title_summary</th>\n",
       "    </tr>\n",
       "  </thead>\n",
       "  <tbody>\n",
       "    <tr>\n",
       "      <th>0</th>\n",
       "      <td>0</td>\n",
       "      <td>0</td>\n",
       "      <td>http://techcrunch.com/2020/09/07/vodafone-idea...</td>\n",
       "      <td>Vodafone Idea, one of the largest telecom oper...</td>\n",
       "      <td>Indian telecom giant Vodafone Idea rebrands as...</td>\n",
       "      <td>2020-09-07 00:00:00</td>\n",
       "      <td>['rebrands', 'idea', 'vi', 'giant', 'brand', '...</td>\n",
       "      <td>Vodafone Idea, one of the largest telecom oper...</td>\n",
       "      <td>Indian telecom giant Vodafone Idea rebrands as...</td>\n",
       "    </tr>\n",
       "    <tr>\n",
       "      <th>1</th>\n",
       "      <td>1</td>\n",
       "      <td>1</td>\n",
       "      <td>http://techcrunch.com/2020/09/16/facebook-addr...</td>\n",
       "      <td>At the beginning of the previous decade, Faceb...</td>\n",
       "      <td>Facebook addresses political controversy in In...</td>\n",
       "      <td>2020-09-16 00:00:00</td>\n",
       "      <td>['opportunities', 'whatsapp', 'controversy', '...</td>\n",
       "      <td>Politicians in the country today heavily rely ...</td>\n",
       "      <td>Facebook addresses political controversy in In...</td>\n",
       "    </tr>\n",
       "    <tr>\n",
       "      <th>2</th>\n",
       "      <td>2</td>\n",
       "      <td>2</td>\n",
       "      <td>http://techcrunch.com/2020/09/14/youtube-launc...</td>\n",
       "      <td>As TikTok’s fate in the U.S. remains murky, Yo...</td>\n",
       "      <td>YouTube launches its TikTok rival, YouTube Sho...</td>\n",
       "      <td>2020-09-14 00:00:00</td>\n",
       "      <td>['rival', 'video', 'feature', 'access', 'youtu...</td>\n",
       "      <td>As TikTok’s fate in the U.S. remains murky, Yo...</td>\n",
       "      <td>YouTube launches its TikTok rival, YouTube Sho...</td>\n",
       "    </tr>\n",
       "    <tr>\n",
       "      <th>2187</th>\n",
       "      <td>1287</td>\n",
       "      <td>1287</td>\n",
       "      <td>https://www.reuters.com/article/syria-crisis-f...</td>\n",
       "      <td>AMMAN (Reuters) - Syria is experiencing worsen...</td>\n",
       "      <td>Syria says U.S. sanctions behind acute fuel cr...</td>\n",
       "      <td>2020-09-16 23:25:09+00:00</td>\n",
       "      <td>['shortages', 'imports', 'gasoline', 'shipment...</td>\n",
       "      <td>AMMAN (Reuters) - Syria is experiencing worsen...</td>\n",
       "      <td>Syria says U.S. sanctions behind acute fuel cr...</td>\n",
       "    </tr>\n",
       "    <tr>\n",
       "      <th>2188</th>\n",
       "      <td>1288</td>\n",
       "      <td>1288</td>\n",
       "      <td>https://af.reuters.com/article/uk-iran-usa-wor...</td>\n",
       "      <td>Curiosity high for TV's anything-can-happen vi...</td>\n",
       "      <td>Business &amp; Financial News, U.S &amp; International...</td>\n",
       "      <td>NaN</td>\n",
       "      <td>['international', 'tvs', 'sundays', 'united', ...</td>\n",
       "      <td>Curiosity high for TV's anything-can-happen vi...</td>\n",
       "      <td>Business &amp; Financial News, U.S &amp; International...</td>\n",
       "    </tr>\n",
       "    <tr>\n",
       "      <th>2189</th>\n",
       "      <td>1289</td>\n",
       "      <td>1289</td>\n",
       "      <td>https://in.reuters.com/article/global-metals-i...</td>\n",
       "      <td>MELBOURNE, Sept 17 (Reuters) - London copper f...</td>\n",
       "      <td>METALS-LME copper falls most in seven sessions...</td>\n",
       "      <td>2020-09-17 04:45:08+00:00</td>\n",
       "      <td>['copper', 'sessions', 'metalslme', 'seven', '...</td>\n",
       "      <td>MELBOURNE, Sept 17 (Reuters) - London copper f...</td>\n",
       "      <td>METALS-LME copper falls most in seven sessions...</td>\n",
       "    </tr>\n",
       "  </tbody>\n",
       "</table>\n",
       "</div>"
      ],
      "text/plain": [
       "      Unnamed: 0.1  Unnamed: 0  \\\n",
       "0                0           0   \n",
       "1                1           1   \n",
       "2                2           2   \n",
       "2187          1287        1287   \n",
       "2188          1288        1288   \n",
       "2189          1289        1289   \n",
       "\n",
       "                                                   link  \\\n",
       "0     http://techcrunch.com/2020/09/07/vodafone-idea...   \n",
       "1     http://techcrunch.com/2020/09/16/facebook-addr...   \n",
       "2     http://techcrunch.com/2020/09/14/youtube-launc...   \n",
       "2187  https://www.reuters.com/article/syria-crisis-f...   \n",
       "2188  https://af.reuters.com/article/uk-iran-usa-wor...   \n",
       "2189  https://in.reuters.com/article/global-metals-i...   \n",
       "\n",
       "                                                   text  \\\n",
       "0     Vodafone Idea, one of the largest telecom oper...   \n",
       "1     At the beginning of the previous decade, Faceb...   \n",
       "2     As TikTok’s fate in the U.S. remains murky, Yo...   \n",
       "2187  AMMAN (Reuters) - Syria is experiencing worsen...   \n",
       "2188  Curiosity high for TV's anything-can-happen vi...   \n",
       "2189  MELBOURNE, Sept 17 (Reuters) - London copper f...   \n",
       "\n",
       "                                                  title  \\\n",
       "0     Indian telecom giant Vodafone Idea rebrands as...   \n",
       "1     Facebook addresses political controversy in In...   \n",
       "2     YouTube launches its TikTok rival, YouTube Sho...   \n",
       "2187  Syria says U.S. sanctions behind acute fuel cr...   \n",
       "2188  Business & Financial News, U.S & International...   \n",
       "2189  METALS-LME copper falls most in seven sessions...   \n",
       "\n",
       "                           date  \\\n",
       "0           2020-09-07 00:00:00   \n",
       "1           2020-09-16 00:00:00   \n",
       "2           2020-09-14 00:00:00   \n",
       "2187  2020-09-16 23:25:09+00:00   \n",
       "2188                        NaN   \n",
       "2189  2020-09-17 04:45:08+00:00   \n",
       "\n",
       "                                               keywords  \\\n",
       "0     ['rebrands', 'idea', 'vi', 'giant', 'brand', '...   \n",
       "1     ['opportunities', 'whatsapp', 'controversy', '...   \n",
       "2     ['rival', 'video', 'feature', 'access', 'youtu...   \n",
       "2187  ['shortages', 'imports', 'gasoline', 'shipment...   \n",
       "2188  ['international', 'tvs', 'sundays', 'united', ...   \n",
       "2189  ['copper', 'sessions', 'metalslme', 'seven', '...   \n",
       "\n",
       "                                                summary  \\\n",
       "0     Vodafone Idea, one of the largest telecom oper...   \n",
       "1     Politicians in the country today heavily rely ...   \n",
       "2     As TikTok’s fate in the U.S. remains murky, Yo...   \n",
       "2187  AMMAN (Reuters) - Syria is experiencing worsen...   \n",
       "2188  Curiosity high for TV's anything-can-happen vi...   \n",
       "2189  MELBOURNE, Sept 17 (Reuters) - London copper f...   \n",
       "\n",
       "                                          title_summary  \n",
       "0     Indian telecom giant Vodafone Idea rebrands as...  \n",
       "1     Facebook addresses political controversy in In...  \n",
       "2     YouTube launches its TikTok rival, YouTube Sho...  \n",
       "2187  Syria says U.S. sanctions behind acute fuel cr...  \n",
       "2188  Business & Financial News, U.S & International...  \n",
       "2189  METALS-LME copper falls most in seven sessions...  "
      ]
     },
     "execution_count": 5,
     "metadata": {},
     "output_type": "execute_result"
    }
   ],
   "source": [
    "import pandas as pd\n",
    "\n",
    "data = pd.read_csv('../dataset/result_final.csv')\n",
    "\n",
    "# Inspect first and last n rows from a dataframe\n",
    "def display_df(df, nrows):\n",
    "    return pd.concat([df.head(nrows), df.tail(nrows)])\n",
    "\n",
    "print(data.shape)\n",
    "print(data.dtypes)\n",
    "display_df(data, 3)\n"
   ]
  },
  {
   "cell_type": "markdown",
   "metadata": {
    "id": "VjCK0xi7Ad3N"
   },
   "source": [
    "## Data Cleaning"
   ]
  },
  {
   "cell_type": "code",
   "execution_count": 6,
   "metadata": {
    "colab": {
     "base_uri": "https://localhost:8080/",
     "height": 366
    },
    "executionInfo": {
     "elapsed": 37,
     "status": "ok",
     "timestamp": 1738729225068,
     "user": {
      "displayName": "Rokkam Nithin",
      "userId": "10045097081452275412"
     },
     "user_tz": -330
    },
    "id": "vbWKMPUlAd3O",
    "outputId": "3576457b-d7b0-4455-981a-b39355dc1370"
   },
   "outputs": [
    {
     "data": {
      "text/plain": [
       "Unnamed: 0.1       0\n",
       "Unnamed: 0         0\n",
       "link               0\n",
       "text               6\n",
       "title              3\n",
       "date             499\n",
       "keywords           3\n",
       "summary            6\n",
       "title_summary      6\n",
       "dtype: int64"
      ]
     },
     "execution_count": 6,
     "metadata": {},
     "output_type": "execute_result"
    }
   ],
   "source": [
    "# Count how many missing values are in each column\n",
    "data.isna().sum()"
   ]
  },
  {
   "cell_type": "code",
   "execution_count": 7,
   "metadata": {
    "colab": {
     "base_uri": "https://localhost:8080/",
     "height": 474
    },
    "executionInfo": {
     "elapsed": 36,
     "status": "ok",
     "timestamp": 1738729225068,
     "user": {
      "displayName": "Rokkam Nithin",
      "userId": "10045097081452275412"
     },
     "user_tz": -330
    },
    "id": "TxoCOuq6Ad3O",
    "outputId": "efadc476-9490-48ca-9108-a1fc17e25460"
   },
   "outputs": [
    {
     "data": {
      "text/plain": [
       "<Axes: >"
      ]
     },
     "execution_count": 7,
     "metadata": {},
     "output_type": "execute_result"
    },
    {
     "data": {
      "image/png": "[encoded data removed]",
      "text/plain": [
       "<Figure size 640x480 with 2 Axes>"
      ]
     },
     "metadata": {},
     "output_type": "display_data"
    }
   ],
   "source": [
    "# Check is there's a pattern in missing data\n",
    "sns.heatmap(data.isna().transpose(),\n",
    "            cmap=\"YlGnBu\",\n",
    "            cbar_kws={'label': 'Missing Data'})"
   ]
  },
  {
   "cell_type": "code",
   "execution_count": 8,
   "metadata": {
    "colab": {
     "base_uri": "https://localhost:8080/",
     "height": 585
    },
    "executionInfo": {
     "elapsed": 33,
     "status": "ok",
     "timestamp": 1738729225069,
     "user": {
      "displayName": "Rokkam Nithin",
      "userId": "10045097081452275412"
     },
     "user_tz": -330
    },
    "id": "gbWukJR7Ad3O",
    "outputId": "402489be-4cf1-4eff-d7e3-ec308494f145"
   },
   "outputs": [
    {
     "data": {
      "text/plain": [
       "0             2020-09-07 00:00:00\n",
       "1             2020-09-16 00:00:00\n",
       "2             2020-09-14 00:00:00\n",
       "3             2020-09-09 00:00:00\n",
       "4             2020-09-15 00:00:00\n",
       "5             2020-09-15 00:00:00\n",
       "6             2020-09-14 00:00:00\n",
       "7             2020-09-15 00:00:00\n",
       "2182    2020-09-14 10:39:14+00:00\n",
       "2183                          NaN\n",
       "2184                          NaN\n",
       "2185    2020-09-16 18:18:18+00:00\n",
       "2186    2020-09-16 23:07:30+00:00\n",
       "2187    2020-09-16 23:25:09+00:00\n",
       "2188                          NaN\n",
       "2189    2020-09-17 04:45:08+00:00\n",
       "Name: date, dtype: object"
      ]
     },
     "execution_count": 8,
     "metadata": {},
     "output_type": "execute_result"
    }
   ],
   "source": [
    "# Check if we can fill na's by using last date\n",
    "display_df(data['date'], 8)"
   ]
  },
  {
   "cell_type": "code",
   "execution_count": 9,
   "metadata": {
    "colab": {
     "base_uri": "https://localhost:8080/"
    },
    "executionInfo": {
     "elapsed": 32,
     "status": "ok",
     "timestamp": 1738729225069,
     "user": {
      "displayName": "Rokkam Nithin",
      "userId": "10045097081452275412"
     },
     "user_tz": -330
    },
    "id": "4UfDpfCxAd3P",
    "outputId": "a4e2b849-5d3d-458c-b086-a28708b95d19"
   },
   "outputs": [
    {
     "name": "stdout",
     "output_type": "stream",
     "text": [
      "Unnamed: 0.1       0\n",
      "Unnamed: 0         0\n",
      "link               0\n",
      "text               0\n",
      "title              0\n",
      "date             495\n",
      "keywords           0\n",
      "summary            0\n",
      "title_summary      0\n",
      "dtype: int64\n"
     ]
    }
   ],
   "source": [
    "# Drop news with missing title_summary\n",
    "data.dropna(how = 'any', subset = ['title_summary'], inplace = True)\n",
    "print(data.isna().sum())"
   ]
  },
  {
   "cell_type": "code",
   "execution_count": 10,
   "metadata": {
    "colab": {
     "base_uri": "https://localhost:8080/"
    },
    "executionInfo": {
     "elapsed": 29,
     "status": "ok",
     "timestamp": 1738729225069,
     "user": {
      "displayName": "Rokkam Nithin",
      "userId": "10045097081452275412"
     },
     "user_tz": -330
    },
    "id": "_eOQJgklAd3P",
    "outputId": "cf117bfb-2ec1-4088-cf06-cc5ca285d973"
   },
   "outputs": [
    {
     "name": "stdout",
     "output_type": "stream",
     "text": [
      " Unnamed: 0.1 has 1792 duplicates\n",
      " Unnamed: 0 has 1792 duplicates\n",
      " link has 443 duplicates\n",
      " text has 708 duplicates\n",
      " title has 782 duplicates\n",
      " date has 1423 duplicates\n",
      " keywords has 401 duplicates\n",
      " summary has 723 duplicates\n",
      " title_summary has 704 duplicates\n"
     ]
    }
   ],
   "source": [
    "# Check duplicated news\n",
    "for column in data.columns:\n",
    "    print(f' {column} has {data[data.duplicated(subset = column, keep = False)].shape[0]} duplicates')"
   ]
  },
  {
   "cell_type": "code",
   "execution_count": 11,
   "metadata": {
    "colab": {
     "base_uri": "https://localhost:8080/",
     "height": 1000
    },
    "executionInfo": {
     "elapsed": 1104,
     "status": "ok",
     "timestamp": 1738729226146,
     "user": {
      "displayName": "Rokkam Nithin",
      "userId": "10045097081452275412"
     },
     "user_tz": -330
    },
    "id": "AzSY6nYXAd3Q",
    "outputId": "2100d7f9-5448-4b59-bd3c-fe1de9666670"
   },
   "outputs": [
    {
     "data": {
      "text/html": [
       "<div>\n",
       "<style scoped>\n",
       "    .dataframe tbody tr th:only-of-type {\n",
       "        vertical-align: middle;\n",
       "    }\n",
       "\n",
       "    .dataframe tbody tr th {\n",
       "        vertical-align: top;\n",
       "    }\n",
       "\n",
       "    .dataframe thead th {\n",
       "        text-align: right;\n",
       "    }\n",
       "</style>\n",
       "<table border=\"1\" class=\"dataframe\">\n",
       "  <thead>\n",
       "    <tr style=\"text-align: right;\">\n",
       "      <th></th>\n",
       "      <th>Unnamed: 0.1</th>\n",
       "      <th>Unnamed: 0</th>\n",
       "      <th>link</th>\n",
       "      <th>text</th>\n",
       "      <th>title</th>\n",
       "      <th>date</th>\n",
       "      <th>keywords</th>\n",
       "      <th>summary</th>\n",
       "      <th>title_summary</th>\n",
       "    </tr>\n",
       "  </thead>\n",
       "  <tbody>\n",
       "    <tr>\n",
       "      <th>890</th>\n",
       "      <td>890</td>\n",
       "      <td>890</td>\n",
       "      <td>https://mashable.com/article/contagion-6-month...</td>\n",
       "      <td>All products featured here are independently s...</td>\n",
       "      <td>'Contagion' hits different 6 months into the p...</td>\n",
       "      <td>2020-09-11 18:44:25+00:00</td>\n",
       "      <td>['pandemic', 'months', 'come', 'contagion', 'j...</td>\n",
       "      <td>In retrospect, I should have realized Contagio...</td>\n",
       "      <td>'Contagion' hits different 6 months into the p...</td>\n",
       "    </tr>\n",
       "    <tr>\n",
       "      <th>2051</th>\n",
       "      <td>1151</td>\n",
       "      <td>1151</td>\n",
       "      <td>https://mashable.com/article/contagion-6-month...</td>\n",
       "      <td>All products featured here are independently s...</td>\n",
       "      <td>'Contagion' hits different 6 months into the p...</td>\n",
       "      <td>2020-09-11 18:44:25+00:00</td>\n",
       "      <td>['hits', 'jory', 'trying', 'days', 'months', '...</td>\n",
       "      <td>In retrospect, I should have realized Contagio...</td>\n",
       "      <td>'Contagion' hits different 6 months into the p...</td>\n",
       "    </tr>\n",
       "    <tr>\n",
       "      <th>777</th>\n",
       "      <td>777</td>\n",
       "      <td>777</td>\n",
       "      <td>https://mashable.com/article/princess-bride-re...</td>\n",
       "      <td>There are a whole lot of people who worship th...</td>\n",
       "      <td>'The Princess Bride' cast is reuniting to rais...</td>\n",
       "      <td>2020-09-05 19:04:41+00:00</td>\n",
       "      <td>['elwes', 'sept', 'virtual', 'thrilled', 'rais...</td>\n",
       "      <td>There are a whole lot of people who worship th...</td>\n",
       "      <td>'The Princess Bride' cast is reuniting to rais...</td>\n",
       "    </tr>\n",
       "    <tr>\n",
       "      <th>1181</th>\n",
       "      <td>281</td>\n",
       "      <td>281</td>\n",
       "      <td>https://mashable.com/article/princess-bride-re...</td>\n",
       "      <td>There are a whole lot of people who worship th...</td>\n",
       "      <td>'The Princess Bride' cast is reuniting to rais...</td>\n",
       "      <td>2020-09-05 19:04:41+00:00</td>\n",
       "      <td>['wisconsin', 'reuniting', 'raise', 'princess'...</td>\n",
       "      <td>There are a whole lot of people who worship th...</td>\n",
       "      <td>'The Princess Bride' cast is reuniting to rais...</td>\n",
       "    </tr>\n",
       "    <tr>\n",
       "      <th>1290</th>\n",
       "      <td>390</td>\n",
       "      <td>390</td>\n",
       "      <td>https://mashable.com/article/youtube-announces...</td>\n",
       "      <td>With TikTok’s future in the U.S. up in the air...</td>\n",
       "      <td>YouTube officially announces TikTok competitor...</td>\n",
       "      <td>2020-09-14 18:26:55+00:00</td>\n",
       "      <td>['competitor', 'announces', 'shorts', 'officia...</td>\n",
       "      <td>On Monday, YouTube officially announced its ne...</td>\n",
       "      <td>YouTube officially announces TikTok competitor...</td>\n",
       "    </tr>\n",
       "    <tr>\n",
       "      <th>28</th>\n",
       "      <td>28</td>\n",
       "      <td>28</td>\n",
       "      <td>https://mashable.com/article/youtube-announces...</td>\n",
       "      <td>With TikTok’s future in the U.S. up in the air...</td>\n",
       "      <td>YouTube officially announces TikTok competitor...</td>\n",
       "      <td>2020-09-14 18:26:55+00:00</td>\n",
       "      <td>['video', 'feature', 'youtube', 'shorts', 'off...</td>\n",
       "      <td>On Monday, YouTube officially announced its ne...</td>\n",
       "      <td>YouTube officially announces TikTok competitor...</td>\n",
       "    </tr>\n",
       "    <tr>\n",
       "      <th>358</th>\n",
       "      <td>358</td>\n",
       "      <td>358</td>\n",
       "      <td>https://af.reuters.com/article/commoditiesNews...</td>\n",
       "      <td>《程实专栏》中国“双循环”格局下的内需倍增\\n\\n“积土成山，风雨兴焉。”面向中国经济的高质...</td>\n",
       "      <td>路透中文网</td>\n",
       "      <td>NaN</td>\n",
       "      <td>['路透中文网', '程实专栏中国双循环格局下的内需倍增积土成山风雨兴焉面向中国经济的高质量...</td>\n",
       "      <td>《程实专栏》中国“双循环”格局下的内需倍增“积土成山，风雨兴焉。”面向中国经济的高质量发展，...</td>\n",
       "      <td>路透中文网 《程实专栏》中国“双循环”格局下的内需倍增\\n\\n“积土成山，风雨兴焉。”面向中...</td>\n",
       "    </tr>\n",
       "    <tr>\n",
       "      <th>74</th>\n",
       "      <td>74</td>\n",
       "      <td>74</td>\n",
       "      <td>https://af.reuters.com/article/uk-health-coron...</td>\n",
       "      <td>《程实专栏》中国“双循环”格局下的内需倍增\\n\\n“积土成山，风雨兴焉。”面向中国经济的高质...</td>\n",
       "      <td>路透中文网</td>\n",
       "      <td>NaN</td>\n",
       "      <td>['路透中文网', '程实专栏中国双循环格局下的内需倍增积土成山风雨兴焉面向中国经济的高质量...</td>\n",
       "      <td>《程实专栏》中国“双循环”格局下的内需倍增“积土成山，风雨兴焉。”面向中国经济的高质量发展，...</td>\n",
       "      <td>路透中文网 《程实专栏》中国“双循环”格局下的内需倍增\\n\\n“积土成山，风雨兴焉。”面向中...</td>\n",
       "    </tr>\n",
       "  </tbody>\n",
       "</table>\n",
       "</div>"
      ],
      "text/plain": [
       "      Unnamed: 0.1  Unnamed: 0  \\\n",
       "890            890         890   \n",
       "2051          1151        1151   \n",
       "777            777         777   \n",
       "1181           281         281   \n",
       "1290           390         390   \n",
       "28              28          28   \n",
       "358            358         358   \n",
       "74              74          74   \n",
       "\n",
       "                                                   link  \\\n",
       "890   https://mashable.com/article/contagion-6-month...   \n",
       "2051  https://mashable.com/article/contagion-6-month...   \n",
       "777   https://mashable.com/article/princess-bride-re...   \n",
       "1181  https://mashable.com/article/princess-bride-re...   \n",
       "1290  https://mashable.com/article/youtube-announces...   \n",
       "28    https://mashable.com/article/youtube-announces...   \n",
       "358   https://af.reuters.com/article/commoditiesNews...   \n",
       "74    https://af.reuters.com/article/uk-health-coron...   \n",
       "\n",
       "                                                   text  \\\n",
       "890   All products featured here are independently s...   \n",
       "2051  All products featured here are independently s...   \n",
       "777   There are a whole lot of people who worship th...   \n",
       "1181  There are a whole lot of people who worship th...   \n",
       "1290  With TikTok’s future in the U.S. up in the air...   \n",
       "28    With TikTok’s future in the U.S. up in the air...   \n",
       "358   《程实专栏》中国“双循环”格局下的内需倍增\\n\\n“积土成山，风雨兴焉。”面向中国经济的高质...   \n",
       "74    《程实专栏》中国“双循环”格局下的内需倍增\\n\\n“积土成山，风雨兴焉。”面向中国经济的高质...   \n",
       "\n",
       "                                                  title  \\\n",
       "890   'Contagion' hits different 6 months into the p...   \n",
       "2051  'Contagion' hits different 6 months into the p...   \n",
       "777   'The Princess Bride' cast is reuniting to rais...   \n",
       "1181  'The Princess Bride' cast is reuniting to rais...   \n",
       "1290  YouTube officially announces TikTok competitor...   \n",
       "28    YouTube officially announces TikTok competitor...   \n",
       "358                                               路透中文网   \n",
       "74                                                路透中文网   \n",
       "\n",
       "                           date  \\\n",
       "890   2020-09-11 18:44:25+00:00   \n",
       "2051  2020-09-11 18:44:25+00:00   \n",
       "777   2020-09-05 19:04:41+00:00   \n",
       "1181  2020-09-05 19:04:41+00:00   \n",
       "1290  2020-09-14 18:26:55+00:00   \n",
       "28    2020-09-14 18:26:55+00:00   \n",
       "358                         NaN   \n",
       "74                          NaN   \n",
       "\n",
       "                                               keywords  \\\n",
       "890   ['pandemic', 'months', 'come', 'contagion', 'j...   \n",
       "2051  ['hits', 'jory', 'trying', 'days', 'months', '...   \n",
       "777   ['elwes', 'sept', 'virtual', 'thrilled', 'rais...   \n",
       "1181  ['wisconsin', 'reuniting', 'raise', 'princess'...   \n",
       "1290  ['competitor', 'announces', 'shorts', 'officia...   \n",
       "28    ['video', 'feature', 'youtube', 'shorts', 'off...   \n",
       "358   ['路透中文网', '程实专栏中国双循环格局下的内需倍增积土成山风雨兴焉面向中国经济的高质量...   \n",
       "74    ['路透中文网', '程实专栏中国双循环格局下的内需倍增积土成山风雨兴焉面向中国经济的高质量...   \n",
       "\n",
       "                                                summary  \\\n",
       "890   In retrospect, I should have realized Contagio...   \n",
       "2051  In retrospect, I should have realized Contagio...   \n",
       "777   There are a whole lot of people who worship th...   \n",
       "1181  There are a whole lot of people who worship th...   \n",
       "1290  On Monday, YouTube officially announced its ne...   \n",
       "28    On Monday, YouTube officially announced its ne...   \n",
       "358   《程实专栏》中国“双循环”格局下的内需倍增“积土成山，风雨兴焉。”面向中国经济的高质量发展，...   \n",
       "74    《程实专栏》中国“双循环”格局下的内需倍增“积土成山，风雨兴焉。”面向中国经济的高质量发展，...   \n",
       "\n",
       "                                          title_summary  \n",
       "890   'Contagion' hits different 6 months into the p...  \n",
       "2051  'Contagion' hits different 6 months into the p...  \n",
       "777   'The Princess Bride' cast is reuniting to rais...  \n",
       "1181  'The Princess Bride' cast is reuniting to rais...  \n",
       "1290  YouTube officially announces TikTok competitor...  \n",
       "28    YouTube officially announces TikTok competitor...  \n",
       "358   路透中文网 《程实专栏》中国“双循环”格局下的内需倍增\\n\\n“积土成山，风雨兴焉。”面向中...  \n",
       "74    路透中文网 《程实专栏》中国“双循环”格局下的内需倍增\\n\\n“积土成山，风雨兴焉。”面向中...  "
      ]
     },
     "execution_count": 11,
     "metadata": {},
     "output_type": "execute_result"
    }
   ],
   "source": [
    "# Check some duplicated news with the same title\n",
    "display_df(data[data.duplicated(subset = 'title', keep = False)].sort_values('title'), 4)"
   ]
  },
  {
   "cell_type": "code",
   "execution_count": 12,
   "metadata": {
    "colab": {
     "base_uri": "https://localhost:8080/"
    },
    "executionInfo": {
     "elapsed": 47,
     "status": "ok",
     "timestamp": 1738729226147,
     "user": {
      "displayName": "Rokkam Nithin",
      "userId": "10045097081452275412"
     },
     "user_tz": -330
    },
    "id": "s7ExDXDnAd3Q",
    "outputId": "40689390-67b4-45da-8562-f9a72108bef0"
   },
   "outputs": [
    {
     "name": "stdout",
     "output_type": "stream",
     "text": [
      "(1720, 9)\n"
     ]
    }
   ],
   "source": [
    "# Remove all duplicated news with same title except for the first occurence\n",
    "data.drop_duplicates(subset = 'title', keep = 'first', inplace = True)\n",
    "print(data.shape)"
   ]
  },
  {
   "cell_type": "code",
   "execution_count": 13,
   "metadata": {
    "colab": {
     "base_uri": "https://localhost:8080/"
    },
    "executionInfo": {
     "elapsed": 43,
     "status": "ok",
     "timestamp": 1738729226147,
     "user": {
      "displayName": "Rokkam Nithin",
      "userId": "10045097081452275412"
     },
     "user_tz": -330
    },
    "id": "JKdOkQnLAd3R",
    "outputId": "e7c25b8a-314d-4f73-f7aa-20fcfc4bc981"
   },
   "outputs": [
    {
     "name": "stdout",
     "output_type": "stream",
     "text": [
      " Unnamed: 0.1 has 1176 duplicates\n",
      " Unnamed: 0 has 1176 duplicates\n",
      " link has 0 duplicates\n",
      " text has 6 duplicates\n",
      " title has 0 duplicates\n",
      " date has 982 duplicates\n",
      " keywords has 2 duplicates\n",
      " summary has 12 duplicates\n",
      " title_summary has 0 duplicates\n"
     ]
    }
   ],
   "source": [
    "# Check if there are still duplicated news\n",
    "for column in data.columns:\n",
    "    print(f' {column} has {data[data.duplicated(subset = column, keep = False)].shape[0]} duplicates')"
   ]
  },
  {
   "cell_type": "code",
   "execution_count": 14,
   "metadata": {
    "colab": {
     "base_uri": "https://localhost:8080/",
     "height": 1000
    },
    "executionInfo": {
     "elapsed": 41,
     "status": "ok",
     "timestamp": 1738729226147,
     "user": {
      "displayName": "Rokkam Nithin",
      "userId": "10045097081452275412"
     },
     "user_tz": -330
    },
    "id": "UNqs1AHHAd3R",
    "outputId": "e3b76745-84a8-4551-bc3a-3c7250b8a63b"
   },
   "outputs": [
    {
     "data": {
      "text/html": [
       "<div>\n",
       "<style scoped>\n",
       "    .dataframe tbody tr th:only-of-type {\n",
       "        vertical-align: middle;\n",
       "    }\n",
       "\n",
       "    .dataframe tbody tr th {\n",
       "        vertical-align: top;\n",
       "    }\n",
       "\n",
       "    .dataframe thead th {\n",
       "        text-align: right;\n",
       "    }\n",
       "</style>\n",
       "<table border=\"1\" class=\"dataframe\">\n",
       "  <thead>\n",
       "    <tr style=\"text-align: right;\">\n",
       "      <th></th>\n",
       "      <th>Unnamed: 0.1</th>\n",
       "      <th>Unnamed: 0</th>\n",
       "      <th>link</th>\n",
       "      <th>text</th>\n",
       "      <th>title</th>\n",
       "      <th>date</th>\n",
       "      <th>keywords</th>\n",
       "      <th>summary</th>\n",
       "      <th>title_summary</th>\n",
       "    </tr>\n",
       "  </thead>\n",
       "  <tbody>\n",
       "    <tr>\n",
       "      <th>88</th>\n",
       "      <td>88</td>\n",
       "      <td>88</td>\n",
       "      <td>https://in.reuters.com/news/picture/top-photos...</td>\n",
       "      <td>More than 12,000 people, mostly refugees from ...</td>\n",
       "      <td>Top Photos of the Day</td>\n",
       "      <td>2020-09-09 17:28:08+00:00</td>\n",
       "      <td>['syria', 'shelter', 'moria', 'migrant', 'open...</td>\n",
       "      <td>More than 12,000 people, mostly refugees from ...</td>\n",
       "      <td>Top Photos of the Day More than 12,000 people,...</td>\n",
       "    </tr>\n",
       "    <tr>\n",
       "      <th>337</th>\n",
       "      <td>337</td>\n",
       "      <td>337</td>\n",
       "      <td>https://in.reuters.com/news/picture/chadwick-b...</td>\n",
       "      <td>More than 12,000 people, mostly refugees from ...</td>\n",
       "      <td>Chadwick Boseman: 1976 - 2020</td>\n",
       "      <td>2020-08-29 17:11:11+00:00</td>\n",
       "      <td>['syria', 'shelter', 'moria', 'chadwick', 'ope...</td>\n",
       "      <td>More than 12,000 people, mostly refugees from ...</td>\n",
       "      <td>Chadwick Boseman: 1976 - 2020 More than 12,000...</td>\n",
       "    </tr>\n",
       "    <tr>\n",
       "      <th>149</th>\n",
       "      <td>149</td>\n",
       "      <td>149</td>\n",
       "      <td>https://in.reuters.com/article/india-autos-roy...</td>\n",
       "      <td>NEW DELHI (Reuters) - India’s commerce ministe...</td>\n",
       "      <td>India urges auto companies to cut royalties to...</td>\n",
       "      <td>2020-08-18 10:25:47+00:00</td>\n",
       "      <td>['parents', 'royalties', 'sources', 'auto', 'r...</td>\n",
       "      <td>NEW DELHI (Reuters) - India’s commerce ministe...</td>\n",
       "      <td>India urges auto companies to cut royalties to...</td>\n",
       "    </tr>\n",
       "    <tr>\n",
       "      <th>1397</th>\n",
       "      <td>497</td>\n",
       "      <td>497</td>\n",
       "      <td>https://www.reuters.com/article/us-india-autos...</td>\n",
       "      <td>NEW DELHI (Reuters) - India’s commerce ministe...</td>\n",
       "      <td>India urges auto companies to cut royalties to...</td>\n",
       "      <td>2020-08-18 10:06:34+00:00</td>\n",
       "      <td>['cut', 'foreign', 'royalty', 'sources', 'paym...</td>\n",
       "      <td>NEW DELHI (Reuters) - India’s commerce ministe...</td>\n",
       "      <td>India urges auto companies to cut royalties to...</td>\n",
       "    </tr>\n",
       "    <tr>\n",
       "      <th>43</th>\n",
       "      <td>43</td>\n",
       "      <td>43</td>\n",
       "      <td>https://in.reuters.com/article/market-india-dl...</td>\n",
       "      <td>Cash Spot Cash Tom Tom Next ------------------...</td>\n",
       "      <td>RPT-India fwd/annualised dlr premia-Sep 10</td>\n",
       "      <td>2020-09-10 04:57:36+00:00</td>\n",
       "      <td>['rptindia', 'mth', '1300', '425', '1100', 'se...</td>\n",
       "      <td>Premiums have been given in paise and annualis...</td>\n",
       "      <td>RPT-India fwd/annualised dlr premia-Sep 10 Cas...</td>\n",
       "    </tr>\n",
       "    <tr>\n",
       "      <th>45</th>\n",
       "      <td>45</td>\n",
       "      <td>45</td>\n",
       "      <td>https://in.reuters.com/article/market-india-dl...</td>\n",
       "      <td>Cash Spot Cash Tom Tom Next ------------------...</td>\n",
       "      <td>RPT-India fwd/annualised dlr premia-Sep 16</td>\n",
       "      <td>2020-09-16 04:48:36+00:00</td>\n",
       "      <td>['rptindia', '1005', 'mth', '432', '433', '431...</td>\n",
       "      <td>Premiums have been given in paise and annualis...</td>\n",
       "      <td>RPT-India fwd/annualised dlr premia-Sep 16 Cas...</td>\n",
       "    </tr>\n",
       "    <tr>\n",
       "      <th>138</th>\n",
       "      <td>138</td>\n",
       "      <td>138</td>\n",
       "      <td>https://in.reuters.com/article/market-india-dl...</td>\n",
       "      <td>Cash Spot Cash Tom Tom Next ------------------...</td>\n",
       "      <td>RPT-India fwd/annualised dlr premia-Aug 25</td>\n",
       "      <td>2020-08-25 04:50:48+00:00</td>\n",
       "      <td>['rptindia', 'premiaaug', '1005', '24', 'mth',...</td>\n",
       "      <td>Premiums have been given in paise and annualis...</td>\n",
       "      <td>RPT-India fwd/annualised dlr premia-Aug 25 Cas...</td>\n",
       "    </tr>\n",
       "    <tr>\n",
       "      <th>235</th>\n",
       "      <td>235</td>\n",
       "      <td>235</td>\n",
       "      <td>https://in.reuters.com/article/market-india-dl...</td>\n",
       "      <td>Cash Spot Cash Tom Tom Next ------------------...</td>\n",
       "      <td>RPT-India fwd/annualised dlr premia-Sep 3</td>\n",
       "      <td>2020-09-03 04:43:36+00:00</td>\n",
       "      <td>['rptindia', '1005', 'mth', '419', '1300', 'se...</td>\n",
       "      <td>Premiums have been given in paise and annualis...</td>\n",
       "      <td>RPT-India fwd/annualised dlr premia-Sep 3 Cash...</td>\n",
       "    </tr>\n",
       "    <tr>\n",
       "      <th>317</th>\n",
       "      <td>317</td>\n",
       "      <td>317</td>\n",
       "      <td>https://in.reuters.com/article/market-india-dl...</td>\n",
       "      <td>Cash Spot Cash Tom Tom Next ------------------...</td>\n",
       "      <td>RPT-India fwd/annualised dlr premia-Aug 26</td>\n",
       "      <td>2020-08-26 04:52:22+00:00</td>\n",
       "      <td>['rptindia', 'premiaaug', '1005', 'mth', '1300...</td>\n",
       "      <td>Premiums have been given in paise and annualis...</td>\n",
       "      <td>RPT-India fwd/annualised dlr premia-Aug 26 Cas...</td>\n",
       "    </tr>\n",
       "    <tr>\n",
       "      <th>320</th>\n",
       "      <td>320</td>\n",
       "      <td>320</td>\n",
       "      <td>https://in.reuters.com/article/market-india-dl...</td>\n",
       "      <td>Cash Spot Cash Tom Tom Next ------------------...</td>\n",
       "      <td>RPT-India fwd/annualised dlr premia-Aug 28</td>\n",
       "      <td>2020-08-28 04:50:25+00:00</td>\n",
       "      <td>['436', 'rptindia', 'premiaaug', '434', 'mth',...</td>\n",
       "      <td>Premiums have been given in paise and annualis...</td>\n",
       "      <td>RPT-India fwd/annualised dlr premia-Aug 28 Cas...</td>\n",
       "    </tr>\n",
       "    <tr>\n",
       "      <th>2132</th>\n",
       "      <td>1232</td>\n",
       "      <td>1232</td>\n",
       "      <td>https://www.reuters.com/article/us-germany-eco...</td>\n",
       "      <td>BERLIN (Reuters) - Europe’s largest economy is...</td>\n",
       "      <td>German economic recovery to continue in second...</td>\n",
       "      <td>2020-09-14 08:12:43+00:00</td>\n",
       "      <td>['ministry', 'quarter', 'second', 'secondhalf'...</td>\n",
       "      <td>“The German economy is continuing to pick up, ...</td>\n",
       "      <td>German economic recovery to continue in second...</td>\n",
       "    </tr>\n",
       "    <tr>\n",
       "      <th>2136</th>\n",
       "      <td>1236</td>\n",
       "      <td>1236</td>\n",
       "      <td>https://www.reuters.com/article/us-germany-eco...</td>\n",
       "      <td>BERLIN (Reuters) - Europe’s largest economy is...</td>\n",
       "      <td>German economic recovery to continue in H2, Q3...</td>\n",
       "      <td>2020-09-15 21:17:01+00:00</td>\n",
       "      <td>['ministry', 'quarter', 'second', 'h2', 'econo...</td>\n",
       "      <td>“The German economy is continuing to pick up, ...</td>\n",
       "      <td>German economic recovery to continue in H2, Q3...</td>\n",
       "    </tr>\n",
       "  </tbody>\n",
       "</table>\n",
       "</div>"
      ],
      "text/plain": [
       "      Unnamed: 0.1  Unnamed: 0  \\\n",
       "88              88          88   \n",
       "337            337         337   \n",
       "149            149         149   \n",
       "1397           497         497   \n",
       "43              43          43   \n",
       "45              45          45   \n",
       "138            138         138   \n",
       "235            235         235   \n",
       "317            317         317   \n",
       "320            320         320   \n",
       "2132          1232        1232   \n",
       "2136          1236        1236   \n",
       "\n",
       "                                                   link  \\\n",
       "88    https://in.reuters.com/news/picture/top-photos...   \n",
       "337   https://in.reuters.com/news/picture/chadwick-b...   \n",
       "149   https://in.reuters.com/article/india-autos-roy...   \n",
       "1397  https://www.reuters.com/article/us-india-autos...   \n",
       "43    https://in.reuters.com/article/market-india-dl...   \n",
       "45    https://in.reuters.com/article/market-india-dl...   \n",
       "138   https://in.reuters.com/article/market-india-dl...   \n",
       "235   https://in.reuters.com/article/market-india-dl...   \n",
       "317   https://in.reuters.com/article/market-india-dl...   \n",
       "320   https://in.reuters.com/article/market-india-dl...   \n",
       "2132  https://www.reuters.com/article/us-germany-eco...   \n",
       "2136  https://www.reuters.com/article/us-germany-eco...   \n",
       "\n",
       "                                                   text  \\\n",
       "88    More than 12,000 people, mostly refugees from ...   \n",
       "337   More than 12,000 people, mostly refugees from ...   \n",
       "149   NEW DELHI (Reuters) - India’s commerce ministe...   \n",
       "1397  NEW DELHI (Reuters) - India’s commerce ministe...   \n",
       "43    Cash Spot Cash Tom Tom Next ------------------...   \n",
       "45    Cash Spot Cash Tom Tom Next ------------------...   \n",
       "138   Cash Spot Cash Tom Tom Next ------------------...   \n",
       "235   Cash Spot Cash Tom Tom Next ------------------...   \n",
       "317   Cash Spot Cash Tom Tom Next ------------------...   \n",
       "320   Cash Spot Cash Tom Tom Next ------------------...   \n",
       "2132  BERLIN (Reuters) - Europe’s largest economy is...   \n",
       "2136  BERLIN (Reuters) - Europe’s largest economy is...   \n",
       "\n",
       "                                                  title  \\\n",
       "88                                Top Photos of the Day   \n",
       "337                       Chadwick Boseman: 1976 - 2020   \n",
       "149   India urges auto companies to cut royalties to...   \n",
       "1397  India urges auto companies to cut royalties to...   \n",
       "43           RPT-India fwd/annualised dlr premia-Sep 10   \n",
       "45           RPT-India fwd/annualised dlr premia-Sep 16   \n",
       "138          RPT-India fwd/annualised dlr premia-Aug 25   \n",
       "235           RPT-India fwd/annualised dlr premia-Sep 3   \n",
       "317          RPT-India fwd/annualised dlr premia-Aug 26   \n",
       "320          RPT-India fwd/annualised dlr premia-Aug 28   \n",
       "2132  German economic recovery to continue in second...   \n",
       "2136  German economic recovery to continue in H2, Q3...   \n",
       "\n",
       "                           date  \\\n",
       "88    2020-09-09 17:28:08+00:00   \n",
       "337   2020-08-29 17:11:11+00:00   \n",
       "149   2020-08-18 10:25:47+00:00   \n",
       "1397  2020-08-18 10:06:34+00:00   \n",
       "43    2020-09-10 04:57:36+00:00   \n",
       "45    2020-09-16 04:48:36+00:00   \n",
       "138   2020-08-25 04:50:48+00:00   \n",
       "235   2020-09-03 04:43:36+00:00   \n",
       "317   2020-08-26 04:52:22+00:00   \n",
       "320   2020-08-28 04:50:25+00:00   \n",
       "2132  2020-09-14 08:12:43+00:00   \n",
       "2136  2020-09-15 21:17:01+00:00   \n",
       "\n",
       "                                               keywords  \\\n",
       "88    ['syria', 'shelter', 'moria', 'migrant', 'open...   \n",
       "337   ['syria', 'shelter', 'moria', 'chadwick', 'ope...   \n",
       "149   ['parents', 'royalties', 'sources', 'auto', 'r...   \n",
       "1397  ['cut', 'foreign', 'royalty', 'sources', 'paym...   \n",
       "43    ['rptindia', 'mth', '1300', '425', '1100', 'se...   \n",
       "45    ['rptindia', '1005', 'mth', '432', '433', '431...   \n",
       "138   ['rptindia', 'premiaaug', '1005', '24', 'mth',...   \n",
       "235   ['rptindia', '1005', 'mth', '419', '1300', 'se...   \n",
       "317   ['rptindia', 'premiaaug', '1005', 'mth', '1300...   \n",
       "320   ['436', 'rptindia', 'premiaaug', '434', 'mth',...   \n",
       "2132  ['ministry', 'quarter', 'second', 'secondhalf'...   \n",
       "2136  ['ministry', 'quarter', 'second', 'h2', 'econo...   \n",
       "\n",
       "                                                summary  \\\n",
       "88    More than 12,000 people, mostly refugees from ...   \n",
       "337   More than 12,000 people, mostly refugees from ...   \n",
       "149   NEW DELHI (Reuters) - India’s commerce ministe...   \n",
       "1397  NEW DELHI (Reuters) - India’s commerce ministe...   \n",
       "43    Premiums have been given in paise and annualis...   \n",
       "45    Premiums have been given in paise and annualis...   \n",
       "138   Premiums have been given in paise and annualis...   \n",
       "235   Premiums have been given in paise and annualis...   \n",
       "317   Premiums have been given in paise and annualis...   \n",
       "320   Premiums have been given in paise and annualis...   \n",
       "2132  “The German economy is continuing to pick up, ...   \n",
       "2136  “The German economy is continuing to pick up, ...   \n",
       "\n",
       "                                          title_summary  \n",
       "88    Top Photos of the Day More than 12,000 people,...  \n",
       "337   Chadwick Boseman: 1976 - 2020 More than 12,000...  \n",
       "149   India urges auto companies to cut royalties to...  \n",
       "1397  India urges auto companies to cut royalties to...  \n",
       "43    RPT-India fwd/annualised dlr premia-Sep 10 Cas...  \n",
       "45    RPT-India fwd/annualised dlr premia-Sep 16 Cas...  \n",
       "138   RPT-India fwd/annualised dlr premia-Aug 25 Cas...  \n",
       "235   RPT-India fwd/annualised dlr premia-Sep 3 Cash...  \n",
       "317   RPT-India fwd/annualised dlr premia-Aug 26 Cas...  \n",
       "320   RPT-India fwd/annualised dlr premia-Aug 28 Cas...  \n",
       "2132  German economic recovery to continue in second...  \n",
       "2136  German economic recovery to continue in H2, Q3...  "
      ]
     },
     "execution_count": 14,
     "metadata": {},
     "output_type": "execute_result"
    }
   ],
   "source": [
    "# Check duplicated news with same summary\n",
    "data[data.duplicated(subset = 'summary', keep = False)].sort_values('summary')"
   ]
  },
  {
   "cell_type": "code",
   "execution_count": 15,
   "metadata": {
    "colab": {
     "base_uri": "https://localhost:8080/"
    },
    "executionInfo": {
     "elapsed": 39,
     "status": "ok",
     "timestamp": 1738729226147,
     "user": {
      "displayName": "Rokkam Nithin",
      "userId": "10045097081452275412"
     },
     "user_tz": -330
    },
    "id": "iM1XTG-dAd3R",
    "outputId": "805e1ae9-2624-43fb-9a0a-1db1dbfb44d4"
   },
   "outputs": [
    {
     "name": "stdout",
     "output_type": "stream",
     "text": [
      "(1712, 9)\n"
     ]
    }
   ],
   "source": [
    "# Remove all duplicated news with same summary except for the first occurence\n",
    "data.drop_duplicates(subset = 'summary', keep = 'first', inplace = True)\n",
    "print(data.shape)"
   ]
  },
  {
   "cell_type": "code",
   "execution_count": 16,
   "metadata": {
    "colab": {
     "base_uri": "https://localhost:8080/"
    },
    "executionInfo": {
     "elapsed": 36,
     "status": "ok",
     "timestamp": 1738729226147,
     "user": {
      "displayName": "Rokkam Nithin",
      "userId": "10045097081452275412"
     },
     "user_tz": -330
    },
    "id": "cz8XkmvqAd3S",
    "outputId": "868a9528-93b2-4168-f3fe-1f178f838121"
   },
   "outputs": [
    {
     "name": "stdout",
     "output_type": "stream",
     "text": [
      " Unnamed: 0.1 has 1162 duplicates\n",
      " Unnamed: 0 has 1162 duplicates\n",
      " link has 0 duplicates\n",
      " text has 2 duplicates\n",
      " title has 0 duplicates\n",
      " date has 982 duplicates\n",
      " keywords has 2 duplicates\n",
      " summary has 0 duplicates\n",
      " title_summary has 0 duplicates\n"
     ]
    }
   ],
   "source": [
    "# Check if there are still duplicated news\n",
    "for column in data.columns:\n",
    "    print(f' {column} has {data[data.duplicated(subset = column, keep = False)].shape[0]} duplicates')"
   ]
  },
  {
   "cell_type": "code",
   "execution_count": 17,
   "metadata": {
    "colab": {
     "base_uri": "https://localhost:8080/",
     "height": 185
    },
    "executionInfo": {
     "elapsed": 35,
     "status": "ok",
     "timestamp": 1738729226148,
     "user": {
      "displayName": "Rokkam Nithin",
      "userId": "10045097081452275412"
     },
     "user_tz": -330
    },
    "id": "p_9p4GZRAd3S",
    "outputId": "9c3813a3-cfd5-4f20-a714-c85f723cd8da"
   },
   "outputs": [
    {
     "data": {
      "text/html": [
       "<div>\n",
       "<style scoped>\n",
       "    .dataframe tbody tr th:only-of-type {\n",
       "        vertical-align: middle;\n",
       "    }\n",
       "\n",
       "    .dataframe tbody tr th {\n",
       "        vertical-align: top;\n",
       "    }\n",
       "\n",
       "    .dataframe thead th {\n",
       "        text-align: right;\n",
       "    }\n",
       "</style>\n",
       "<table border=\"1\" class=\"dataframe\">\n",
       "  <thead>\n",
       "    <tr style=\"text-align: right;\">\n",
       "      <th></th>\n",
       "      <th>Unnamed: 0.1</th>\n",
       "      <th>Unnamed: 0</th>\n",
       "      <th>link</th>\n",
       "      <th>text</th>\n",
       "      <th>title</th>\n",
       "      <th>date</th>\n",
       "      <th>keywords</th>\n",
       "      <th>summary</th>\n",
       "      <th>title_summary</th>\n",
       "    </tr>\n",
       "  </thead>\n",
       "  <tbody>\n",
       "    <tr>\n",
       "      <th>125</th>\n",
       "      <td>125</td>\n",
       "      <td>125</td>\n",
       "      <td>https://www.nytimes.com/2020/08/19/us/politics...</td>\n",
       "      <td>“Hey, everybody, it’s me, Kamala.” “Tonight we...</td>\n",
       "      <td>Kamala Harris Takes the Spotlight, a Moment fo...</td>\n",
       "      <td>2020-08-19 00:00:00</td>\n",
       "      <td>['world', 'women', 'democratic', 'woman', 'har...</td>\n",
       "      <td>Our worst impulses unleashed, our proud reputa...</td>\n",
       "      <td>Kamala Harris Takes the Spotlight, a Moment fo...</td>\n",
       "    </tr>\n",
       "  </tbody>\n",
       "</table>\n",
       "</div>"
      ],
      "text/plain": [
       "     Unnamed: 0.1  Unnamed: 0  \\\n",
       "125           125         125   \n",
       "\n",
       "                                                  link  \\\n",
       "125  https://www.nytimes.com/2020/08/19/us/politics...   \n",
       "\n",
       "                                                  text  \\\n",
       "125  “Hey, everybody, it’s me, Kamala.” “Tonight we...   \n",
       "\n",
       "                                                 title                 date  \\\n",
       "125  Kamala Harris Takes the Spotlight, a Moment fo...  2020-08-19 00:00:00   \n",
       "\n",
       "                                              keywords  \\\n",
       "125  ['world', 'women', 'democratic', 'woman', 'har...   \n",
       "\n",
       "                                               summary  \\\n",
       "125  Our worst impulses unleashed, our proud reputa...   \n",
       "\n",
       "                                         title_summary  \n",
       "125  Kamala Harris Takes the Spotlight, a Moment fo...  "
      ]
     },
     "execution_count": 17,
     "metadata": {},
     "output_type": "execute_result"
    }
   ],
   "source": [
    "# Last check for duplicates\n",
    "data[data.duplicated(subset = 'text')]"
   ]
  },
  {
   "cell_type": "code",
   "execution_count": 18,
   "metadata": {
    "executionInfo": {
     "elapsed": 34,
     "status": "ok",
     "timestamp": 1738729226148,
     "user": {
      "displayName": "Rokkam Nithin",
      "userId": "10045097081452275412"
     },
     "user_tz": -330
    },
    "id": "_TQdRlERAd3S"
   },
   "outputs": [],
   "source": [
    "# Remove all duplicated news with same summary except for the first occurence\n",
    "data.drop_duplicates(subset = 'text', keep = 'first', inplace = True)"
   ]
  },
  {
   "cell_type": "code",
   "execution_count": 19,
   "metadata": {
    "colab": {
     "base_uri": "https://localhost:8080/",
     "height": 445
    },
    "executionInfo": {
     "elapsed": 33,
     "status": "ok",
     "timestamp": 1738729226148,
     "user": {
      "displayName": "Rokkam Nithin",
      "userId": "10045097081452275412"
     },
     "user_tz": -330
    },
    "id": "beK3TClAAd3T",
    "outputId": "3be34315-18c1-4b4a-9372-8fc5aad3fa4c"
   },
   "outputs": [
    {
     "data": {
      "text/html": [
       "<div>\n",
       "<style scoped>\n",
       "    .dataframe tbody tr th:only-of-type {\n",
       "        vertical-align: middle;\n",
       "    }\n",
       "\n",
       "    .dataframe tbody tr th {\n",
       "        vertical-align: top;\n",
       "    }\n",
       "\n",
       "    .dataframe thead th {\n",
       "        text-align: right;\n",
       "    }\n",
       "</style>\n",
       "<table border=\"1\" class=\"dataframe\">\n",
       "  <thead>\n",
       "    <tr style=\"text-align: right;\">\n",
       "      <th></th>\n",
       "      <th>link</th>\n",
       "      <th>text</th>\n",
       "      <th>title</th>\n",
       "      <th>date</th>\n",
       "      <th>keywords</th>\n",
       "      <th>summary</th>\n",
       "    </tr>\n",
       "  </thead>\n",
       "  <tbody>\n",
       "    <tr>\n",
       "      <th>0</th>\n",
       "      <td>http://techcrunch.com/2020/09/07/vodafone-idea...</td>\n",
       "      <td>Vodafone Idea, one of the largest telecom oper...</td>\n",
       "      <td>Indian telecom giant Vodafone Idea rebrands as...</td>\n",
       "      <td>2020-09-07 00:00:00</td>\n",
       "      <td>['rebrands', 'idea', 'vi', 'giant', 'brand', '...</td>\n",
       "      <td>Vodafone Idea, one of the largest telecom oper...</td>\n",
       "    </tr>\n",
       "    <tr>\n",
       "      <th>1</th>\n",
       "      <td>http://techcrunch.com/2020/09/16/facebook-addr...</td>\n",
       "      <td>At the beginning of the previous decade, Faceb...</td>\n",
       "      <td>Facebook addresses political controversy in In...</td>\n",
       "      <td>2020-09-16 00:00:00</td>\n",
       "      <td>['opportunities', 'whatsapp', 'controversy', '...</td>\n",
       "      <td>Politicians in the country today heavily rely ...</td>\n",
       "    </tr>\n",
       "    <tr>\n",
       "      <th>2</th>\n",
       "      <td>http://techcrunch.com/2020/09/14/youtube-launc...</td>\n",
       "      <td>As TikTok’s fate in the U.S. remains murky, Yo...</td>\n",
       "      <td>YouTube launches its TikTok rival, YouTube Sho...</td>\n",
       "      <td>2020-09-14 00:00:00</td>\n",
       "      <td>['rival', 'video', 'feature', 'access', 'youtu...</td>\n",
       "      <td>As TikTok’s fate in the U.S. remains murky, Yo...</td>\n",
       "    </tr>\n",
       "    <tr>\n",
       "      <th>2186</th>\n",
       "      <td>https://www.reuters.com/article/us-britain-boe...</td>\n",
       "      <td>LONDON (Reuters) - The Bank of England is expe...</td>\n",
       "      <td>Bank of England gears up for next stimulus push</td>\n",
       "      <td>2020-09-16 23:07:30+00:00</td>\n",
       "      <td>['push', 'bank', 'england', 'zero', 'signal', ...</td>\n",
       "      <td>LONDON (Reuters) - The Bank of England is expe...</td>\n",
       "    </tr>\n",
       "    <tr>\n",
       "      <th>2187</th>\n",
       "      <td>https://www.reuters.com/article/syria-crisis-f...</td>\n",
       "      <td>AMMAN (Reuters) - Syria is experiencing worsen...</td>\n",
       "      <td>Syria says U.S. sanctions behind acute fuel cr...</td>\n",
       "      <td>2020-09-16 23:25:09+00:00</td>\n",
       "      <td>['shortages', 'imports', 'gasoline', 'shipment...</td>\n",
       "      <td>AMMAN (Reuters) - Syria is experiencing worsen...</td>\n",
       "    </tr>\n",
       "    <tr>\n",
       "      <th>2189</th>\n",
       "      <td>https://in.reuters.com/article/global-metals-i...</td>\n",
       "      <td>MELBOURNE, Sept 17 (Reuters) - London copper f...</td>\n",
       "      <td>METALS-LME copper falls most in seven sessions...</td>\n",
       "      <td>2020-09-17 04:45:08+00:00</td>\n",
       "      <td>['copper', 'sessions', 'metalslme', 'seven', '...</td>\n",
       "      <td>MELBOURNE, Sept 17 (Reuters) - London copper f...</td>\n",
       "    </tr>\n",
       "  </tbody>\n",
       "</table>\n",
       "</div>"
      ],
      "text/plain": [
       "                                                   link  \\\n",
       "0     http://techcrunch.com/2020/09/07/vodafone-idea...   \n",
       "1     http://techcrunch.com/2020/09/16/facebook-addr...   \n",
       "2     http://techcrunch.com/2020/09/14/youtube-launc...   \n",
       "2186  https://www.reuters.com/article/us-britain-boe...   \n",
       "2187  https://www.reuters.com/article/syria-crisis-f...   \n",
       "2189  https://in.reuters.com/article/global-metals-i...   \n",
       "\n",
       "                                                   text  \\\n",
       "0     Vodafone Idea, one of the largest telecom oper...   \n",
       "1     At the beginning of the previous decade, Faceb...   \n",
       "2     As TikTok’s fate in the U.S. remains murky, Yo...   \n",
       "2186  LONDON (Reuters) - The Bank of England is expe...   \n",
       "2187  AMMAN (Reuters) - Syria is experiencing worsen...   \n",
       "2189  MELBOURNE, Sept 17 (Reuters) - London copper f...   \n",
       "\n",
       "                                                  title  \\\n",
       "0     Indian telecom giant Vodafone Idea rebrands as...   \n",
       "1     Facebook addresses political controversy in In...   \n",
       "2     YouTube launches its TikTok rival, YouTube Sho...   \n",
       "2186    Bank of England gears up for next stimulus push   \n",
       "2187  Syria says U.S. sanctions behind acute fuel cr...   \n",
       "2189  METALS-LME copper falls most in seven sessions...   \n",
       "\n",
       "                           date  \\\n",
       "0           2020-09-07 00:00:00   \n",
       "1           2020-09-16 00:00:00   \n",
       "2           2020-09-14 00:00:00   \n",
       "2186  2020-09-16 23:07:30+00:00   \n",
       "2187  2020-09-16 23:25:09+00:00   \n",
       "2189  2020-09-17 04:45:08+00:00   \n",
       "\n",
       "                                               keywords  \\\n",
       "0     ['rebrands', 'idea', 'vi', 'giant', 'brand', '...   \n",
       "1     ['opportunities', 'whatsapp', 'controversy', '...   \n",
       "2     ['rival', 'video', 'feature', 'access', 'youtu...   \n",
       "2186  ['push', 'bank', 'england', 'zero', 'signal', ...   \n",
       "2187  ['shortages', 'imports', 'gasoline', 'shipment...   \n",
       "2189  ['copper', 'sessions', 'metalslme', 'seven', '...   \n",
       "\n",
       "                                                summary  \n",
       "0     Vodafone Idea, one of the largest telecom oper...  \n",
       "1     Politicians in the country today heavily rely ...  \n",
       "2     As TikTok’s fate in the U.S. remains murky, Yo...  \n",
       "2186  LONDON (Reuters) - The Bank of England is expe...  \n",
       "2187  AMMAN (Reuters) - Syria is experiencing worsen...  \n",
       "2189  MELBOURNE, Sept 17 (Reuters) - London copper f...  "
      ]
     },
     "execution_count": 19,
     "metadata": {},
     "output_type": "execute_result"
    }
   ],
   "source": [
    "# Remove unnecessary columns\n",
    "data.drop(labels = ['Unnamed: 0', 'Unnamed: 0.1', 'title_summary'], axis = 1, inplace = True)\n",
    "date = data['date']\n",
    "display_df(data, 3)"
   ]
  },
  {
   "cell_type": "markdown",
   "metadata": {
    "id": "Kt5V_q8mAd3T"
   },
   "source": [
    "## Analysis"
   ]
  },
  {
   "cell_type": "code",
   "execution_count": 20,
   "metadata": {
    "colab": {
     "base_uri": "https://localhost:8080/",
     "height": 500
    },
    "executionInfo": {
     "elapsed": 31,
     "status": "ok",
     "timestamp": 1738729226148,
     "user": {
      "displayName": "Rokkam Nithin",
      "userId": "10045097081452275412"
     },
     "user_tz": -330
    },
    "id": "ZhVqE82oAd3T",
    "outputId": "098cf017-7c4f-426d-d201-a9ba28a3db87"
   },
   "outputs": [
    {
     "data": {
      "image/png": "[encoded data removed]",
      "text/plain": [
       "<Figure size 640x480 with 1 Axes>"
      ]
     },
     "metadata": {},
     "output_type": "display_data"
    }
   ],
   "source": [
    "import matplotlib.pyplot as plt\n",
    "# Assuming 'date' contains your date data\n",
    "dates = pd.DataFrame({'date': date})\n",
    "\n",
    "# Convert 'date' column to datetime, handling timezone formats\n",
    "dates['date'] = pd.to_datetime(dates['date'], utc=True, format='ISO8601')\n",
    "dates['day'] = dates['date'].dt.day\n",
    "dates['month'] = dates['date'].dt.month\n",
    "dates = dates.convert_dtypes()\n",
    "\n",
    "# Group by 'month' and 'day' and plot the count of dates\n",
    "date_counts = dates.groupby(['month', 'day']).size()\n",
    "date_counts.plot(rot=45)\n",
    "\n",
    "plt.xlabel('Month, Day')\n",
    "plt.ylabel('Count')\n",
    "plt.title('Count of Dates by Month and Day')\n",
    "plt.show()\n"
   ]
  },
  {
   "cell_type": "markdown",
   "metadata": {
    "id": "pS6-E2WiAd3U"
   },
   "source": [
    "### Preprocessing"
   ]
  },
  {
   "cell_type": "code",
   "execution_count": 21,
   "metadata": {
    "executionInfo": {
     "elapsed": 31,
     "status": "ok",
     "timestamp": 1738729226149,
     "user": {
      "displayName": "Rokkam Nithin",
      "userId": "10045097081452275412"
     },
     "user_tz": -330
    },
    "id": "L_w8d3anAd3U"
   },
   "outputs": [],
   "source": [
    "# Join title, keywords, summary and text to make a more robust recommender system\n",
    "def create_soup(x):\n",
    "    return x['title'] + ' ' + x['keywords'] + ' ' + x['summary'] + ' ' + x['text']\n",
    "data['soup'] = data.apply(create_soup, axis=1)"
   ]
  },
  {
   "cell_type": "code",
   "execution_count": 22,
   "metadata": {
    "colab": {
     "base_uri": "https://localhost:8080/",
     "height": 929
    },
    "collapsed": true,
    "executionInfo": {
     "elapsed": 1004,
     "status": "ok",
     "timestamp": 1738729227123,
     "user": {
      "displayName": "Rokkam Nithin",
      "userId": "10045097081452275412"
     },
     "user_tz": -330
    },
    "id": "m4gXvbqsAd3V",
    "outputId": "55e42493-3a1f-4738-94c0-637229f2ea64"
   },
   "outputs": [
    {
     "data": {
      "text/html": [
       "<div>\n",
       "<style scoped>\n",
       "    .dataframe tbody tr th:only-of-type {\n",
       "        vertical-align: middle;\n",
       "    }\n",
       "\n",
       "    .dataframe tbody tr th {\n",
       "        vertical-align: top;\n",
       "    }\n",
       "\n",
       "    .dataframe thead th {\n",
       "        text-align: right;\n",
       "    }\n",
       "</style>\n",
       "<table border=\"1\" class=\"dataframe\">\n",
       "  <thead>\n",
       "    <tr style=\"text-align: right;\">\n",
       "      <th></th>\n",
       "      <th>00</th>\n",
       "      <th>000</th>\n",
       "      <th>0000</th>\n",
       "      <th>000and</th>\n",
       "      <th>000ft</th>\n",
       "      <th>000km</th>\n",
       "      <th>000mah</th>\n",
       "      <th>000s</th>\n",
       "      <th>000sq</th>\n",
       "      <th>000th</th>\n",
       "      <th>...</th>\n",
       "      <th>zuoyebang</th>\n",
       "      <th>zurich</th>\n",
       "      <th>zverev</th>\n",
       "      <th>zverevs</th>\n",
       "      <th>zwickau</th>\n",
       "      <th>zwicker</th>\n",
       "      <th>zwicky</th>\n",
       "      <th>zwift</th>\n",
       "      <th>zwifts</th>\n",
       "      <th>zynga</th>\n",
       "    </tr>\n",
       "    <tr>\n",
       "      <th>title</th>\n",
       "      <th></th>\n",
       "      <th></th>\n",
       "      <th></th>\n",
       "      <th></th>\n",
       "      <th></th>\n",
       "      <th></th>\n",
       "      <th></th>\n",
       "      <th></th>\n",
       "      <th></th>\n",
       "      <th></th>\n",
       "      <th></th>\n",
       "      <th></th>\n",
       "      <th></th>\n",
       "      <th></th>\n",
       "      <th></th>\n",
       "      <th></th>\n",
       "      <th></th>\n",
       "      <th></th>\n",
       "      <th></th>\n",
       "      <th></th>\n",
       "      <th></th>\n",
       "    </tr>\n",
       "  </thead>\n",
       "  <tbody>\n",
       "    <tr>\n",
       "      <th>Indian telecom giant Vodafone Idea rebrands as ‘Vi’ – TechCrunch</th>\n",
       "      <td>0.0</td>\n",
       "      <td>0.011600</td>\n",
       "      <td>0.0</td>\n",
       "      <td>0.0</td>\n",
       "      <td>0.0</td>\n",
       "      <td>0.0</td>\n",
       "      <td>0.0</td>\n",
       "      <td>0.0</td>\n",
       "      <td>0.0</td>\n",
       "      <td>0.0</td>\n",
       "      <td>...</td>\n",
       "      <td>0.0</td>\n",
       "      <td>0.0</td>\n",
       "      <td>0.0</td>\n",
       "      <td>0.0</td>\n",
       "      <td>0.0</td>\n",
       "      <td>0.0</td>\n",
       "      <td>0.0</td>\n",
       "      <td>0.0</td>\n",
       "      <td>0.0</td>\n",
       "      <td>0.0</td>\n",
       "    </tr>\n",
       "    <tr>\n",
       "      <th>Facebook addresses political controversy in India, monetization opportunities, startup investments – TechCrunch</th>\n",
       "      <td>0.0</td>\n",
       "      <td>0.000000</td>\n",
       "      <td>0.0</td>\n",
       "      <td>0.0</td>\n",
       "      <td>0.0</td>\n",
       "      <td>0.0</td>\n",
       "      <td>0.0</td>\n",
       "      <td>0.0</td>\n",
       "      <td>0.0</td>\n",
       "      <td>0.0</td>\n",
       "      <td>...</td>\n",
       "      <td>0.0</td>\n",
       "      <td>0.0</td>\n",
       "      <td>0.0</td>\n",
       "      <td>0.0</td>\n",
       "      <td>0.0</td>\n",
       "      <td>0.0</td>\n",
       "      <td>0.0</td>\n",
       "      <td>0.0</td>\n",
       "      <td>0.0</td>\n",
       "      <td>0.0</td>\n",
       "    </tr>\n",
       "    <tr>\n",
       "      <th>YouTube launches its TikTok rival, YouTube Shorts, initially in India – TechCrunch</th>\n",
       "      <td>0.0</td>\n",
       "      <td>0.000000</td>\n",
       "      <td>0.0</td>\n",
       "      <td>0.0</td>\n",
       "      <td>0.0</td>\n",
       "      <td>0.0</td>\n",
       "      <td>0.0</td>\n",
       "      <td>0.0</td>\n",
       "      <td>0.0</td>\n",
       "      <td>0.0</td>\n",
       "      <td>...</td>\n",
       "      <td>0.0</td>\n",
       "      <td>0.0</td>\n",
       "      <td>0.0</td>\n",
       "      <td>0.0</td>\n",
       "      <td>0.0</td>\n",
       "      <td>0.0</td>\n",
       "      <td>0.0</td>\n",
       "      <td>0.0</td>\n",
       "      <td>0.0</td>\n",
       "      <td>0.0</td>\n",
       "    </tr>\n",
       "    <tr>\n",
       "      <th>Groww, an investment app for millennials in India, raises $30M led by YC Continuity – TechCrunch</th>\n",
       "      <td>0.0</td>\n",
       "      <td>0.014179</td>\n",
       "      <td>0.0</td>\n",
       "      <td>0.0</td>\n",
       "      <td>0.0</td>\n",
       "      <td>0.0</td>\n",
       "      <td>0.0</td>\n",
       "      <td>0.0</td>\n",
       "      <td>0.0</td>\n",
       "      <td>0.0</td>\n",
       "      <td>...</td>\n",
       "      <td>0.0</td>\n",
       "      <td>0.0</td>\n",
       "      <td>0.0</td>\n",
       "      <td>0.0</td>\n",
       "      <td>0.0</td>\n",
       "      <td>0.0</td>\n",
       "      <td>0.0</td>\n",
       "      <td>0.0</td>\n",
       "      <td>0.0</td>\n",
       "      <td>0.0</td>\n",
       "    </tr>\n",
       "    <tr>\n",
       "      <th>LanzaTech is developing a small-scale waste biomass gasifier for ethanol production in India – TechCrunch</th>\n",
       "      <td>0.0</td>\n",
       "      <td>0.000000</td>\n",
       "      <td>0.0</td>\n",
       "      <td>0.0</td>\n",
       "      <td>0.0</td>\n",
       "      <td>0.0</td>\n",
       "      <td>0.0</td>\n",
       "      <td>0.0</td>\n",
       "      <td>0.0</td>\n",
       "      <td>0.0</td>\n",
       "      <td>...</td>\n",
       "      <td>0.0</td>\n",
       "      <td>0.0</td>\n",
       "      <td>0.0</td>\n",
       "      <td>0.0</td>\n",
       "      <td>0.0</td>\n",
       "      <td>0.0</td>\n",
       "      <td>0.0</td>\n",
       "      <td>0.0</td>\n",
       "      <td>0.0</td>\n",
       "      <td>0.0</td>\n",
       "    </tr>\n",
       "  </tbody>\n",
       "</table>\n",
       "<p>5 rows × 41838 columns</p>\n",
       "</div>"
      ],
      "text/plain": [
       "                                                     00       000  0000  \\\n",
       "title                                                                     \n",
       "Indian telecom giant Vodafone Idea rebrands as ...  0.0  0.011600   0.0   \n",
       "Facebook addresses political controversy in Ind...  0.0  0.000000   0.0   \n",
       "YouTube launches its TikTok rival, YouTube Shor...  0.0  0.000000   0.0   \n",
       "Groww, an investment app for millennials in Ind...  0.0  0.014179   0.0   \n",
       "LanzaTech is developing a small-scale waste bio...  0.0  0.000000   0.0   \n",
       "\n",
       "                                                    000and  000ft  000km  \\\n",
       "title                                                                      \n",
       "Indian telecom giant Vodafone Idea rebrands as ...     0.0    0.0    0.0   \n",
       "Facebook addresses political controversy in Ind...     0.0    0.0    0.0   \n",
       "YouTube launches its TikTok rival, YouTube Shor...     0.0    0.0    0.0   \n",
       "Groww, an investment app for millennials in Ind...     0.0    0.0    0.0   \n",
       "LanzaTech is developing a small-scale waste bio...     0.0    0.0    0.0   \n",
       "\n",
       "                                                    000mah  000s  000sq  \\\n",
       "title                                                                     \n",
       "Indian telecom giant Vodafone Idea rebrands as ...     0.0   0.0    0.0   \n",
       "Facebook addresses political controversy in Ind...     0.0   0.0    0.0   \n",
       "YouTube launches its TikTok rival, YouTube Shor...     0.0   0.0    0.0   \n",
       "Groww, an investment app for millennials in Ind...     0.0   0.0    0.0   \n",
       "LanzaTech is developing a small-scale waste bio...     0.0   0.0    0.0   \n",
       "\n",
       "                                                    000th  ...  zuoyebang  \\\n",
       "title                                                      ...              \n",
       "Indian telecom giant Vodafone Idea rebrands as ...    0.0  ...        0.0   \n",
       "Facebook addresses political controversy in Ind...    0.0  ...        0.0   \n",
       "YouTube launches its TikTok rival, YouTube Shor...    0.0  ...        0.0   \n",
       "Groww, an investment app for millennials in Ind...    0.0  ...        0.0   \n",
       "LanzaTech is developing a small-scale waste bio...    0.0  ...        0.0   \n",
       "\n",
       "                                                    zurich  zverev  zverevs  \\\n",
       "title                                                                         \n",
       "Indian telecom giant Vodafone Idea rebrands as ...     0.0     0.0      0.0   \n",
       "Facebook addresses political controversy in Ind...     0.0     0.0      0.0   \n",
       "YouTube launches its TikTok rival, YouTube Shor...     0.0     0.0      0.0   \n",
       "Groww, an investment app for millennials in Ind...     0.0     0.0      0.0   \n",
       "LanzaTech is developing a small-scale waste bio...     0.0     0.0      0.0   \n",
       "\n",
       "                                                    zwickau  zwicker  zwicky  \\\n",
       "title                                                                          \n",
       "Indian telecom giant Vodafone Idea rebrands as ...      0.0      0.0     0.0   \n",
       "Facebook addresses political controversy in Ind...      0.0      0.0     0.0   \n",
       "YouTube launches its TikTok rival, YouTube Shor...      0.0      0.0     0.0   \n",
       "Groww, an investment app for millennials in Ind...      0.0      0.0     0.0   \n",
       "LanzaTech is developing a small-scale waste bio...      0.0      0.0     0.0   \n",
       "\n",
       "                                                    zwift  zwifts  zynga  \n",
       "title                                                                     \n",
       "Indian telecom giant Vodafone Idea rebrands as ...    0.0     0.0    0.0  \n",
       "Facebook addresses political controversy in Ind...    0.0     0.0    0.0  \n",
       "YouTube launches its TikTok rival, YouTube Shor...    0.0     0.0    0.0  \n",
       "Groww, an investment app for millennials in Ind...    0.0     0.0    0.0  \n",
       "LanzaTech is developing a small-scale waste bio...    0.0     0.0    0.0  \n",
       "\n",
       "[5 rows x 41838 columns]"
      ]
     },
     "execution_count": 22,
     "metadata": {},
     "output_type": "execute_result"
    }
   ],
   "source": [
    "from sklearn.feature_extraction.text import TfidfVectorizer\n",
    "# import pandas as pd\n",
    "tfidv = TfidfVectorizer(strip_accents='ascii')  # No stop words removed\n",
    "\n",
    "# Assuming 'data' is your DataFrame and 'soup' is the text column you want to analyze\n",
    "tfidv = TfidfVectorizer(strip_accents='ascii', stop_words='english')\n",
    "\n",
    "# Compute the TF-IDF matrix\n",
    "tfidfv_matrix = tfidv.fit_transform(data['soup'])\n",
    "\n",
    "# Create a DataFrame for easier inspection\n",
    "features = pd.DataFrame(tfidfv_matrix.toarray(), columns=tfidv.get_feature_names_out(), index=data['title'])\n",
    "\n",
    "# Display the first few rows of the features DataFrame\n",
    "features.head()\n"
   ]
  },
  {
   "cell_type": "code",
   "execution_count": 23,
   "metadata": {
    "executionInfo": {
     "elapsed": 59796,
     "status": "ok",
     "timestamp": 1738729286907,
     "user": {
      "displayName": "Rokkam Nithin",
      "userId": "10045097081452275412"
     },
     "user_tz": -330
    },
    "id": "4mAY5OfpAd3V"
   },
   "outputs": [],
   "source": [
    "# Applying non matrix factorization to find topics within news\n",
    "from sklearn.decomposition import NMF\n",
    "\n",
    "nmf = NMF(n_components=20)\n",
    "topics = nmf.fit_transform(features)"
   ]
  },
  {
   "cell_type": "code",
   "execution_count": 24,
   "metadata": {
    "executionInfo": {
     "elapsed": 27,
     "status": "ok",
     "timestamp": 1738729286919,
     "user": {
      "displayName": "Rokkam Nithin",
      "userId": "10045097081452275412"
     },
     "user_tz": -330
    },
    "id": "U9ZV9YbkAd3V"
   },
   "outputs": [],
   "source": [
    "# Calculating similarities\n",
    "from sklearn.metrics.pairwise import linear_kernel\n",
    "\n",
    "cosine_sim = linear_kernel(topics, topics)\n",
    "indices = pd.Series(data.index, index = data['title']).drop_duplicates()\n",
    "\n",
    "# Function to get recommendations\n",
    "def get_recommendations(title, no_of_news_article):\n",
    "    # Get the index of the movie that matches the title\n",
    "    idx = indices[title]\n",
    "\n",
    "    # Get the pairwsie similarity scores of all movies with that movie\n",
    "    sim_scores = list(enumerate(cosine_sim[idx]))\n",
    "\n",
    "    # Sort the movies based on the similarity scores\n",
    "    sim_scores = sorted(sim_scores, key=lambda x: x[1], reverse=True)\n",
    "\n",
    "    # Get the scores of the 10 most similar movies\n",
    "    sim_scores = sim_scores[1:no_of_news_article+1]\n",
    "\n",
    "    print(\"Article Read -- \" + data['title'].iloc[idx] +\" link --\"+ data['link'].iloc[idx])\n",
    "    print(\" ---------------------------------------------------------- \")\n",
    "\n",
    "    # Get the new indices\n",
    "    news_indices = [i[0] for i in sim_scores]\n",
    "\n",
    "    # Return the top 10 most similar movies\n",
    "    for i in range(len(news_indices)):\n",
    "        print(\"Recomendation \"+ str(i+1)+\" --- \" +str(news_indices[i])+\"(IDX)  \"+str(data['date'].iloc[news_indices[i]])+\" : \"+\n",
    "              data['title'].iloc[news_indices[i]] +\" || Link --\"+ data['link'].iloc[news_indices[i]] +\" score -- \"+ str(sim_scores[i][1]))\n",
    "        print()"
   ]
  },
  {
   "cell_type": "code",
   "execution_count": 25,
   "metadata": {
    "colab": {
     "base_uri": "https://localhost:8080/",
     "height": 564
    },
    "executionInfo": {
     "elapsed": 25,
     "status": "ok",
     "timestamp": 1738729286919,
     "user": {
      "displayName": "Rokkam Nithin",
      "userId": "10045097081452275412"
     },
     "user_tz": -330
    },
    "id": "7qGnWhbPVf6l",
    "outputId": "846f2b52-343b-46e4-f4c4-cc536764b063"
   },
   "outputs": [
    {
     "data": {
      "image/png": "[encoded data removed]",
      "text/plain": [
       "<Figure size 1000x600 with 1 Axes>"
      ]
     },
     "metadata": {},
     "output_type": "display_data"
    }
   ],
   "source": [
    "import matplotlib.pyplot as plt\n",
    "\n",
    "# Flatten cosine similarity matrix to get all similarity scores\n",
    "cosine_sim_flattened = cosine_sim[np.triu_indices_from(cosine_sim, k=1)]\n",
    "\n",
    "# Plot histogram of cosine similarity scores\n",
    "plt.figure(figsize=(10, 6))\n",
    "plt.hist(cosine_sim_flattened, bins=30, color='skyblue', edgecolor='black')\n",
    "plt.title('Distribution of Cosine Similarity Scores')\n",
    "plt.xlabel('Cosine Similarity')\n",
    "plt.ylabel('Frequency')\n",
    "plt.grid(True)\n",
    "plt.show()\n"
   ]
  },
  {
   "cell_type": "code",
   "execution_count": 26,
   "metadata": {
    "colab": {
     "base_uri": "https://localhost:8080/",
     "height": 563
    },
    "executionInfo": {
     "elapsed": 2256,
     "status": "ok",
     "timestamp": 1738729289153,
     "user": {
      "displayName": "Rokkam Nithin",
      "userId": "10045097081452275412"
     },
     "user_tz": -330
    },
    "id": "WQ4PmR-nVjLB",
    "outputId": "91b9771e-3e6a-4654-a46c-3ca0c754567f"
   },
   "outputs": [
    {
     "data": {
      "image/png": "[encoded data removed]",
      "text/plain": [
       "<Figure size 1000x600 with 1 Axes>"
      ]
     },
     "metadata": {},
     "output_type": "display_data"
    }
   ],
   "source": [
    "def plot_recommendations(title, no_of_news_article):\n",
    "    idx = indices[title]\n",
    "\n",
    "    # Get similarity scores for the specified article\n",
    "    sim_scores = list(enumerate(cosine_sim[idx]))\n",
    "    sim_scores = sorted(sim_scores, key=lambda x: x[1], reverse=True)\n",
    "    sim_scores = sim_scores[1:no_of_news_article+1]\n",
    "\n",
    "    # Get the indices of recommended articles\n",
    "    news_indices = [i[0] for i in sim_scores]\n",
    "    news_titles = data['title'].iloc[news_indices]\n",
    "    news_scores = [score[1] for score in sim_scores]\n",
    "\n",
    "    # Plot top-k recommendations\n",
    "    plt.figure(figsize=(10, 6))\n",
    "    plt.barh(news_titles, news_scores, color='skyblue')\n",
    "    plt.title(f'Top {no_of_news_article} Recommendations for: {data[\"title\"].iloc[idx]}')\n",
    "    plt.xlabel('Cosine Similarity')\n",
    "    plt.ylabel('News Article')\n",
    "    plt.gca().invert_yaxis()  # Invert y-axis for better readability\n",
    "    plt.show()\n",
    "\n",
    "# Example usage: Plot top 5 recommendations for a specific article\n",
    "plot_recommendations('Indian telecom giant Vodafone Idea rebrands as ‘Vi’ – TechCrunch', 5)\n"
   ]
  },
  {
   "cell_type": "code",
   "execution_count": 27,
   "metadata": {
    "colab": {
     "base_uri": "https://localhost:8080/",
     "height": 617
    },
    "executionInfo": {
     "elapsed": 398,
     "status": "ok",
     "timestamp": 1738729289154,
     "user": {
      "displayName": "Rokkam Nithin",
      "userId": "10045097081452275412"
     },
     "user_tz": -330
    },
    "id": "Ed8y1gbwVtbs",
    "outputId": "773db815-891f-4941-e68f-79b8589decdc"
   },
   "outputs": [
    {
     "data": {
      "image/png": "[encoded data removed]",
      "text/plain": [
       "<Figure size 1200x600 with 1 Axes>"
      ]
     },
     "metadata": {},
     "output_type": "display_data"
    }
   ],
   "source": [
    "# Convert 'date' to pandas datetime and handle the timezone\n",
    "data['date'] = pd.to_datetime(data['date'], utc=True, errors='coerce')\n",
    "\n",
    "# Now, proceed with the rest of the code\n",
    "mean_cosine_sim = np.mean(cosine_sim, axis=1)\n",
    "data['mean_cosine_sim'] = mean_cosine_sim\n",
    "\n",
    "# Group by date and calculate mean similarity score for each day\n",
    "date_similarity = data.groupby(data['date'].dt.date)['mean_cosine_sim'].mean()\n",
    "\n",
    "# Plot the results\n",
    "plt.figure(figsize=(12, 6))\n",
    "plt.plot(date_similarity.index, date_similarity.values, marker='o', color='b', linestyle='-', markersize=4)\n",
    "plt.title('Mean Cosine Similarity Scores by Date')\n",
    "plt.xlabel('Date')\n",
    "plt.ylabel('Mean Cosine Similarity')\n",
    "plt.xticks(rotation=45)\n",
    "plt.grid(True)\n",
    "plt.show()\n"
   ]
  },
  {
   "cell_type": "markdown",
   "metadata": {
    "id": "BpWtPHTCTLD4"
   },
   "source": [
    "Getting the Recommendations of the 1st Title"
   ]
  },
  {
   "cell_type": "code",
   "execution_count": 28,
   "metadata": {
    "colab": {
     "base_uri": "https://localhost:8080/"
    },
    "executionInfo": {
     "elapsed": 392,
     "status": "ok",
     "timestamp": 1738729289154,
     "user": {
      "displayName": "Rokkam Nithin",
      "userId": "10045097081452275412"
     },
     "user_tz": -330
    },
    "id": "jnQkyFgUMI_l",
    "outputId": "396828be-47ef-40cc-f68c-c5b3efd8f695"
   },
   "outputs": [
    {
     "name": "stdout",
     "output_type": "stream",
     "text": [
      "['Indian telecom giant Vodafone Idea rebrands as ‘Vi’ – TechCrunch', 'Facebook addresses political controversy in India, monetization opportunities, startup investments – TechCrunch', 'YouTube launches its TikTok rival, YouTube Shorts, initially in India – TechCrunch', 'Groww, an investment app for millennials in India, raises $30M led by YC Continuity – TechCrunch', 'LanzaTech is developing a small-scale waste biomass gasifier for ethanol production in India – TechCrunch', 'Facebook announces $4.3 million grant for small businesses in India, introduces support for gift cards – TechCrunch', 'Indian e-commerce deals site CashKaro gets $10 million Series B led by Korea Investment Partners – TechCrunch', 'Virtual events platform Airmeet raises $12M – TechCrunch', 'Indian decacorn Byju’s CEO talks about future acquisitions, coronavirus and international expansion – TechCrunch', 'Silver Lake leads $500 million investment round in Indian online learning giant Byju’s – TechCrunch', 'Oracle boots out Microsoft and wins bid for TikTok, reports say – TechCrunch', 'Ambani’s Reliance Retail to raise $1 billion from Silver Lake – TechCrunch', 'Committing to a fully zero-emission fleet by 2040, Uber is dedicating $800 million to electrifying its drivers – TechCrunch', 'China may kill TikTok’s US operations rather than see them sold – TechCrunch', 'Announcing the Startup Battlefield companies at TechCrunch Disrupt 2020 – TechCrunch', 'Google’s new ‘Verified Calls’ feature will tell you why a business is calling you – TechCrunch', 'TikTok hits 100M users in Europe as the clock ticks on its US business – TechCrunch', 'LanzaTech eyes two more spin-off companies – TechCrunch', 'N95 masks could soon be rechargeable instead of disposable – TechCrunch', 'How one VC firm wound up with no-code startups as part of its investing thesis – TechCrunch', \"Facebook Routinely 'Ignored' Efforts to Manipulate Elections Across the Globe: Whistleblower\", 'Oh Crap, Major UN Climate Study Finds', \"Fitbit Sense's ECG App Is Now FDA-Cleared, Just Like the Apple Watch\", \"Google's Taking on Robocallers With a New Kind of Caller ID\", 'Pearls Are a Boy’s Best Friend', 'Finding a Place for Third-Culture Kids in the Culture', 'Resourceful robot can wheel up trees to cut down coconuts', \"Charli D'Amelio joins Triller, TikTok's rival app\", 'YouTube officially announces TikTok competitor, YouTube Shorts', 'Jack ‘Murph the Surf’ Murphy, Heist Mastermind, Dies at 83', 'Coronavirus: India overtakes Brazil in Covid-19 cases', 'India start-ups flounder as tensions with China rise', 'England v Australia: Eoin Morgan & Jason Roy fit for ODI series', 'Coronavirus: Who would get the vaccine first?', 'Two decades after 9/11, terror has morphed (Opinion)', \"India's coronavirus infections top five million mark\", 'India-China dispute: China returns five missing Indian nationals', 'How India and China bought peace - for now', 'Sergio Perez to leave Racing Point at end of year with Sebastian Vettel expected replacement', 'Sweeping internal Facebook memo: “I have blood on my hands”', 'Celebrate International Literacy Day with Read Along', 'Say hello to safer phone calls', 'Google supports COVID-19 AI and data analytics projects', 'RPT-India fwd/annualised dlr premia-Sep 10', 'Morning News Call - India, September 14', 'Morning News Call - India, September 11', \"India's parliament meets after six months as COVID cases surge\", 'Indian government to infuse $2.72 billion in state-run banks', 'RPT-Asia Rice-India prices hit 1-1/2-yr peak as virus strains export logistics', 'India plans to restrict copper, aluminium imports with an eye on China - sources', 'Global coronavirus deaths hit 900,000 as cases surge in India', \"India August inflation seen above RBI's target range: Reuters poll\", \"DCGI orders suspension of Serum's India trials of AstraZeneca's COVID-19 vaccine - ANI\", 'India to maintain sugar export subsidies for third year in a row: sources', \"Bollywood actor Sushant Singh Rajput's death grips India with frenzied TV coverage\", 'India passenger vehicle sales up 14% in August - industry body', 'Onion prices spike in Bangladesh after India bans exports', 'India says China laying cables to bolster communications at border flashpoint', 'U.S. happy to help in China-India border dispute, Trump says', 'Serum Institute says India trials of COVID-19 vaccine ongoing', 'India rice prices hit 1-1/2-year peak as virus strains export logistics', 'Oxygen grows scarce in some parts of India as coronavirus cases rise', 'Forecasts of heavy rains raise fear for summer crops in India', 'India bans onion exports as prices treble in a month', 'Graphic: Asian stocks see heavy outflows in August, except for India', 'India overtakes Brazil in coronavirus infections, some rail services resume', 'India, China foreign ministers agree to quickly disengage border troops', 'China, India agree to disengage troops on contested border', 'India and China made a useful decision on de-escalation at border, says Russia', 'India reports record daily jump of 95,735 coronavirus cases', 'United to add new direct U.S. flights to Africa, India, Hawaii', '路透中文网', 'Serum Institute gets approval to resume India trial of AstraZeneca COVID vaccine: source', 'Serena Williams v Victoria Azarenka', 'Australia in England 2020 Scoreboard', 'English Domestic Twenty20 Competition Scoreboard', 'LPGA Tour ANA Inspiration Scores', 'PGA Tour Safeway Open Scores', 'La Liga talking points', 'Top Photos of the Day', 'Golf: Daly diagnosed with bladder cancer', 'Osaka wins U.S. Open to confirm status as new star', 'Motorcycling: Rossi quashes retirement talk', 'European Tour Portugal Masters Scores', \"Factbox: Ronaldo's Portugal career\", 'Jennifer Brady v Naomi Osaka', 'Global smartphone shipments tanked by 20.4 percent due to the pandemic', 'Nintendo is bringing the Switch to Brazil at last', 'Tech Workers Are Living the American Dream—in Canada', 'Solar Panels Are Starting to Die, Leaving Behind Toxic Trash', 'Inside the Sprint to Map the Asian Giant Hornet Genome', 'Facebook plans to expand its news tab beyond the US', 'Facebook’s big QAnon crackdown might have come too late', 'Top Facebook executive in India files criminal complaint against a journalist for sharing news report – TechCrunch', 'India’s Reliance Retail acquires a majority stake in online pharmacy Nedmeds’ parent firm for $83.2M – TechCrunch', 'After restricting a group critical of Thailand’s monarchy, Facebook says it will take legal action against the government – TechCrunch', 'Taiwan set to bar Chinese streaming services like iQiyi and Tencent’s WeTV – TechCrunch', 'India’s logistics SaaS startup FarEye bags $13 million – TechCrunch', 'Daily Crunch: Apple hits $2 trillion market cap', 'Attending a remote startup accelerator is absolutely worth it – TechCrunch', 'Triller threatened to sue over report suggesting it inflated its downloads – TechCrunch', 'Here are four areas the $311 billion CPPIB investment fund thinks will be impacted by COVID-19 – TechCrunch', 'Five proven ways to attract and hire more diverse talent – TechCrunch', 'Here are the 94 companies from Y Combinator’s Summer 2020 Demo Day 2 – TechCrunch', 'The Climate Disasters We Ignore Today Will Eventually Come for Us', 'Use This Online Tool to Find Out If You Can Vote by Mail Right Now', 'Private Infighting Roils Owners of Washington N.F.L. Team', 'Student avatars collect diplomas in VR graduation ceremony', \"'Tenet' reviews are in. Here's what the critics are saying.\", 'The ‘Rage Moms’ Democrats Are Counting On', 'Kamala Harris Tests America’s Relationship to Women in Power', 'Review: ‘The Vow’ Follows Nxivm Down Dark, Damaging Paths', 'Gunjan Saxena: India female pilot’s war biopic flies into a row', 'Coronavirus: Youthful Pakistan appears to avoid worst of pandemic', \"What Kamala Harris' Indian roots reveal about the US\", 'Russia says coronavirus vaccine trials to move forward with 40,000 people', 'The week in 41 photos', \"California fires: Firefighters say they're struggling, and more lightning could make everything worse\", \"Coronavirus restrictions 'severely hampering' South Asia flood relief\", 'Kamala Harris speech: What was the verdict on how she did?', 'TikTok to launch legal action against Trump over ban', 'The sound of India’s AI potential', 'India COVID-19 cases near 3 million as Ganesh Chaturthi in Mumbai approaches', 'Morning News Call - India, August 18', 'India state government securities issued in 2020/21', 'Morning News Call - India, August 24', 'Morning News Call - India, August 21', 'India Ratings for Indian debt instruments – Aug 18', 'Transforming Reuters.com', 'MEDIA-India begins talks with e-commerce firms to promote local products - Mint', 'MEDIA-Google in talks to invest in India app ShareChat - Economic Times', 'Take Five: Impasse!', 'Former India opener Chauhan dies aged 73 after COVID complications', 'India urges auto companies to cut royalties to foreign parents - sources', 'India plans deep cut in thermal coal imports in coming years', 'India rice prices rise as exporters grapple with floods, coronavirus', 'RPT-Asia Rice-India prices rise as exporters grapple with floods, coronavirus', \"Explainer: Thailand's anti-government protests\", 'Alibaba beats estimates as pandemic fuels online, cloud computing demand', 'Column: Megacities after coronavirus', 'Nordstrom quarterly sales plunge 53%', 'UPDATE 6-Pakistan in England 2020 Scoreboard', 'JD.com beats quarterly revenue estimates', 'Graphic: Remembering the Rohingya exodus', 'European Tour Wales Open Scores', 'Global coronavirus deaths exceed 800,000', \"Factbox: AstraZeneca's potential coronavirus vaccine\", 'Russian rouble weakens towards 74 vs dollar', 'Golf: LPGA drops Kia Classic from 2020 schedule', 'UK online job adverts slip back in mid-August, ONS says', \"Inter are world class, says Sevilla's Lopetegui\", \"UPDATE 3-Democratic convention closing night draws event's biggest TV audience\", \"MEDIA-India's Adani Group to buy 74% stake in Mumbai International Airport - Business Standard\", 'Johnson romps to 11 shot win at Northern Trust', 'UPDATE 2-TJX forecasts current-quarter comparable sales to drop up to 20%', 'What you need to know about the coronavirus right now', 'UPDATE 2-John Laing posts loss as COVID-19 fallout hits asset values', 'Returning home, Venezuelans face accusations of spreading COVID-19', 'UPDATE 3-Antofagasta earnings dive 22% on weaker copper, keeps dividend', \"F1's engine mode changes to be delayed to after Belgium\", 'Global equities, dollar edge up on U.S. business uptick', 'U.S. House Speaker Pelosi says she opposes smaller coronavirus relief bill', \"BRIEF-Tasly Pharmaceutical's H1 Net Profit Down 23.7% Y/Y\", 'UPDATE 1-Indonesia faces struggle to avoid recession, finmin says', 'Ryanair cuts September, October capacity by 20% on weak bookings', \"UPDATE 1-Hungary's govt and Rheinmetall to produce armored fighting vehicles in Hungary\", \"UPDATE 1-Australia's Coles net profit rises on virus-related stockpiling\", \"UPDATE 1-Australia's Lynas posts annual loss, to raise capital to build local facility\", 'Home Depot posts record sales as demand for DIY products surges', 'Homebuilder Persimmon reinstates dividend after strong start to second-half', \"FEATURE-'What if I die?': Coronavirus hits India's tuberculosis care\", 'Manchester United punished as old frailties at both ends return', 'UPDATE 1-Bahrain ends mandatory self-isolation for all arrivals', \"UPDATE 1-NZ's Auckland Airport nixes dividend, profit slumps on virus hit\", 'BHP falls short of expected profit, warns of slowing growth outside China', \"'COVID generation' risks child marriage, forced labour, ex-leaders warn\", 'REFILE-Boskalis sees steady full-year profit, restarts share buyback', \"Australia's CSL eyes COVID-19 vaccine by mid-2021 as it beats profit forecast\", 'UPDATE 1-Wintershall expects to turn cash positive by end of year', \"UPDATE 1-Malaysia's AirAsia posts loss as revenue tumbles, but business 'stabilised'\", \"UPDATE 1-UK's DFS Furniture says performing significantly ahead of expectations\", 'UPDATE 1-Debt collector Arrow Global swings to first-half loss', \"What's on TV this week: 'Mulan,' 'The Boys,' 'Tony Hawk' and 'NBA 2K21'\", 'How Facebook’s new election rules sidestep the real problem', 'What Facebook should do about its Kenosha problem', 'India bans PUBG Mobile, and over 100 other Chinese apps – TechCrunch', '3one4 Capital launches $100M fund to back early-stage startups in India – TechCrunch', 'India’s Zomato raises $62 million from Temasek – TechCrunch', 'Chan Zuckerberg Initiative backs Indian education startup Eruditus in $113 million fundraise – TechCrunch', 'How to craft the right pitch deck for your company at Disrupt 2020 – TechCrunch', 'Netflix makes some movies and shows free worldwide to non-subscribers – TechCrunch', 'Dear Sophie: Can we sponsor an H-1B university researcher for an EB-1B green card? – TechCrunch', 'Cosmose, a platform that analyzes foot traffic in physical stores, gets $15 million Series A – TechCrunch', 'Facebook to block new political ads 1 week before Nov 3, adds more tools and rules for fair elections – TechCrunch', 'As it awaits its US fate, TikTok rolls out new marketing tools and Stitch to let users sample other videos – TechCrunch', \"India Blocks 118 More China-Linked Apps, Including PlayerUnknown's Battlegrounds\", \"Netflix's New Free-To-Watch Gambit Comes With A Very Dumb Catch\", \"Russia's Sputnik V Vaccine Shows Promise in Early Trial—But We Don't Know Yet if It Really Works\", 'A Plan to Cool Us Down Without Burning Up the Planet', 'Twitter to start explaining why its trending section is such a nightmare', 'These wildlife photography finalists will take your breath away', 'Pranab Mukherjee, Indispensable Man of Indian Politics, Dies at 84', 'The trailblazing first woman lawmaker of India', 'Pranab Mukherjee: Former president of India dies after Covid diagnosis', 'Drinking bans are back in fashion during the Covid pandemic. But experts are wary of Prohibition 2.0', \"India accuses China of 'provocative military movements' at border\", \"India NEET, JEE: Furious students begin taking 'life-changing' exam\", 'England v Australia: Joe Root left out of Twenty20 squad', 'Meet GW190521—a black-hole merger for the record books', 'A big step for flood forecasts in India and Bangladesh', 'How retailers can get ready for the holidays and beyond', 'Morning News Call - India, September 2', 'Morning News Call - India, September 1', \"India bans Tencent's PUBG app as takes aim at China tech\", 'Morning News Call - India, August 31', 'LPGA Rankings', 'World Rankings', 'Gold price dip lures some buyers in India, demand sags elsewhere', 'Indian and Chinese defence ministers set for meeting in Moscow over border row', 'India coronavirus infections near 4 million, closes in on Brazil', 'Tencent shares fall over 2% after India bans PUBG game, other mobile apps', \"China can make India suffer 'severe' military losses - Global Times\", 'Malaysia to bar long-term pass holders from India, Indonesia, Philippines', \"Walmart's Flipkart starts wholesale e-commerce service in India\", \"Tibetan soldier's death near tense India-China border sheds light on covert unit\", \"Twitter confirms account of PM Modi's personal website hacked\", 'India open to raising duties on auto imports to boost local production', 'China strongly opposes India banning Chinese mobile apps: commerce ministry', \"Gamers left reeling as India pulls plug on Tencent's PUBG in China spat\", 'China planning building spree in Tibet as India tensions rise, sources say', 'Pakistan in England 2020 Scoreboard', 'India, China trade border accusations', 'India, China troops in another border escalation', 'U.S. Open day three', 'Karate Combat signs distribution deal', 'Tennis: U.S. Open day one', 'Sumit Nagal v Dominic Thiem', 'Keys continues Flushing Meadows sprint', 'BRIEF-Aurisco Pharmaceutical Files Prospectus For Shanghai IPO', 'REFILE-S.Korea Aug inflation hits 5-month high as fresh food prices soar', 'UPDATE 1-Mexican crude oil output slips to record low in July', 'UPDATE 1-Golf-Rahm secures playoff win at Olympia Fields with 66-foot putt', \"'Hands off the children': masked men arrest protesting Belarusian students\", \"RPT-Second U.S. shale boom's legacy: Overpriced deals, unwanted assets\", \"UPDATE 1-One-off costs tip Greece's Eurobank to first-half loss\", \"U.S. dollar's woes are only beginning, some bears say\", 'Syria says two killed, seven wounded in Israeli missile attack', \"UPDATE 1-Fitch upgrades Brazil's miner Vale, estimates $2 billion in dividends\", 'England scrape win in Iceland after late penalty drama', \"CORRECTED-Twitter account of India PM Modi's personal website apparently hacked\", 'UPDATE 1-Couche-Tard profit beats on higher grocery demand, lower fuel costs', 'UK says always reviewing quarantine data, no comment on Portugal shift', 'Suga seen top contender in Japan PM race as ruling party plans slimmed-down vote', 'Saudi king sacks two royals under defence corruption probe', \"ADVISORY-Technical issues with event featuring Fed's Clarida\", \"Netflix, Russia's NMG group team up for fully Russian service\", 'Stocks rally on recovery, stimulus hopes; dollar gains', 'Sushi with a side of muscles', \"Hamilton predicts qualifying 'nightmare' at Monza\", 'Rockets fall near Baghdad airport, no casualties', \"India's COVID-19 cases top global rank as more of economy opens\", 'Brazil reports 566 coronavirus deaths on Sunday', 'Presenting TechCrunch Disrupt’s Asia sessions – TechCrunch', 'Meet the startups from Brinc’s first online Demo Day – TechCrunch', 'Pet Monkeys Brought to Ancient Egypt Were Buried With Sea Shells and Other Trinkets', '5 Art Accounts to Follow on Instagram Now', 'And now Triller is trying to buy U.S. TikTok, report claims', 'U.S. Coronavirus Cases Top 6 Million', 'Shinzo Abe: Revisionist nationalist or pragmatic realist?', \"How Shinzo Abe's exit could threaten regional stability and Japan's alliance with the US (Opinion)\", 'India coronavirus: Covid strikes remote Greater Andamanese tribe', \"India NEET, JEE exams: 'Conducting these exams will be a giant mistake'\", \"'They wanted to drown me at birth - now I'm a poet'\", 'Morning News Call - India, August 26', 'Morning News Call - India, August 27', 'Morning News Call - India, August 28', 'Exclusive: Alibaba puts India investment plan on hold amid China tensions - sources', 'RPT-Asia Rice-More takers for cheaper India offers even as floods hit supply', 'PGA Tour BMW Championship Scores', 'UPDATE 2-English Domestic Twenty20 Competition Scoreboard', 'Factbox: U.S. Open in numbers', \"BRIEF-BGI Genomics' H1 Net Profit Up 734.2% Y/Y\", 'Argentines hoping for Messi-Guardiola reunion at City', \"UPDATE 1-Chinese vaccine maker's coronavirus program with Canada ends\", \"Medical equipment group Elekta's profit jumps despite pandemic problems\", 'Exiled news service started by teen blogger becomes big source of Belarus news', 'UPDATE 1-Electric car maker BYD says profits up as becomes leading mask maker', \"Australia's Woolworths says virus hits pubs, boosts supermarkets\", 'Gap posts surprise rise in comparable sales as Old Navy, Athleta boost online demand', 'UPDATE 3-Lebanon c. bank urges banks to recapitalise, repatriate funds', 'Afterpay adds Asia to expansion plans as online shopping surges', \"UPDATE 1-S.Africa's Adcock Ingram scraps dividend on weak outlook\", 'Salesforce raises 2021 revenue forecast on remote work boost, shares jump', \"Ping An Insurance to be 'extremely cautious' in second half amid virus rebound fear\", \"China Baosteel's H1 net profit tumbles, hurt by coronavirus, rising iron ore prices\", \"Penpix of the top women's contenders at the U.S. Open\", \"Brazil's Pantanal, world's largest wetland, burns from above and below\", 'Norwegian Air aims to secure more cash this year as losses balloon', \"UK's Sunak considers sweeping tax hikes to plug COVID-19 hole, newspapers say\", 'U.S. consumer confidence at six-year low; underscores concerns about economic recovery', 'Statistics for the Belgian Formula One Grand Prix', 'Pompeo discusses Libyan conflict, Iran with UAE counterpart', \"Australia's Harris joins Delhi Capitals as bowling coach\", 'CRISIL ratings for Indian debt instruments-Aug 25', \"Fed's Bowman sees slow, uneven recovery ahead\", 'Chelsea sign defender Chilwell on five-year contract', 'Wall Street’s record run goes unchallenged', 'Police arrest 64 in Louisville anti-racism protests', \"U.S. slams Turkey's Erdogan for hosting Hamas\", 'Salesforce beats quarterly revenue estimates on online demand', \"Anderson's ascension to greatness confirms Larsen's prediction\", 'Tunisia premier designate names a technocratic government', 'Hong Kong to ease some coronavirus measures starting on Friday', 'Fastest man alive tests positive for coronavirus', 'Breakingviews - India Insight: Ambani, a maverick Rockefeller', 'PRESS DIGEST- Financial Times - Aug. 26', 'Hurricane Laura takes aim at Houston', \"Cricket: 'Buck' Rogers named new coach of Victoria\", 'Honda goes small with first mass-produced all-electric car', \"Ajax's Blind 'feeling fine' after collapsing during game\", 'Spanish police arrest pandemic-denier for inciting hatred', 'Chelsea sign former PSG centre back Thiago Silva', 'GoPro launches live streaming service for premium subscribers', 'Breakingviews - TikTok starts to attract a FOMO premium', 'Exclusive: Sanofi more confident about its coronavirus vaccines', \"Facebook removes 'Kenosha Guard' page following shooting\", \"Parma name Liverani as coach to replace D'Aversa\", \"'Operational mistake' not to remove militia page -Facebook\", 'Pakistan jails three men linked to group accused of Mumbai attack', 'Broadcaster threatens to end contract with Cricket Australia', 'Trump administration halts election security briefings, Democrats complain', \"Why are People Selling 'Fortnite' iPhones for Thousands of Dollars?\", 'How to Get Free Admission to National Parks on August 25', \"What to Know About the CDC's 14-Day Quarantine Travel Policy\", 'Consider Camping at Wineries and Farms (With Permission)', 'Record Your Pandemic Stories for the New York Public Library', 'How To Use Any DSLR as a Webcam', 'Prepare Now for a Long Winter', 'How to Submit Your Mail-in Ballot Without Using the USPS', \"What's Coming to HBO Max in September 2020\", 'Stop Partying in Your Airbnb', 'Should You Buy College Tuition Insurance?', 'Why You Should Renew Your Passport Right Now', 'How to Prevent Getting Lost at the Airport', 'How to Qualify for Paid Leave If Schools Close Again', 'Bluetooth update could turn wearables into COVID-19 trackers', 'Germany to probe whether Amazon influenced prices during the pandemic', \"Alphabet's Verily begins offering stop-loss health insurance\", 'MIT researchers use radio signals to detect everyday household activities', 'YouTuber’s DIY gun shoots masks onto people’s faces', \"Watch the first trailer for Gillian Flynn's Amazon series 'Utopia'\", 'FBI and CISA warn against surge in voice phishing campaigns', \"Anova's $600 convection-steam combo oven is finally available to order\", \"Covid Hits Minorities Hardest, but Data Often Doesn't Show It\", 'A Rocket Scientist’s Love Algorithm Adds Up During Covid-19', '97,000 People Got Convalescent Plasma. Who Knows if It Works?', 'A Postal Slowdown Is Scary for Those Who Get Meds By Mail', 'The YOLOers vs. Distancers Feud Is Tearing Us Apart', 'The First Repeat Covid-19 Infection Case Isn’t All Bad News', \"The FDA Just OK'd Emergency Use of Plasma for Covid-19\", 'The Dangers of Seeing the World Through Ubiquitous Video', 'What to Know Before Sending Your Kids Back to School Online', 'How Animal Activists Exposed the Brutality of Factory Farming', '‘Real’ Programming Is an Elitist Myth', 'How the Pandemic Reshaped Election Campaigns—Maybe Forever', 'Google Expands Its Fire-Tracking Tools—and Just in Time', \"The FDA's Approach to Covid-19 Is a Bloody Mess\", \"California's Wildfire and Covid-19 Disasters Just Collided\", 'New Data on How Many Kids Got That Covid Mystery Illness', 'How to Prevent and Treat Face Mascne', 'Skewed Grading Algorithms Fuel Backlash Beyond the Classroom', 'The DNC Is the Best Zoom Meeting of 2020—So Far', 'Deathloop and The Stanley Parable: Ultra Deluxe are the latest games to get delayed to 2021', 'Netflix is re-creating iconic Stranger Things sets in LA, and you can drive your car through them', 'World Health Organization advises kids 12 and older should wear masks to prevent coronavirus spread', 'Go read this investigation into a flawed contact-tracing app used by one US college', 'This giant glowing orb is the world’s first floating Apple Store', 'Facebook purges 790 QAnon groups as the fringe conspiracy movement keeps growing', 'What we listen to while working from home', 'Despite COVID-19, 5 Chicago VCs say region is poised for success – TechCrunch', 'Learn how COVID-19 has disrupted the startup world – TechCrunch', 'Anu Duggal on COVID-19, promoting diversity and building a fund – TechCrunch', 'Bluetooth SIG works to include wearables in COVID-19 exposure notification systems – TechCrunch', 'Tune in today to discuss COVID-19’s impact on the startup world – TechCrunch', 'Mastercard acquired and shut down IfOnly, an experiences marketplace hit by COVID-19 – TechCrunch', 'COVID-19 pandemic accelerated shift to e-commerce by 5 years, new report says – TechCrunch', 'Austin’s Fox Robotics raises a $9M Series A for its robotic forklifts – TechCrunch', 'Quell’s resistance-based workout can get you in shape by boxing virtual enemies – TechCrunch', 'Twitter hides Trump tweet behind notice for potentially dissuading people from voting – TechCrunch', 'A pandemic and recession won’t stop Atlassian’s SaaS push – TechCrunch', 'Zoom UX teardown: 5 fails and how to fix them – TechCrunch', 'Palantir moves its HQ from Palo Alto to Denver as plans to go public percolate – TechCrunch', 'Carbon Health’s Eren Bali and Color’s Othman Laraki will join us at Disrupt 2020 – TechCrunch', 'As the pandemic creates supply chain chaos, Craft raises $10M to apply some intelligence – TechCrunch', 'Visual collaboration startup MURAL raises huge $118M Series B – TechCrunch', 'Fearing coronavirus, a Michigan college is tracking its students with a flawed app – TechCrunch', 'Calling Paris VCs: Be featured in The Great TechCrunch Survey of European VC – TechCrunch', 'The ‘right’ way to downsize – TechCrunch', 'Why is cloud revenue growth so slow if the digital transformation is accelerating? – TechCrunch', 'JD.com’s 1-year-old health unicorn to get $830M from Hillhouse – TechCrunch', 'Attabotics raises a $50M Series C for its warehouse fulfillment robots – TechCrunch', 'Daily Crunch: SpaceX raises $1.9 billion – TechCrunch', 'Patient engagement startup raises $15 million from Google’s Gradient Ventures – TechCrunch', 'Connected Roombas get smarter with iRobot’s ‘Genius’ update – TechCrunch', 'Restaurant rewards booking app Seated nabs $30M, acquires VenueBook to add events – TechCrunch', 'InfraDigital helps Indonesian schools digitize tuition and enrollment – TechCrunch', 'Airbnb has confidentially filed to go public – TechCrunch', 'MIT wireless system can monitor what care facility residents are doing while preserving privacy – TechCrunch', 'New Zendesk dashboard delivers customer service data in real time – TechCrunch', 'Amazon will add 3,500 tech and corporate jobs across six US cities – TechCrunch', 'Hear how to scale to $100M ARR at Disrupt 2020 – TechCrunch', 'Cobalt.io grabs $29M Series B to continue building out pentesting platform – TechCrunch', 'Exo raised $40 million for its handheld medical imaging device – TechCrunch', 'Canalys: Google is top cloud infrastructure provider for online retailers – TechCrunch', 'AutoX launches its RoboTaxi service in Shanghai, competing with Didi’s pilot program – TechCrunch', 'Movable Ink raises $30M as it expands its personalization technology beyond email marketing – TechCrunch', 'Target sets sales record in Q2 as same-day services grow 273% – TechCrunch', 'Five real reasons to attend Disrupt 2020 online – TechCrunch', 'Twitter claims increased enforcement of hate speech and abuse policies in last half of 2019 – TechCrunch', 'PadSplit uses the Airbnb model to tackle the country’s affordable housing crisis – TechCrunch', 'Author and former professional poker player Annie Duke on how conspiracy theories gain ground – TechCrunch', 'At the first-ever virtual DNC, Democrats play it safe – TechCrunch', 'The journey of a kids book startup that tackles topics like racism, cancer and divorce – TechCrunch', 'A requiem for The Creamery – TechCrunch', 'The Station: Polestar 2 drive, Tesla splits and a chat with Motional’s Karl Iagnemma – TechCrunch', 'The Station: Canoo paddles into the SPAC current and the next threat to micromobility – TechCrunch', 'The Biggest Unanswered Questions About a Covid-19 Vaccine', 'Covid-19 Just Passed Another Horrible Milestone in the U.S.', 'Take a Free Course on COVID-19 From MIT', \"No, COVID Deaths Aren't 'Only 6%' of What's Documented\", 'Is There an Optimal Time to Get Your Flu Shot This Year?', 'Clear Your Sinuses in 20 Seconds by Pushing on Your Face', \"It's Okay to Say No to Fantasy Sports\", 'How to Estimate How Much Money Is in Your Change Jar', 'Virtually Visit Black Lives Matter Street Art', \"Where to Stream Chadwick Boseman's Top Movies Online\", 'How to Pick Your First Strap-on Harness', 'What to Know About Voter Registration and Types of Voting', \"Saturday's Best Deals: JACHS NY Henleys, Power Generators, Kids-Sized Mask Packs, and More\", \"GoPro's Hero 9 Black might include a color front screen for vloggers\", \"CBS pads its fall lineup with 'Star Trek: Discovery' and 'One Day at a Time'\", 'Facebook and Instagram reveal content ‘recommendation guidelines’', \"Motorola's latest mid-range phone is a sub-$500 stunner with 5G\", 'The Morning After: Sony will directly invite some gamers to pre-order the PS5', \"What you need to know about Apple's iPhone 12 and 12 Pro\", 'How to buy a gaming laptop', 'How WeChat Censored the Coronavirus Pandemic', 'I Was a Floating Head at an NBA Game. It Gets Weirder', 'Turns Out Late Night Talk Show Hosts Are Just Like Us', 'The Pandemic Could Derail a Generation of Young Scientists', 'Netflix’s Altered Carbon has been canceled after two seasons', 'How to vote by mail in the 2020 Presidential elections', 'A case of coronavirus reinfection shows the complexities of the pandemic', 'They were incarcerated firefighters, now they want to change how California fights fires', 'How Japanese rock star Miyavi performs in a world without live music', 'COVID-19 is driving demand for low-code apps – TechCrunch', 'After early-COVID layoffs, Hipcamp is buying competition, hiring – TechCrunch', 'Mobile voting can ease polling place unease in the COVID-19 era – TechCrunch', 'IFA’s executive director discusses why the tech show must go on – TechCrunch', 'Amazon opens its first Amazon Fresh physical grocery store, in LA – TechCrunch', 'The pandemic has probably killed VR arcades for good – TechCrunch', 'Hear from Lyft, Cruise, Nuro and Aurora about the road ahead for driverless vehicles – TechCrunch', 'Berbix raises $9M for its identity verification platform – TechCrunch', 'LG is releasing a ‘wearable air purifier’ – TechCrunch', 'Samsung is holding another Unpacked event next week for the Galaxy Z Fold 2 – TechCrunch', 'Restream raises $50M to help creators program and stream to multiple platforms – TechCrunch', 'Walmart-exclusive TrillerTok will run on Azure, or Oracle, or something – TechCrunch', 'The H-1B visa ban is creating nearshore business partnership opportunities – TechCrunch', 'Walmart expresses interest in TikTok, teaming up with Microsoft – TechCrunch', 'Facebook partially documents its content recommendation system – TechCrunch', \"Man Who Famously Died From Covid Says Covid Isn't Very Deadly\", \"In Baffling Reversal, CDC Now Says You Don't Need a Covid-19 Test If You Don't Have Symptoms\", 'Fauci: I Was Having Surgery When Task Force Discussed Watering Down CDC Testing Guidelines', 'Nevada Man Hospitalized After Apparent Coronavirus Reinfection', 'The CDC Sort of Clarifies Its New Testing Guidelines', \"'The Trifecta of Disasters' : This Black-Owned Business in New Orleans Survived Hurricane Katrina and the BP Oil Spill. Now It's Facing Covid-19\", 'Social Distancing Is a Lot More Complicated Than Staying 6 Feet Apart', 'Fitbit Just Pulled Several Miracles Out of Its Ass With Its New Wearable Lineup', 'Beyond Meat Is Now Offering Direct Sales Online', \"Portland's Most Famous Bookstore Will No Longer Sell Books on Amazon\", 'More Like Republican Novel Corona-vention, Am I Right Folks? Haha. Oh My God This Is Going to Get Someone Killed', 'Have We Reached Peak Smartwatch?', 'What Will Post-Coronavirus Social Life Really Be Like?', \"Fitbit Just Made a Wildly Advanced Smartwatch That I'm Finally Excited About\", \"LG's New Wearable Air Purifier Is What George Jetson Would Wear in the Bad Timeline\", \"Developers Can Now Formally Challenge Apple's App Store Rejections\", 'Evacuations Underway as Hurricane Laura Beelines for Louisiana and Texas', 'Hidden Code on the Disney+ Site Suggests a Watch Party Feature Is Coming', 'Climbing Mount Everest Has Gotten Easier, Study Finds', \"America's Nice Guy Finally Says 'Fuck You' to Trump Supporters on Twitter\", \"New Orleans' Lower Ninth Ward Is a Food Desert—But Residents Are Bringing It Back to Life\", 'California Moves Toward Easing Coronavirus Restrictions on Business', 'China Locks Down Xinjiang to Fight Covid-19, Angering Residents', 'A Doctor Asks: Is Covid Scaring Us Away From Our Humanity?', 'R.N.C. Revives a Trump Persona: Reality-TV Prize Giver', 'How a Veterinarian Spends Her Sundays', 'I Don’t Know If My Relationship Will Survive the Pandemic', 'MTV Video Music Awards: 6 Memorable Moments', 'Coronavirus Briefing: What Happened Today', 'Director of a Storied Paris Theater Is Fired', 'Opinion | The Conventions Hit Closer to Home This Year', 'R.N.C. Begins, Masks (and Sometimes Facts) Optional', 'The Impeachment Battle Rematch That Wasn’t', 'Why Trash Is Piling Up at N.Y.C. Parks', 'Trash Piles Up in Parks, Just When New Yorkers Need Them the Most', 'Is New York City ‘Over’?', 'Opinion | The Elite Needs to Give Up Its G.D.P. Fetish', 'My Job? Telling People What Happens Next', 'This School Year, Unleash Your Inner Ms. Frizzle', 'Trump Rails Against Biden at New Hampshire Rally', 'Distance learning plans crunched as laptop shortage hits U.S.', 'Hurricane Laura topples a controversial Confederate monument in Louisiana', 'How to Track COVID-19 Outbreaks in Local Schools', \"How to Enable 'Express' COVID-19 Exposure Notifications in iOS 13.7\", 'Use This Fall Foliage Map to Help Plan Your Autumn Road Trip', 'How to Watch the Rescheduled Kentucky Derby and Festivities', 'How to Get a Handle on Mask Anxiety', 'The Best Online Tutoring Options for Kids', 'HTC CEO Yves Maitre resigns after less than a year', 'Amazon Music adds artist Twitch streams', 'Google makes it easier to find local news through Podcasts and Assistant', \"The Morning After: Nintendo turned 'Super Mario' into a battle royale\", 'How to (Finally) Listen to All Those Podcasts in Your Queue', 'Apple releases iOS 13.7 with support for new automatic COVID-19 notification system', 'Uber launches car rentals in the UK for maximum social distancing', 'It’s (still) time to end ‘Trending’ on Twitter', 'Daily Crunch: Apple launches ‘Exposure Notification Express’ for COVID-19', '3 ways COVID-19 has affected the property investment market – TechCrunch', 'Apple launches COVID-19 ‘Exposure Notification Express’ with iOS 13.7 — Android to follow later this month – TechCrunch', 'Explore micromobility’s next opportunities at TC Sessions: Mobility – TechCrunch', 'Tinder’s interactive video event ‘Swipe Night’ will launch in international markets this month – TechCrunch', 'GM, Ford wrap up ventilator production and shift back to auto business – TechCrunch', 'Sarcos raises $40 million to bring its Guardian XO exoskeleton to market – TechCrunch', '9 top real estate and proptech investors: Cities and offices still have a future – TechCrunch', 'Demodesk snags $8M Series A to continue developing sales demo platform – TechCrunch', 'Calling Madrid & Barcelona VCs: Be featured in The Great TechCrunch Survey of European VC – TechCrunch', 'Workforce management startup Legion raises $22 million – TechCrunch', 'Peloton said to be launching new, cheaper treadmill and higher-end stationary smart bike – TechCrunch', 'Rocket Lab gains key FAA launch license for its US-based launch site – TechCrunch', 'Salesforce beefing up field service offering with AI – TechCrunch', 'Zoom’s Q2 report details some of the most extraordinary growth I’ve ever seen – TechCrunch', 'European launch provider Arianespace successfully launches a satellite rideshare demonstration mission – TechCrunch', 'Optimizely acquired by content management company Episerver – TechCrunch', 'Stocks are selling off again, and SaaS shares are taking the biggest lumps – TechCrunch', 'Hypatos gets $11.8M for a deep learning approach to document processing – TechCrunch', 'Twitter and Facebook wrestle with Trump telling Americans to vote twice – TechCrunch', 'Amazon brings Twitch’s live streams to its Amazon Music app – TechCrunch', 'Xiaomi backs Dyson’s Chinese challenger Dreame in $15 million round – TechCrunch', 'That Whole Foods is an Amazon warehouse; get used to it – TechCrunch', 'Facebook threatens to block news sharing in Australia as it lobbies against revenue share law – TechCrunch', 'InCountry raises $18M more to help SaaS companies store data locally – TechCrunch', 'Yandex spins out self-driving car unit from its Uber JV, invests $150M into new company – TechCrunch', 'The WHO Now Recommends Cheap Steroids As a Life-Saving Treatment for Severe Covid-19', 'Horrifying Images Show How the Coronavirus Ravages Our Lungs', 'The Mandalorian Season 2 Will Arrive Just in Time for Halloween', 'Coronavirus Antibodies Can Last at Least Four Months, Large Iceland Study Finds', \"White House Says It Won't Help Global Vaccine Effort to Spite China, World Health Organization\", 'How Face Shields and Valve Masks Fail to Stop Infectious Droplets, as Shown by Lasers', 'The Pandemic Is Taking a Heavy Toll on Our Mental Health, Study Finds', 'I Could Not Even Take My Dog Down for a Walk Without Getting Arrested', \"Peloton's Plan to Meet Pandemic Demand: Cheaper Treadmill, Pricier Bike, and New Classes\", 'T-Mobile Rolls Out Free Limited Internet for Millions of Students', 'Woman Arrested For Facebook Post Promoting Anti-Lockdown Protest in Australia', 'What Outdoor Learning Could Look Like During the Pandemic', 'Facebook Knows This Election Is Going to Be a Catastrophe', 'Zuckerberg Drops $300 Million to Support U.S. Elections', \"Acer's Latest Under $1,000 Laptops Have Wi Fi 6 and Thunderbolt 4\", \"Facebook’s Militia 'Mistake,' FCC’s Speech Police, and TikTok’s Secret Sauce\", \"The CDC (Trump) Says It's Halting Evictions\", 'Facebook Threatens to Ban Australian Users From Posting Any News Content', 'Bill Barr Is About to Blow Up the Antitrust Case Against Google: Report', 'California Is About to Get Its Second Major Heat Wave in Less Than a Month', 'President Trump Tells Supporters to Commit Felony by Voting Twice', \"Keanu Reeves Teases Matrix 4's 'Beautiful' Story\", 'Facebook Is Helping Encourage Voters to Break the Law', \"Trump Spreads Conspiracy Theory So Stupid I'm Struggling to Write a Headline for It\", 'Glamping for First-Timers', 'As Summer Comes to a Close, Squeeze in One Last Beach Day', 'Tootie Robbins, Lineman With Cardinals and Packers, Dies at 62', 'A Violent August in N.Y.C.: Shootings Double, and Murder Is Up by 50%', 'Tom Seaver, Pitcher Who Led ‘Miracle Mets’ to Glory, Dies at 75', 'A Quaker School Promoted Liberal Values. Then Its Teachers Unionized.', 'Here Are 20 Shows to Watch This Fall', 'N.Y.C. Surpasses 1,000 Shootings Before Labor Day', 'Coronavirus Briefing: What Lies Ahead', 'Amtrak Will Furlough Over 2,000 Workers Because of the Coronavirus', 'Mnuchin Says Economy Is Recovering but ‘More Work’ Is Needed to Alleviate Pain', 'Determined to Salvage the Fall, Cabaret Plots Its (Outdoor, Online) Return', 'Trump Moves to Cut Federal Funding From Democratic Cities', 'When Hunger Is on the Doorstep', 'As Trump Visits Kenosha, Hundreds Gather Where Jacob Blake Was Shot', 'The Rock describes his fight with COVID-19 in powerful new video', 'Google Maps uses much more recent traffic data due to COVID-19', \"Politician brought her baby to vote after she wasn't allowed to vote remotely\", 'Royal Mail launches online safe space for domestic abuse survivors', \"'The Princess Bride' cast is reuniting to raise money for Wisconsin Democrats\", 'Uber to require mask selfies for riders who haven’t been covering up', 'What coronavirus means for the future of self-driving cars', 'The activists fighting algorithms for a more just and equitable future', 'Joni Ernst, in a Tight Senate Race, Repeats a Debunked Coronavirus Theory', 'Dirk Mudge, Who Played a Key Role in Namibian Independence, Dies at 92', 'Help! What Are the Best Precautions When Traveling by Car?', 'English Premier League Terminates China TV Agreement Amid Dispute', 'Another Police Shooting Draws an Outcry', 'Conny Nxumalo, Advocate for South Africa’s Poor, Dies at 53', 'How COVID-19 May Impact Applying for Financial Aid', 'Interactive Map from United Shows COVID Travel Restrictions', 'Figure Out Now Where to Get Your Child Tested for COVID-19', \"Watch Sesame Street and CNN's Back-to-School Town Hall\", 'The Grammy Museum built a streaming service to share its archives', \"Switch exclusive 'No More Heroes 3' has been delayed to 2021\", 'WildLeaks: The whistleblowing site for planet Earth', 'Oura Ring Review: Worth the Hype', 'Mental Health in the US is Suffering—Will It Go Back to Normal?', 'School in the Age of Covid: A Series of Impossible Decisions', 'Why Contact-Tracing Apps Haven’t Slowed Covid-19 in the US', 'Peloton Is Betting You’ll Never Go Back to the Gym', 'In China, GitHub Is a Free Speech Zone for Covid Information', \"Join Us for This Year's Virtual WIRED25 Celebration\", 'The Bay Area Just Turned Orange. All Eyes Are on PurpleAir', 'Carbon Health to launch 100 pop-up COVID-19 testing clinics across the US – TechCrunch', 'Greenstop launches its cannabis vending machine in California dispensaries – TechCrunch', 'As the smartphone market declines, 5G models are set to see continued growth in 2020 – TechCrunch', 'Hear from the CEO of Porsche Cars North America on electrifying the sports car – TechCrunch', 'EU lawmakers say it’s time to go further on tackling disinformation – TechCrunch', 'Lidar startup Ouster raises $42M in push to grow sales, diversify products – TechCrunch', 'Daily Crunch: Facebook launches a college-only network', 'Learn how to build a service marketplace from the CTOs of Peloton and DoorDash at Disrupt – TechCrunch', 'Shift’s George Arison shares 6 tips for taking your company public via a SPAC – TechCrunch', 'Boston Dynamics’ Spot robot goes on sale in Europe and Canada – TechCrunch', 'Lucid lets shoppers customize cars like a video game character – TechCrunch', 'Iron Ox raises $20 million for its robotic farms – TechCrunch', 'Apple’s next event is September 15 – TechCrunch', 'DNX Ventures launches $315 million fund for US and Japanese B2B startups – TechCrunch', 'Interswitch CEO Mitchell Elegbe to discuss African fintech at TechCrunch Disrupt – TechCrunch', 'Pitching access management on the fly, Los Angeles-based Britive raises $5.4 million – TechCrunch', 'Can carbon capture save the world from climate change? Jennifer Holmgren will tell us at Disrupt – TechCrunch', 'Google says it’s eliminating Autocomplete suggestions that target candidates or voting – TechCrunch', 'Snapchat’s new Lens celebrates tomorrow’s NFL kickoff – TechCrunch', 'Join us Wednesday, September 9 to watch Techstars Starburst Space Accelerator demo day live – TechCrunch', 'Daily Crunch: Apple files countersuit against Epic – TechCrunch', 'HumanForest gets $2.3M from Cabify founders and others to grow a ‘free’ e-bike sharing service – TechCrunch', 'Taboola and Outbrain call off their $850M merger – TechCrunch', 'Lucid Motors’ all-electric Air will start below $80,000 – TechCrunch', 'Competing with both Perfect Day and Beyond Meat, Chile’s NotCo raises $85 million to expand to the US – TechCrunch', 'UK wants pandemic levels of data sharing to be the new normal – TechCrunch', 'Retro-inspired music player Poolside.fm brings its summery fun to iPhone – TechCrunch', 'Facebook returns to its roots with Campus, a college student-only social network – TechCrunch', 'When Did Covid-19 Really Start Spreading in the U.S.?', 'IOC Says the Games Will Happen ‘With or Without Covid’', \"Here's What We Know So Far About the AstraZeneca Vaccine Trial Halt\", \"How to Read That Damning Sturgis Motorcycle Rally 'Superspreader' Study Like a Scientist\", 'Top Pharmaceutical Giants Pledge to Stick to Science on Coronavirus Vaccine', 'Pharma Companies Will Commit to Safety in Covid-19 Vaccine', 'Apple TV Arrives on Vizio SmartCast TVs', \"Apple's Annual iPhone Event Is September 15 and Here's What We Could See\", \"President Death Recorded Saying He Planned to 'Play Down' Virus He Confessed Was 'More Deadly' Than Flu\", 'Florida teen arrested after embarrassingly simple cyberattack on Miami schools', 'Poor Households Spend Nearly Four Times as Much on Utilities as Well-Off Ones', 'Trump’s Whole Brand Is Panic, Trevor Noah Says', 'Joshua Bellamy, Ex-Jet, Fraudulently Took $1.2 Million in Covid-19 Aid, U.S. Says', 'Biden, in Michigan to Push a Jobs Plan, Tears Into Trump’s Virus Response', 'In Sign of Progress, Fewer Than 1% of New York’s Virus Tests Are Positive', '‘A Fearless Virus Hunter’ Tackles a Coronavirus Mystery in Children', 'Opinion | The Best Answer to Chaos in Bolivia Is Socialism', 'New Apartments in the Suburbs Attract New Yorkers', 'Buying Wedding Insurance During the Pandemic', 'Capri, a Getaway for the Rich and Famous, Misses Its Americans', 'Hong Kong Police Block Protests Over Delayed Election', 'Federal Judge Blocks, for Now, Further Winding Down of the 2020 Census', 'The Ugly Side of New York’s Outdoor Dining Renaissance', 'How Golf Won a Bet the Coronavirus Would Not Squelch Its U.S. Open', 'Tina Charles Is a W.N.B.A. Superstar Hiding in Plain Sight', 'The Pandemic Is a ‘Mental Health Crisis’ for Parents', 'Trump Pushes for College and Big Ten Football to Resume', \"The opening box office for 'Tenet' was misleading. Fewer people went to the movies than reported.\", 'Lucid Air finally unveils what that 517-mile battery range will cost you', 'Apple reveals date for September event', 'Uber Green comes to U.S. to encourage more electric, hybrid rides', \"Comedy wildlife photo finalists are every bit as glorious as you'd expect\", 'Knife block sanitizes utensils with UV light and a dryer for the high-tech home cook', 'Jazz Lives in Clubs. The Pandemic Is Threatening Its Future.', 'How Your Labor Day Blast Could Make Pandemic Life Worse in the Fall', 'Mark Bradford Reveals New Paintings Quarantined in a Grain Tower', 'Summer Jet-Setters Turned Sardinia Into a Virus Hot Spot', 'An Operatic Innovator Takes On Detroit', 'In Quarantine, Kids Pick Up Parents’ Mother Tongues', 'Fire and Heat Hit California, Again', 'Coronavirus Tests Are Supposed to Be Free. The Surprise Bills Come Anyway.', 'Century 21, Fabled New York Bargain Destination, Is Closing', 'Republicans Push Scaled-Back Stimulus Plan as Impasse on Virus Aid Persists', 'Opinion | When a Heart Is Empty', 'What to Know About the Wildfires', 'New York’s Reopened Museums: Where to Go and What to See', 'Coronavirus: What do we know about the artemisia plant?', 'Presidential rivals Trump and Biden spar over Covid-19 vaccine', 'Vasyl Lomachenko to face Teofimo Lopez in lightweight unification bout', 'Autumn Nations Cup: Ireland v Wales to kick-off eight-team tournament', 'New COVID Screening Policies for Passengers Entering the U.S.', 'Exit Strategies for Young Adults Forced Home During COVID-19', 'How to Spot Price Gouging on Amazon', \"How to Stream Movies From This Year's NYFF and TIFF\", 'Where to Get Relief if There Isn’t a Second Stimulus Check', \"Embrace 'Friluftsliv'—Norway's Open-Air Living\", 'How to Survive a Disaster, With Crisis Reporter Judith Matloff', 'How to Stay as Safe as Possible on Public Transit Right Now', \"Now Is Not the Time for 'Mom Shaming'\", \"I'm Reesha Howard, Entrepreneur and Homeschooling Mom of Four, and This Is How I Parent\", 'The EU is testing cross-border COVID-19 contact tracing', \"Apple experiments with 'Express' store to limit COVID risks\", 'Apple adds blood oxygen monitoring to the Watch Series 6', 'Walmart Plus signups officially begin today, starting at $98 per year', 'Amazon wants a Joe Exotic series starring Nicolas Cage', 'Former Facebook employee exposes its inability to stop misinformation', 'Facebook information center will highlight science-backed data on climate change', \"The Morning After: Apple's big iPad and Apple Watch event\", 'Stop Yelling About a Rushed Vaccine, and Start Planning for It', 'Scientists Found Phosphine on Venus—A Possible Hint of Life', 'The Apocalypse Doesn’t Need an Instagram Filter', 'Asbestos Removal Is a Hard Job, but Covid-19 Makes It Harder', 'Google announces its own Meet hardware bundle, but it’s only for conference rooms', 'Hummer EV pickup truck will be revealed October 20th', 'Apple’s new Watch strap comes in 12 sizes, and you’ll need to measure your wrist to pick the right one', 'Three takeaways from a visit to TikTok’s new transparency center', 'What newsrooms can learn from threat modeling at Facebook', 'Replace legacy healthcare staffing with a vertical marketplace for workers – TechCrunch', 'GM to reveal, start taking reservations for Hummer EV on October 20 – TechCrunch', 'Disrupt 2020 kicks off tomorrow — are you ready? – TechCrunch', 'Dropbox CEO Drew Houston says the pandemic forced the company to reevaluate what work means – TechCrunch', 'Unicorn layoffs prompt more startups to consider acqui-hiring – TechCrunch', 'Building a white label tool for telemedicine services nabs OnCall Health $6 million – TechCrunch', 'Europe will go it alone on digital tax reform in 2021 if it must, says EU president, as bloc directs €150BN in COVID-19 relief toward cloud, AI and broadband – TechCrunch', 'In 2020, Warsaw’s startup ecosystem is ‘a place to observe carefully’ – TechCrunch', 'Uber wants to help its drivers and delivery workers register to vote – TechCrunch', 'Balderton’s Chandratillake doffs his cap to Clubhouse, says enterprise audio is next – TechCrunch', '10 Poland-based investors discuss trends, opportunities and the road ahead – TechCrunch', 'Get to the growth stage at TechCrunch Disrupt this week – TechCrunch', 'As low-code startups continue to attract VC interest, what’s driving customer demand? – TechCrunch', 'Rocket startup Astra’s first orbital launch attempt ends early due to first-stage burn failure – TechCrunch', 'Tuverl aims to bring order and access to transit in Africa – TechCrunch', 'Report: One of Social Capital’s newest blank-check companies is looking to reverse merge with Opendoor – TechCrunch', 'Airtable’s Howie Liu has no interest in exiting, even as the company’s valuation soars – TechCrunch', 'Roelof Botha shares what Sequoia’s Black Swan memo got wrong – TechCrunch', 'Austin-based EmPath’s employee training and re-skilling service snags seed funding from B Capital – TechCrunch', 'Zwift, maker of a popular indoor training app, just landed a whopping $450 million in funding led by KKR – TechCrunch', 'User-generated e-learning site Kahoot acquires Actimo for up to $33M to double down on corporate sector – TechCrunch', 'What to expect from Apple’s hardware event – TechCrunch', 'Mette Lykke on food waste and building a big startup on a big idea – TechCrunch', 'Extra Crunch Friday roundup: Edtech funding surges, Poland VC survey, inside Shift’s SPAC plan, more – TechCrunch', 'Should a Covid-19 Vaccine Be Mandatory for Kids? Health Experts Are Trying to Decide', \"Trump's HHS Goons Smear CDC as 'Deep State,' Routinely Meddle with Covid-19 Reports\", 'Anti-Maskers Forced to Dig Graves for Covid-19 Victims in Indonesia', \"Scientists Flag 'Inconsistencies' in Russian Vaccine Study\", 'Bill Gates Is Rapidly Losing Trust in the FDA and CDC', \"How to Watch Apple's Event Today\", '10 Years Ago, World Leaders Set Biodiversity Goals. They Haven’t Met a Single One.', \"BP Says We've Already Reached Peak Oil\", \"Google's removing search suggestions about candidates, voting\", \"Garmin's New Smartwatch Is Made for Triathletes, Because We Should All Dream Big Right Now\", 'U.S. Concentration Camp Sent Undocumented Women to Be Sterilized, According to Whistleblower', \"What to Expect from Apple's September Event (Hint: Maybe No iPhones)\", 'Conservative Media May Be Influencing People Not to Evacuate During Hurricanes', 'The GoPro Hero9 Is a Little Bigger and a Lot Better in Every Possible Way', 'Trump Holds Indoor Rally as White House Officials Try to Defend His Virus Response', 'Inside a Nursing Home Devoted to Treating Those With Covid-19', 'Trump Pressed for Plasma Therapy. Officials Worry, Is an Unvetted Vaccine Next?', 'In New Development, Buyers Favor the Boroughs', 'How to Birth a New American Theater', 'Did This Police Maneuver Lead to Daniel Prude’s Death?', 'The Line Dance of the Pandemic', 'Paul Rudd, Certified Young Person, has a PSA on wearing masks', '14 stylish face coverings on sale this weekend', \"'Wonder Woman 1984' moves to Christmas\", \"Sir David Attenborough delivers stark warning in BBC doc 'Extinction: The Facts'\", \"The Jane Club wants to be a 'matriarchal oasis' and it just might succeed\", 'Google Search features new tool for pandemic shopping', \"Seth Meyers bluntly blasts Republicans for blaming Trump's failures on Biden\", 'Google says its Autocomplete feature will stay neutral in the 2020 election', \"Walmart+ is finally live. Here's how to sign up.\", 'Walmart to start using autonomous drones for 1-hour delivery', \"Stephen Colbert's election website shows you how to vote state-by-state\", 'The best pee funnels for camping, road trips, and more', 'The Apple Event, brought to you from a better world than this one', 'How to set boundaries in the early stages of dating', \"'Contagion' hits different 6 months into the pandemic\", \"We read Michael Cohen's book on Trump so you don't have to. But you should.\", 'How to combat the invisible labor divide in your own home', \"Samsung Galaxy Z Fold 2 review: The foldable we all want but don't need... yet\", 'Fauci Warns Coronavirus Could Disrupt Life Well Into New Year', 'Anthony M. Hopkins, Who Fought in Vietnam and the Gulf, Dies at 70', 'I Got a Trial Covid-19 Vaccine. Do I Still Have to Wear a Mask?', 'Covering Ebola Didn’t Prepare Me for This: I Volunteered for the Covid-19 Vaccine Trial', 'As N.Y.C. Reopens Schools, Homeless Families Face New Challenges', 'Trump Defends Indoor Rally, but Aides Express Concern', 'The first road tests of the Volkswagen ID.3 electric car are showing up', 'Coronavirus creeps into US mink farms, “unusually large numbers” dead', \"No 'Andretti Curse' in August, says Marco\", 'Braves, Nats set for first meeting in 2020', \"Motor racing: No 'Andretti Curse' in August, says Marco\", 'NHL roundup: Knights KO Blackhawks in Game 5', 'Businesses working with slavery survivors in India seek ways to offset COVID', 'Business & Financial News, U.S & International Breaking News', 'Inside Number One Observatory Circle, the often overlooked but stunning residence where every vice president has lived since 1977', 'Trump supporters pledge to buy from Cooper Tires after the president urges a Goodyear boycott', \"Biden's 'dark' side: How Democrats are embracing secret money and the Citizens United decision to defeat Trump\", \"Diving into the real timeline behind Operation Warp Speed's coronavirus vaccine initiative\", 'Two people indicted in 2002 unsolved murder of Run-DMC DJ Jam Master Jay', 'The Backstory: USA TODAY must better reflect the US to tell the stories of our nation', 'Gannett news president: Diversity and inclusion are choices, not just words. Today we reaffirm our mission.', \"'Rising stars' at DNC, voting rights anniversary, NBA: 5 things you need to know Tuesday\", \"Empty mailboxes, missed rent: US Postal Service's struggles have real-world impacts\", \"'RuPaul's Drag Race' star Chi Chi DeVayne dies at 34 following hospitalization for pneumonia\", 'Kamala Harris at the DNC, coronavirus outbreak, California wildfires: 5 things to know Wednesday', 'Trump, GOP attack Barack Obama, Kamala Harris and Hillary Clinton after night 3 of DNC', \"A giant panda at the National Zoo is about to give birth. Watch for these signs of labor on the 'panda cam'\", \"'Chariots of Fire,' 'Star Trek' actor Ben Cross dies at 72 after short illness\", \"Texas Tech president says women's basketball program, AD Kirby Hocutt to be reviewed by university\", 'Many Americans may not comprehend COVID-19 information as agencies fail to meet health literacy guidelines, study says', 'Exclusive clip: Michelle Obama’s brother reveals what he first thought of Barack Obama on podcast', 'The language had gone quiet. Remarkably, she brought it back, saving far more than just words', \"What is a fire tornado? 'Extreme fire activity' sparks rare weather warning at Loyalton Fire near Reno.\", 'Democratic National Convention, Trump hits the campaign trail, NBA playoffs: 5 things to know Monday', 'Former senior Trump administration official endorses Joe Biden', \"'Silent spreaders' of COVID-19: Kids who seem healthy may be more contagious than sick adults, study says\", 'Heart of the movement: How these 12 young activists are seeding change in their towns', \"'The sky is the limit': Indiana grad accepted to 65 colleges will go to Howard University\", \"Barack Obama's speech and what else to expect for Day 3 of the Democratic National Convention\", \"Sharon Stone endorses Joe Biden, says 'don’t vote for a killer' after sister catches COVID-19\", 'Equal Rights Amendment: Will women ever have equal rights under federal law?', 'Coronavirus updates: Nursing home cases hit new high; UNC Chapel Hill reverts to online classes', 'Coronavirus live updates: CDC director says tide is turning in the South; 10th MLB team postpones game; Another US senator tests positive', '‘Be a good boy’ and vote for suffrage: How a mother’s note carried the 19th Amendment', 'Coronavirus contractors double-dip government funds, receiving relief money and contracts', \"Trump campaign bashes Tuesday at DNC as 'loser night,' targeting Sally Yates, AOC\", \"A flu shot doesn't always protect you, but amid the COVID-19 pandemic, it is more important than ever\", \"'Sign me up': Why people of color are vital to getting a successful COVID-19 vaccine\", 'DNC Live: Joe Biden accepts Democratic presidential nomination, setting the stage for combative race against Trump', \"Did you catch the BLM, DBFH hidden messages in Elizabeth Warren's speech?\", 'Joe Biden to accept Democratic nomination, wildfires, AMC Theatres reopen: 5 things to know Thursday', \"Barack Obama gives scathing DNC speech: 'Donald Trump hasn’t grown into the job because he can’t'\", 'UNC-Chapel Hill fall semester going online amid COVID-19 outbreaks, one week into classes', \"'How do you sleep at night?: Anderson Cooper rips MyPillow CEO Mike Lindell on COVID 'cure' claim\", 'COVID-19, visas, Trump: International students turning away from US colleges for lots of reasons', 'New coronavirus cases are emerging at schools. How much you know depends on where you live.', '100 years later, Kamala Harris nomination ends shameful racial history of suffrage movement', 'People are putting off going to the dentist. But your dentist wants you back and has put precautions in place.', \"Michelle Obama says Trump is the 'wrong president for our country'\", 'After Trump: All the ways the next president can restore trust in the Justice Department', \"Kamala Harris' name isn't difficult to pronounce. There's no excuse for getting it wrong.\", 'The best history podcasts: 11 shows that tell you forgotten stories', 'U.S. drillers add oil and gas rigs for first week since March -Baker Hughes', 'UPDATE 1-U.S. drillers add rigs for first time since March in strong recovery -Baker Hughes', 'REUTERS NEWS SCHEDULE AT 6 a.m. GMT/2 p.m. SGT', 'Johnson flirts with history to take lead at TPC Boston, Scheffler fires 59', \"IndyCar's top earner Dixon misses the fans\", \"NBA roundup: Doncic's OT buzzer-beater leads Mavs past Clips\", 'Trump loses bid to delay handover of tax returns to New York prosecutor', 'Trump must give his tax returns to NY prosecutor, judge rules', \"The CEO of the world's largest HR organization led a $20 million turnaround. Meet Johnny C. Taylor Jr., a visionary who insiders say embraces layoffs and dismisses COVID-19 fears.\", \"The GOP's platform is… Donald Trump\", 'RNC 2020 Day 1: GOP formally nominates Trump to 2nd term', 'The Note: As GOP convention begins, Trump searches for opponent Biden isn’t', 'Timeline: This year’s political fight over the Postal Service', 'LSU football coach Ed Orgeron responds to Derrius Guice rape allegations; says victims must be heard', 'Baltimore Ravens release safety Earl Thomas after training camp fight with teammate Chuck Clark', 'Undocumented but unafraid: How my immigrant story led to DACA protections for young people', 'Coronavirus updates: Donald Trump announces authorization of plasma treatment; CDC drops 14-day quarantine guideline; 176K US deaths', \"'Everybody just started running': 3 people shot at Fayette Mall in Kentucky, police say\", 'Coronavirus updates: World deaths surpass 800K; New York blocks 175-person wedding; pandemic complicates California fire evacuations', '5 movies, TV shows to watch to mark the 100th anniversary of the 19th Amendment', \"James Gunn reveals first look at 'The Suicide Squad' cast Margot Robbie, Idris Elba at DC FanDome\", 'Helen Zia has seen hostility against Asian Americans before. ‘We didn’t learn enough or some people have forgotten.’', 'Coronavirus live updates: US hits 175,000 deaths; SEAL who shot bin Laden banned on Delta; vaccine trial going well', \"'He had a big heart': Family mourns Trayford Pellerin after fatal Louisiana police shooting\", 'Democrats project COVID-19 deaths onto wall near DC hall holding RNC events', \"Joe Biden 'has not been tested' for COVID-19 but his campaign is confident 'he has not had the virus'\", \"Quiet Riot drummer Frankie Banali dies at 68 after 'inspiringly brave' cancer battle\", \"Activists see progress after George Floyd's death but say more must be done\", 'Feds want a COVID-19 vaccine distribution system ready by Nov. 1. Freezer farms and UPS are part of the plan', \"Coronavirus live updates: Judge nixes Florida's school reopening order; First case of COVID reinfection reported\", \"Giant panda at National Zoo gives birth to cub: 'A much-needed moment of pure joy'\", 'The VA doesn’t cover fertility treatments for unmarried veterans or same-sex couples. Some want to change that.', \"It's crucial to get a flu shot this year amid the coronavirus pandemic, doctors say\", 'Healthcare providers push to fix racism in the medical industry as COVID-19 devastates communities of color', \"'Tiger King' star Joe Exotic takes feud with former business partner Jeff Lowe to court again\", \"RNC live: Republicans spent much of Day 1 defending Trump's response to coronavirus\", \"Postmaster General Louis DeJoy: 'I'll submit that I know very little about postage stamps'\", \"Melania Trump unveils newly renovated White House Rose Garden, where she'll make RNC speech\", \"Postmaster general to testify, 'Golden State Killer' faces sentencing, California wildfires: 5 things to know Friday\", \"'Tiger King' zookeeper Jeff Lowe willfully violated animal welfare regulations, feds say\", \"Gabrielle Union talks 'AGT' exit, importance of Black-owned business at American Black Film Festival\", 'Bella Thorne made $2 million on OnlyFans under a week? What to know about the site', \"'He has no principles. None': Maryanne Trump Barry tears into her brother in secretly taped audio\", 'At 90, labor leader Dolores Huerta still works to make a difference. ‘You can’t do it all by yourself.’', 'How can Trump ignore climate crisis with twin hurricane-season storms barreling toward us?', \"About 560 wildfires burn in California as more than 100,000 people evacuate: Here's what we know\", \"'The Last Campfire' from Hello Games hits consoles, iOS and PC tomorrow\", \"WoW's 'Shadowlands' expansion starts rolling out on October 26th\", \"Virtual 'League of Legends' band K/DA returns with The Baddest\", 'Outlier adds Astronomy and Statistics classes to its online university', 'FaZe and Tfue have settled their lawsuit and said goodbye', 'Someone squeezed a Nintendo Wii into a Game Boy Color-like case', 'Google Offers to Help Others With the Tricky Ethics of AI', 'Elon Musk Is About to Show Off His Neuralink Brain Implant', 'The Future of American Industry Depends on Open Source Tech', 'Steely Eyes, Tragic Ends: The Bromantic Theory of History', \"A Dogfight Renews Concerns About AI's Lethal Potential\", 'Watch the trailer for Enola Holmes, the Sherlock Holmes movie that landed Netflix a lawsuit', 'Netflix is making an original live-action Resident Evil TV series', 'Asus’ LED-filled gaming laptop with a 144Hz refresh rate display costs just $880', 'President Trump’s social media order will endanger voting rights, new lawsuit claims', 'Fortnite on iOS already feels empty and dated', 'Learn how to scale social impact startups at Disrupt with Phaedra Ellis-Lamkins and Jessica O. Matthews – TechCrunch', 'Dear Sophie: Latest immigration and H-1B updates – TechCrunch', 'What does GPT-3 mean for the future of the legal profession? – TechCrunch', 'Luna Display adds a teleprompter mode – TechCrunch', '72-hour rollback to early-bird pricing on Disrupt 2020 passes – TechCrunch', 'Here’s how you can get a second shot at Startup Battlefield – TechCrunch', 'Decrypted: Uber’s former security chief charged, FBI’s ‘vishing’ warning – TechCrunch', 'Podcast is social: How China’s Lizhi makes audio interactive – TechCrunch', 'White House announces $1B investment for AI and quantum computing hubs – TechCrunch', 'Facebook changes name of its annual VR event and its overall AR', 'BlackBerry makes China push as the OS for Xpeng smart cars – TechCrunch', 'Facebook is bringing a Shop section to its app, while Instagram expands Live Shopping – TechCrunch', 'Axon delivers new tech for police, but are more tools really what cops need? – TechCrunch', 'GM shifts Corvette engineering team to its electric and autonomous vehicle programs – TechCrunch', 'Steno raises $3.5 million led by First Round to become an extension of law offices – TechCrunch', 'Passion Capital has backed Fronted, the startup that wants to offer loans to cover rent deposits – TechCrunch', 'Netflix’s ‘Emily’s Wonder Lab’ is smart, interactive science TV for kids – TechCrunch', 'Vue’s $179 Lite smart glasses have built-in speakers for music and calls – TechCrunch', 'Nerdwallet acquires UK’s Know Your Money as it expands outside the US – TechCrunch', 'Microsoft researcher Dr. Cecily Morrison will discuss keeping AI ‘personal’ at Sight Tech Global – TechCrunch', 'Femtech poised for growth beyond fertility – TechCrunch', 'How Salesforce beat its own target to reach $20B run rate ahead of schedule – TechCrunch', \"Niantic creates a 5G supergroup for 'planet-scale AR' experiences\", \"'Game of Thrones' duo are making a 'Three-Body Problem' series for Netflix\", \"Watch a Toyota-backed flying car's first public, piloted test flight\", 'Samsung says its latest mobile memory is a production breakthrough', 'FDA approves first automated insulin system for kids', \"Lenovo's new $50 smart clock keeps things stupid simple\", 'Hitting the Books: Big Tech turns your every move into profit', 'AT&T reportedly backs away from selling Warner Bros. Interactive', 'The Galaxy Z Fold 2 will be available on September 18th for $2,000', \"Lenovo's latest flagship Yoga laptops are clad in leather\", 'Influential indie studio Vlambeer is shutting down after a decade', 'Should Google’s Ad Market Be Regulated Like the Stock Market?', 'How Cryptography Lets Down Marginalized Communities', 'A Spate of Arrests Sends the Piracy World Reeling', 'Can a Bubble Net Stop a Hurricane? Some Norwegians Think So', 'Here’s the Real Reason You Miss the Nokia 3310', 'The Excellent Evolution of Bill and Ted Face the Music', 'The Oysters That Knew What Time It Was', 'Game of Thrones showrunners are adapting The Three-Body Problem as first major Netflix project', 'Gogo sells commercial in-flight internet business to bankrupt satellite provider', 'The startup world needs a ‘Black Minds Matter’ awakening – TechCrunch', 'In a post-NDA world, does transparency help founders identify conflicts of interest? – TechCrunch', 'Capchase raises $4.6M to deliver fast cash to SaaS companies – TechCrunch', 'Semalytix picks up €4.3M to build the world’s largest patient experience data set – TechCrunch', 'PicnicHealth raises $25 million for its patient health record management service – TechCrunch', 'Fabletics’ Adam Goldenberg and Kevin Hart to talk D2C at Disrupt 2020 – TechCrunch', 'Jeff Lawson on API startups, picking a market and getting dissed by VCs – TechCrunch', 'Netflix is making a series based on ‘The Three-Body Problem’ – TechCrunch', 'What will a Wish IPO look like? We may know soon – TechCrunch', 'LA-based The Skills is launching a MasterClass for athletes featuring Michael Phelps, Maria Sharapova and more – TechCrunch', 'Gillmor Gang: Platforming – TechCrunch', 'Reliable Robotics is bringing remote piloting to small cargo planes – TechCrunch', \"Chadwick Boseman's friends and co-stars flood Twitter with remembrances\", 'Naomi Osaka honors Breonna Taylor during US Open match', '8 times Chadwick Boseman used his celebrity to be a real-life hero', \"Google Doodle honours Harold Moody, founder of the UK's first civil rights movement\", 'Elon Musk is now richer than Mark Zuckerberg', '25 of the best coming-of-age movies since 2000', \"BTS lit up the MTV VMAs with their debut performance of 'Dynamite'\", 'Elon Musk parades about Neuralink-wired pig, and this is apparently the future', \"Uncle Roger hilariously takes on Jamie Oliver's 'disgusting' egg fried rice\", 'Finally write that novel or screenplay with this 11-course creative writing bundle', \"Algorithms control your online life. Here's how to reduce their influence.\", \"*That* Chadwick Boseman tweet is now Twitter's 'most Liked' of all time\", \"How one VFX studio brought The Mandalorian's blurrgs to life\", 'What is an algorithm, anyway?', 'Dictionary.com unveils its biggest, most inclusive update yet', \"Biden and Harris launch yard signs for 'Animal Crossing: New Horizons'\", 'What the Mashable staff bought in August', '8 questions to ask about online learning platforms for kids', 'Which dating app is right for you? Use this guide to figure it out.', 'Farewell, lens fog: The best face masks for people who wear glasses', \"Riot Games adds to its world of virtual influencers who promote 'League of Legends'\", \"Alphabet's Loon balloons are helping scientists study gravity waves\", \"Pinterest users won't see ads when they search for election-related content\", 'Intel unveils Tiger Lake CPUs, rebrands Project Athena as Evo', \"The first 'Avengers' DLC character will be Kate Bishop's Hawkeye\", 'Hitting the Books: Lessons learned from gaming with the King of Sweden', \"If 'Tony Hawk's Pro Skater 1 and 2' is a feast, local multiplayer is dessert\", 'The Transgressive, Progressive Utopia of Summer Television', 'Every Christopher Nolan Film, Ranked for You to Disagree With', 'Super Mario 3D World and other classic Mario games are coming to the Switch', 'Go read this CNET story about the Avengers game that wasn’t', 'This virtual influencer might be the next League of Legends champion', 'Qualcomm’s 8cx Gen 2 5G processor promises a new wave of better ARM-based laptops', 'Triller CEO Mike Lu to talk taking on TikTok at Disrupt 2020 – TechCrunch', 'Learn how to raise your first dollars at Disrupt 2020 – TechCrunch', 'Grab a Labor Day flash sale pass to Disrupt 2020 and save $100 – TechCrunch', 'OrCam Technologies co-founder Amnon Shashua to speak at Sight Tech Global – TechCrunch', 'China’s logistics titan YTO nets close to $1B from Alibaba in overseas push – TechCrunch', '48 hours left on early-bird prices to TC Sessions: Mobility 2020 – TechCrunch', 'One more week to save on TC Sessions: Mobility – TechCrunch', 'Qualcomm-powered Chinese XR startup Nreal raises $40 million – TechCrunch', 'WhatsApp reveals six previously undisclosed vulnerabilities on new security site – TechCrunch', 'Carewell raises $5M for a vetted e-commerce platform aimed at family caregivers – TechCrunch', 'Building paths to funding for Black female founders – TechCrunch', 'Avo raises $3M for its analytics governance platform – TechCrunch', 'VW’s all-electric ID.4 will use interior lighting to communicate with the driver – TechCrunch', 'An IPO expert bats back at the narrative that traditional IPOs are for ‘morons’ – TechCrunch', 'Transposit scores $35M to build data-driven runbooks for faster disaster recovery – TechCrunch', 'Tinder launches apocalyptic Swipe Night experience in the UK and around the world', 'A Japanese company briefly showcased a flying car', \"This solar-powered platform will be the world's largest floating office\", 'The best music documentaries you can stream on Netflix', \"Man's viral plea to city council: Boneless wings are 'just chicken tenders'\", 'This VPN offers one of the most complete security solutions', 'What do these gorgeous high-resolution sun photos look like to you?', \"Amazon's 'The Boys' holds a mirror up to society in Season 2. It's the best kind of ugly.\", '7 of the best gaming headsets for the PS4', 'Become a master of SQL with lifetime access to this training course', \"Netflix's 'I'm Thinking of Ending Things' is another dizzying triumph by Charlie Kaufman\", 'This sleek espresso maker was designed by a famous architect', 'Master digital marketing with this heavily discounted course bundle', \"Facebook and Google probably won't like this new antitrust agreement\", 'Looking to start a side hustle? This 13-course guide can help.', 'RBI outlines guidelines on debt resolution for stressed sectors', 'Israel curbs contagion zones, health chiefs self-isolate', 'India coronavirus infections surge to 4.3 million', \"Zverev riled by Martina's 'pat-a-cake' comment\", 'Fauci says Astrazeneca vaccine pause unfortunate, not uncommon', 'Timeline: Journalists caught in Australia-China diplomatic tussle', 'Nestle likely to do more big acquisitions - CFO', 'Villa complete Watkins signing to bolster attacking options', 'Zlatan criticises Sweden soccer boss over Kulusevski snub', 'Tour de France riders await coronavirus tests day', \"China's August forex reserves rise to $3.165 trillion\", 'Putintseva into quarter-finals after beating Martic', \"England's Malan pleased with performance under pressure\", \"Inside world's largest camel hospital in Saudi\", 'Ukraine accuses pro-Russian separatists of violating ceasefire', 'New Zealand election campaign starts, Ardern seeks mandate', 'Earthquake of magnitude 6.3 strikes off Vanuatu: GFZ', 'Brazil reports 30,168 coronavirus cases, 682 deaths', 'France reports 8,550 new daily COVID-19 infections', 'Latest on the worldwide spread of coronavirus', 'Everton sign midfielder Doucoure from Watford', 'Newcastle sign left back Lewis from Norwich', 'U.S. CDC reports 188,688 deaths from coronavirus', 'French COVID-19 cases and deaths mount up', \"'Hotel Rwanda' hero was not kidnapped - President Kagame\", \"Tahlequah, 'Tour of Grief' killer whale, gives birth\", \"EU's chief Brexit negotiator worried about negotiations\", 'Gold steadies as stronger dollar counters safe-haven demand', 'Berrettini ready for Rublev rematch at U.S. Open', 'Ferrari hurting after another dire weekend', 'Babos decries U.S. Open doubles withdrawal', \"'Fire on all sides': California wildfires prompt evacuations\", 'COVID-19 hospital overwhelmed as India surges', 'Argentina coronavirus death toll surpasses 10,000', 'France forward Mbappe tests positive for COVID', 'FAA investigating manufacturing flaws in Boeing 787 jetliners', \"Belgium's peeing statue dressed to honor health workers\", 'Roberts appointed acting principal of Williams F1 team', 'England defender Bronze returns to Manchester City', \"Thomas hails FedExCup champion Johnson's determination\", 'Questionable judgement dogs Djokovic in unbeaten 2020', 'Thousands protest against pro-Serb rallies in Montenegro', \"Williams still learning to live with 'Serena' target\", 'Explainer: Wrangling over Northern Ireland threatens Brexit, again', \"G7 foreign ministers condemn Navalny's 'confirmed poisoning'\", \"'Diamond in the rough' Doku repays Martinez's faith\", 'Osaka beats Rogers to reach U.S. Open semis', 'Friendship takes a backseat as Medvedev faces Rublev', \"Lululemon's quarterly revenue beats on online boost\", 'KKR injects funds into Selecta amid debt revamp', 'Reliance props up India shares in global sell-off', \"Tsikhanouskaya says foreign powers could mediate in Belarus's unrest\", 'Palestinians win Saudi support but no Arab condemnation of UAE-Israel deal', 'UK police arrest man over stabbings in Birmingham', 'List of players disqualified for on-court misconduct', 'Boeing finds new 787 Dreamliner production problem', 'Ireland reports most daily coronavirus cases since May', 'Reusable Chinese spacecraft lands successfully: state media', 'Riot police fire pepper guns in Hong Kong', 'Nigerian doctors strike again over benefits amid coronavirus', 'Brazil reports 10,273 coronavirus cases, 310 deaths', \"Britain's Tesco to trial drone deliveries\", 'Man City secure Greenwood signing from Lyon', 'Subdued atmosphere grips new La Liga season', \"Explainer: Europe's climate policies are getting an upgrade\", 'UK summons Russian ambassador over Kremlin-critic Navalny', 'Factbox: Major incoming transfers by Premier League clubs', 'Mark Zuckerberg on why he doesn’t want to ‘put an Apple Watch on your face’', 'Kbox picks up £12M additional funding to let underused commercial kitchens do takeout for delivery – TechCrunch', 'UK hands over to India statues stolen from Hindu temple in 1978', \"RBI chief says India's recovery not entrenched, will only be gradual\", 'US STOCKS-Wall Street poised for second straight weekly drop', 'BRIEF-Pfizer And Biontech Propose Expansion Of Pivotal Covid-19 Vaccine Trial', 'Google rolls out captions for audio and video messages on Duo', \"What’s the tech industry's place in a racial justice movement?\", 'Facebook Portal adds Zoom support and other work-from-home features', \"How the UK's algorithm-based grading fell apart\", 'In a Touch-Free World, the QR Code Is Having Its Moment', 'This Plane Flies Itself. We Went for a Ride', 'Samsung Galaxy Note 20 Ultra Review: Ultimate Android', 'Suse contributes EiriniX to the Cloud Foundry Foundation – TechCrunch', 'AI-based customer engagement platform iKala raises $17 million to expand in Southeast Asia – TechCrunch', 'US Commerce Department updates rules to further limit Huawei’s chip access – TechCrunch', 'Lucid Motors CEO and CTO Peter Rawlinson to join TC Sessions: Mobility 2020 – TechCrunch', 'Report: Apple quietly acquired Israel’s Camerai, formerly Tipit, a specialist in AR and camera tech – TechCrunch', 'Microsoft’s Seeing AI founder Saqib Shaikh is speaking at Sight Tech Global – TechCrunch', 'Dear Sophie: How can I transfer my H-1B to my startup? – TechCrunch', 'Join Female Founders Fund’s Anu Duggal for a live Q&A right now – TechCrunch', 'Get a free annual Extra Crunch membership when you buy a Disrupt 2020 pass – TechCrunch', 'Investors Reilly Brennan, Amy Gu and Olaf Sakkers coming to TC Sessions: Mobility 2020 – TechCrunch', 'Sony WH-1000XM4 headphone review – TechCrunch', '6 of the best cheap TVs with 4K resolution', \"Chameleon-like robot has the fastest extendable 'tongue' in tech\", \"Harry Potter's invisibility cloak is almost a reality, but only for likely military use\", 'Master blockchain with this cheap online course', 'These AirPod alternatives are cheap and will actually stay in your ears', \"ZTE's new Axon 20 5G smartphone will have an under-display camera\", 'Kickstart a career as a cloud architect for under £40', \"Here's how to upgrade to a 5G smartphone without breaking the bank\", \"Get a lifetime subscription to Busuu's language learning app for 60% off\", 'How the hottest temperatures in the world are verified', 'For truly amazing Instagram photos, a point-and-shoot camera is a must', 'Everything you thought you knew about ADHD is wrong', \"Galaxy Note 20 Ultra review: A lazy 'copy and paste' of Samsung's S20 Ultra\", 'Cops in Miami, NYC arrest protesters from facial recognition matches', 'College contact-tracing app readily leaked personal data, report finds', 'Apple’s value soars to a record $2 trillion', 'The Golden Age of computer user groups', 'Coronavirus-exposed teachers could stay in classrooms under new fed. guidance', 'Cities sue Netflix, Hulu, Disney+, claim they owe cable “franchise fees”', 'Anti-vaccine group sues Facebook, claims fact-checking is “censorship”', 'Want Verizon or AT&T 5G? You’ll have to buy an expensive unlimited plan', 'Intel’s run at the GPU market begins with Tiger Lake onboard graphics', \"Taiwan-based Apple supplier Catcher to sell two divisions to China's Lens for $1.4 billion\", 'U.S. tightening restrictions on Huawei access to technology, chips', 'Carnival hit by ransomware attack, guest and employee data accessed', 'Nikkei edges up after tech-driven rally on Wall Street', 'Exclusive: Amazon in talks to invest in cloud services company Rackspace, say sources', \"EU regulators okay with conditions Mastercard's Scandinavian e-pay deal\", 'Carnival launches probe after detecting a ransomware attack', 'US STOCKS-Tech rally elevates Nasdaq to record high close', 'Graphic: Big Tech drives S&P 500 to record high in coronavirus rally', 'Taiwan July export orders likely to rise for fifth straight month: Reuters poll', \"Chinese dronemaker DJI makes sweeping cuts in 'Long March' reforms\", 'Chinese insurance tech firm Waterdrop raises $230 million, plans U.S. IPO', 'Samsung’s Find My Mobile feature now works with offline devices', 'Lambda School raises $74M for its virtual coding school where you pay tuition only after you get a job – TechCrunch', 'Ever, once accused of building facial recognition tech using customer data, shuts down consumer app – TechCrunch', 'Lidar startup Luminar to go public via $3.4 billion SPAC merger – TechCrunch', 'Submit your pitch deck to Disrupt 2020’s Pitch Deck Teardown – TechCrunch', 'China is building a GitHub alternative called Gitee – TechCrunch', 'Xwing plans short, regional flights for its autonomous cargo planes – TechCrunch', '10 entertainment treasures we miss from the 2000s', 'This high tech shelter keeps you cool without an A/C', 'Futuristic face mask with bone conduction speakers on sale', 'These résumé-boosting online courses start at just $10', 'EliteSingles vs. Match: How do the dating sites compare in the UK?', 'Cycle, squat, and sweat with at-home workout equipment that goes the distance', 'Why you should invest in a keyboard and mouse for your WFH setup', '13 great apps for learning about mindfulness', 'Take your golf game from meh to amazing with these great deals', 'How to get police out of schools, and why it matters', 'Fortnite Apple row: Microsoft backs Epic in court filing', \"Alibaba tells Trump we 'support American brands'\", 'Man who believed virus was hoax loses wife to Covid-19', 'How a brand of chalk achieved cult status among mathematicians', 'Coronavirus pandemic could be over within two years - WHO head', 'Understanding DNS—anatomy of a BIND zone file', 'Wirecard innovation team moves to Berlin-based fintech', \"Shenzhen's ChiNext challenges Shanghai, adds fuel to 'technology war' with U.S\", \"Shenzhen's ChiNext challenges Shanghai, adds fuel to 'technology war' with U.S.\", 'China will step up technology innovation to drive growth: President Xi', 'China\\'s Xi warns \"period of turbulent change\" as external risks rise', \"RPT-UPDATE 1-Shenzhen's ChiNext challenges Shanghai, adds fuel to 'technology war' with U.S.\", 'Nikkei rebounds on Wall Street tech rally, but posts weekly fall', 'UK denies it plans to drop tax on digital giants', 'In China, newly-listed ChiNext shares surge in historic reform', 'Russia ready to co-operate with Huawei on 5G: Ifax cites Lavrov', 'Russia ready to co-operate with Huawei on 5G - Ifax cites Lavrov', 'JPMorgan to launch UK digital lender in early 2021: Sky News', 'Australian shares flat as virus cases slow, NZ hits 6-month high', \"Japanese shares rebound on Wall Street's tech-driven rally\", 'Electric vehicle chassis provider Motiv announces fresh funding', 'Exclusive: ByteDance investors seek to use stakes to finance TikTok bid', 'Vietnamese tech firm sues TikTok, alleging copyright infringement', \"UK plans to drop 'Facebook tax', Mail on Sunday says\", 'Boeing testing hand-held UV wand to sanitize cockpits, cabins', 'WHO chief hopes coronavirus pandemic will last less than two years', \"Italy's foreign minister to meet Chinese counterpart in Rome next week\", 'Airplane mode and prepaid SIMs: some Israelis dodge COVID-19 tracking', 'China stocks end higher as new start-up listings surge on reforms cheer', 'Salesforce to replace Exxon in Dow Jones Industrial Average index next week', 'Tech rally has further to run, J.P. Morgan says', 'Nifty, Sensex rise on hopes of business revival, global rally', 'VAR to be used in AFC Champions League from quarter-final stage', 'UPDATE 1-Adyen executives sell 15% of their stakes for total $822 mln', 'European stocks start the week strong on virus treatment hopes', 'Kohlberg & Co, Mubadala take controlling stake in PCI Pharma', 'US STOCKS-S&P 500, Nasdaq end at records after upbeat business surveys', 'Singapore scientists find coronavirus variant with milder infections', 'Salesforce, Amgen, Honeywell to join Dow Jones Industrial', 'Hong Kong stocks post one-month closing high as techs shine', 'Tesla, automakers urge FTC to seek appeal after defeat in Qualcomm case', 'Third Point-backed Far Point green lights $2.6 billion Global Blue deal', 'Gold hits one-week low as positive U.S. data buoys dollar', 'Exclusive: Photoshopping Obama - the company that wants to buy Newcastle United', 'Fact check: A coronavirus vaccine that makes everyone infertile has not been approved for use', \"Delta doubles cabin cleaners in 'pit stop' revamp, buys kits to test for germs\", 'S&P, Nasdaq close at new highs as Wall Street rides bull momentum', 'Facebook denounces hate, bigotry, its India chief says amid content row', 'Facebook pushes for data portability legislation ahead of FTC hearing', 'UPDATE 1-UK Stocks-Factors to watch on Aug 24', 'Australia shares edge lower as U.S. jobless data stokes recovery fears', \"Watch Elon Musk's Neuralink reveal live at 6PM ET\", \"Xiaomi's under-display camera tech is coming to phones next year\", \"Elon Musk teases 'working Neuralink device' reveal on August 28th\", 'Fitbit’s $329 Sense watch monitors stress response and heart health', \"Vue Lite smart glasses aren't that smart\", 'Amazon Halo is a subscription fitness wearable and platform', 'A Glimpse at the Shiny, Ritzy Bathroom of Tomorrow', 'Nomad’s Base Station Pro with Aira FreePower tech finally realizes the promise of wireless charging – TechCrunch', 'As DevOps takes off, site reliability engineers are flying high – TechCrunch', 'Waymo’s Boris Sofman and TuSimple’s Xiaodi Hou to join us at TC Sessions: Mobility 2020 – TechCrunch', 'Google is pushing to get the Nest Hub in more hotel rooms – TechCrunch', 'Elon Musk demonstrates Neuralink’s tech live using pigs with surgically implanted brain-monitoring devices – TechCrunch', 'Xiaomi plans to bring under-screen cameras to its smartphones next year – TechCrunch', 'Kymeta raises $85.2 million led by Bill Gates to speed growth of its satellite-cellular antenna tech – TechCrunch', 'Ford, Bosch and Bedrock announce an automated valet parking garage in Detroit – TechCrunch', 'Rideshare and taxi ad startup Firefly acquires Strong Outdoor’s out-of-home ad business', 'Desktop Metal going public in SPAC-led deal that could value 3D printer company at $2.5B – TechCrunch', 'Human Capital: ‘People were afraid of being critical with me’ – TechCrunch', 'Facebook sues developers who violated terms to collect user data, sell fake ‘likes’ – TechCrunch', 'Take a closer look at Elon Musk’s Neuralink surgical robot – TechCrunch', 'Harbor, an emergency preparedness platform, picks up $5 million in seed funding – TechCrunch', 'Daily Crunch: Tesla targeted in ransomware attack', 'Fitbit launches a $330 Apple Watch competitor – TechCrunch', 'Palantir’s S-1 alludes to controversial work with ICE as a risk factor for its business – TechCrunch', 'Railsbank is buying Wirecard Card Solutions, the UK arm of the disgraced fintech – TechCrunch', 'These earbuds are heavy on features, but light on your wallet', 'Save on school supplies with 50% off refurbished tech on eBay', 'Kickstart a career as an IT professional with this training course', 'Cool off any space in 10 minutes with this portable AC', 'The pandemic backed YouTube into a moderation corner. It has the numbers to prove it.', \"Amazon's Halo tracks your body fat and how happy you sound\", 'Trump or Biden? China expects no favours either way', 'Software company Okta will let most of its 2,600 employees work remotely permanently', 'Amazon Halo will charge a subscription fee to monitor the tone of your voice', 'Google AR app lets you place prehistoric creatures, Apollo 11 in your room', 'New Dragon Age still on track to exist, no release date given', 'LG’s battery-powered face mask will “make breathing effortless”', 'Little-known EV and lidar firms are raising billions in Tesla’s shadow', 'Sony could detect PlayStation users based on how they hold a controller', 'Going all-in on remote work: The technical and cultural changes', 'UBS hires technology executive from Credit Suisse', 'BRIEF-Yanan Bicon Pharmaceutical Scraps IPO Application For Its Technology Unit', \"ConsenSys acquires JPMorgan's blockchain platform Quorum\", 'US STOCKS-Technology stocks power S&P 500, Nasdaq to new highs', 'Google Docs is now easier for visually impaired users to navigate', \"Uber will require some riders to verify they're wearing masks\", \"How 'Coraline' studio Laika uses Intel's AI to perfect stop motion films\", \"A Saudi Prince's Attempt to Silence Critics on Twitter\", '5 days left to save on early-bird passes to TC Sessions: Mobility 2020 – TechCrunch', 'TikTok parent ByteDance says it will ‘strictly follow’ China export controls – TechCrunch', 'The New Paper offers a ‘fact-first’ news digest in text message form – TechCrunch', 'Make your laptop more efficient with this 7-in-1 USB-C hub', '10 affordable AirPod alternatives that are perfect for working out', \"The Galaxy Z Fold 2 is everything the first Fold should've been\", 'Does your WiFi suck lately? These boosters can help.', \"Robot nurse remotely measures patients' vital signs\", 'China announces new export rules that could prevent sale of TikTok', 'Tesla’s slow self-driving progress continues with green light warning', 'Top Republican deletes tweet with doctored Biden video footage', 'EPA issues new rules on coal plant pollution', 'Payment tech firm Nuvei files for IPO in Canada', 'Amadeus hires former Vodafone exec Streichert as CFO', 'Stocks of TikTok U.S. suitors hit by fears of China block', 'Nvidia taps Samsung, Micron for new gaming chips', 'IT minister Ravi Shankar Prasad accuses Facebook of bias amid row over content', 'Medtech firm Implantica plans IPO on Nasdaq First North', \"Loeb's Third Point funds erase all losses, now up for the year\", 'Breakingviews - SoftBank divestitures set stage to shop again soon', 'Data firm InfoSum raises $15 million, adds former AT&T leader as executive chairman', \"China's new tech export controls could give Beijing a say in TikTok sale\", 'Experts warn: High-tech tools to fight COVID-19 pose their own risks', 'Payment tech firm Nuvei files for $500-$600 million IPO in Canada', 'U.S. extends some China tariff exclusions only through year end', 'IN BRIEF: 1st Circuit reinstates air permit for Atlantic Bridge pipeline compressor', 'Huawei focusing on cloud business which still has access to U.S. chips: FT', 'Google, Apple roll out built-in COVID-19 exposure notifications to phones', 'Tezos legal settlement gets final OK, ending three-year court battle', \"Factbox: A look at Walmart, Microsoft's past collaborations\", 'Chinese national arrested in U.S. probe of possible transfer of software to China', 'Israel, UAE will cooperate on financial services, investment', 'Saudi bourse Tadawul officially launches derivatives market', 'Finland launches its own coronavirus tracing app', 'Nasdaq ends higher while S&P 500 posts biggest August gain since 1986', 'Trump adviser sees more Arab, Muslim partners for Israel after UAE deal', 'U.S. crackdowns on Huawei prompt chip stockpiling, proposed aid not enough - VLSI Research', 'China online education firm Yuanfudao to raise $1.2 billion to nearly double valuation: sources', 'Australia prisoners set fire in cells as virus lockdown sparks unrest', 'As fintech upends banking, Japan regulator expects more cross-boundary tie-ups', 'Uber extends mask selfie verification feature to riders', 'Japan, U.S. defence chiefs oppose bid to alter status of Asian waters', 'Budget airline AirAsia to start charging customers for checking in at airport counters', 'Taiwan says China still lacks ability for full assault on island', 'Skullcandy’s Crusher Evo headphones are even better at rattling your brain', 'Neato’s robotic D10 vacuum uses LIDAR-based navigation', 'How TikTok got caught in the middle of a trade war with China', \"Segway's ES2 electric scooter is nearly 50 percent off at Amazon\", \"Qualcomm's adaptive ANC adjusts to changes in earbud fit\", \"US considers blocking deals with China's largest chip maker\", 'Human Embryo Gene Editing Gets a Road Map—Not a Green Light', 'Could a Tree Help Find a Decaying Corpse Nearby?', 'My Doomed Search for a Bedside Wireless Phone Charger', 'Qualcomm hopes to topple AirPods Pro with ‘adaptive’ noise cancellation for true wireless earbuds', 'Qualcomm’s next budget Snapdragon 4-series chips could take 5G mainstream in 2021', 'The Pentagon says Microsoft should still get its $10B JEDI contract following an investigation', 'Amazon’s new indoor and outdoor Blink cameras can record for up to four years on one set of batteries', 'T-Mobile adds faster midband 5G coverage to more than 80 new cities and towns', 'This Game Boy doesn’t need batteries, but shuts off every 10 seconds', 'Apple’s new Over Sharing ad reminds us it really wants to be seen as a privacy protector', 'CBP does not make it clear Americans can opt out of airport face scanning, watchdog says – TechCrunch', 'Track autonomous vehicle testing in your state with this new tool from the US government – TechCrunch', 'Point72, the firm investing hedge fund mogul Steven A. Cohen’s personal wealth, gets into healthcare – TechCrunch', 'Cyber threat startup Cygilant hit by ransomware – TechCrunch', 'DoD reaffirms Microsoft has won JEDI cloud contract, but Amazon legal complaints still pending – TechCrunch', 'Amazon launches an Alexa service for property managers – TechCrunch', 'Hear E-Prix Champion di Grassi on the future of electric motor sports (including scooters) – TechCrunch', 'PropertyGuru lands $220M from KKR and TPG to conquer Southeast Asia – TechCrunch', 'At Disrupt, YC’s Anu Hariharan, Initialized’s Garry Tan, and GGV’s Hans Tung will tell you how to raise money in a dumpster fire – TechCrunch', 'Facebook to warn third-party developers of vulnerable code – TechCrunch', 'Google’s personalized audio news feature, Your News Update, comes to Google Podcasts – TechCrunch', \"Check out Vivo's wild color-changing phone in new video\", \"TCL announces smartwatch for seniors, new type of 'zero eye strain' display\", \"Can your Bluetooth speaker last 25 hours? This one can, and it's on sale.\", \"Save 64% on a lifetime subscription to Busuu's language learning app\", 'Turn your living room into a movie theater with these impressive speakers', '20 Labor Day deals that can help you sleep like a baby', 'Tired of wasting food? Save it in your freezer with these vacuum sealers.', 'Make your WFH setup more comfy with an ergonomic office chair', 'Chinese students face increased scrutiny at US airports', \"What Matters: Russian trolls are back. Here's what you need to know\", 'Homeland Security proposes expanded biometric collection, including DNA for family relationships', 'Shiva “Inventor of Email” Ayyadurai loses race for GOP Senate nod', 'Impressions from Intel’s Tiger Lake laptop CPU launch event', 'Why experts are overwhelmingly skeptical of online voting', 'SpaceX launches 12th Starlink mission, says users getting 100Mbps downloads', 'Hurricane evacuations and electric cars—here’s what we know', 'New No Time to Die trailer showcases everything you’d expect in a Bond film', 'Acura builds a stiffer chassis and sharper creases into the new TLX', 'Tony Hawk’s Pro Skater 1+2 PC impressions: No pretending for this Superman', 'European shares end whipsaw session lower on tech rout', 'Japanese shares fall on Wall Street tech rout', \"Tech sector tightens its grip over Europe's stock markets\", 'IN BRIEF: Fed Circuit upholds Blackberry mobile security patent claims', 'Stocks drop in choppy session', 'Apple to delay privacy change threatening Facebook, mobile ad market', 'Sensex, Nifty end lower after broader selloff; banks weigh', \"Nvidia, Microsoft power S&P 500's advance\", 'FOREX-Dollar set for biggest weekly rise in nearly 4 months on tech selloff', 'Pentagon says Microsoft still deserves $10 billion JEDI cloud contract', \"Tile's new service will offer up to $1,000 if it can't find your stuff\", 'Hate Social Media? You’ll Love This Documentary', 'Is Lightning-Fast Plasma the Key to a Cleaner Car Engine?', 'Tesla shares drop sharply in broader tech sell-off, falling 17% in morning trading – TechCrunch', 'Voice assistants don’t work for kids: The problem with speech recognition in the classroom – TechCrunch', 'Freshket lands $3 million Series A led by Openspace to streamline Thailand’s food supply chain – TechCrunch', 'Here’s every angle of the all-electric Lucid Air in pictures – TechCrunch', 'Panasonic to expand battery capacity at Tesla Gigafactory – TechCrunch', 'The Station: Yandex spins out self-driving biz, Ike takes the SaaS road and a solid-state battery startup strikes SPAC – TechCrunch', 'Skin Analytics raises £4M Series A to use AI for skin cancer screening – TechCrunch', 'Dear Sophie: What is a J-1 visa and how can we use it? – TechCrunch', 'Reminder: $1,000 in AWS Activate credits available for Extra Crunch members – TechCrunch', 'Motorola gives its foldable Razr another go with the addition of a 5G model – TechCrunch', 'Dawn Capital closes another $400M fund to focus on B2B software – TechCrunch', 'Lucid Motors reveals its long-awaited Air electric sedan – TechCrunch', 'The Shed is a startup out of Virginia trying to revive the rental-for-everything business – TechCrunch', 'Meet the final round judges who will decide the winner of this year’s Disrupt Battlefield Competition – TechCrunch', 'Walmart pilots air drone delivery service in North Carolina', 'Get organized with this dual wireless charging pad, on sale for 30% off', '10 self-care essentials on sale for Labor Day weekend', 'General Motors to build Badger electric truck after investing $2 billion in Nikola', \"Motorola's new Razr 5G is hopefully more durable than its last foldable disaster\", 'Work colleagues should respect, not resent, flexible work rules for parents (opinion)', 'Lidar is becoming a real business', 'Augmented reality could be the geology classroom’s killer app', 'Apple says Epic’s Fortnite payment scheme “is theft, period.”', 'Western Digital is trying to redefine the word “RPM”', 'Japan stocks hit 1-1/2-week low as U.S. tech rout turns contagious', 'Wall Street headed for second straight weekly fall', 'Japanese shares hit 1-1/2 week low on U.S. tech selloff', 'Shanghai exchange to review Ant listing application on September 18', 'China unveils global data security initiative, says some countries bullying others', 'Equities rebound after three-session Nasdaq sell-off', 'SoftBank shares slide 7% as tech stock options bets unnerve investors', 'US STOCKS-Wall Street bounces as tech rebounds', 'Indian shares fall after global tech rout, coronavirus vaccine trial halt', \"China's Huawei to share progress of Google Android OS rival amid U.S. tensions\", 'Wall Street ends higher on tech rally to snap three-day skid', 'Nikkei dips as SoftBank Group tumbles after Nasdaq rout', 'Nikkei slips, SoftBank Group tumbles after Nasdaq rout', 'European equities sapped by Brexit fears, energy and tech stocks slide', 'Sensex, Nifty close slightly higher on global cues', 'US STOCKS-Wall Street bounces as tech rout halts', 'Equities slide, bonds rally as tech rebound stalls; oil slips', 'Hydrogen, carbon capture key to net-zero U.S. electricity: study', 'Wall Street rebounds to snap three-day skid', 'European shares end higher for first time in three sessions', \"What we know about China's 'dual circulation' economic strategy\", 'Britain plans hiring spree to harness big data in pandemic recovery', 'Tesla loses more than combined GM, Ford market value', 'Indian shares flat, Vodafone Idea news awaited', 'U.S. utilities say Biden plan to cut C02 hinges on breakthroughs', 'Breakingviews - What is Ant really worth?', 'Breakingviews - SoftBank shows true colours with U.S. tech binge', 'Stocks end lower as tech swoon persists, Tesla in historic drop', 'SoftBank is reportedly close to selling ARM to NVIDIA', 'Portland officials pass strict ban on facial recognition systems', 'Facebook launches Campus to keep college kids connected (again)', \"Huawei's latest MateBook X looks great, but good luck getting one\", 'Lidar Is Finally Becoming a Real Business', 'Anduril’s New Drone Offers to Inject More AI Into Warfare', \"What to Expect From Tuesday's Apple Event\", 'Asus ROG Zephyrus Duo 15 review: a gaming laptop that doesn’t need two screens', 'TechCrunch still brings the fun to Disrupt 2020 – TechCrunch', 'Use ‘productive paranoia’ to build cybersecurity culture at your startup – TechCrunch', '48 hours left to save on TC Sessions: Mobility 2020 – TechCrunch', 'Wildtype is opening up a pre-order list for select chefs as it focuses on lab-grown, sushi-grade salmon – TechCrunch', 'A user’s guide to Disrupt 2020 – TechCrunch', 'Anduril launches a smarter drone and picks up more money to build a virtual border wall – TechCrunch', 'Unity IPO aims to fuel growth across gaming and beyond – TechCrunch', 'Microsoft Surface Duo review – TechCrunch', \"Portland's facial recognition ban is a major win, especially against Amazon\", 'Archie, the very first search engine, was released 30 years ago today', \"I tried out the ghd rise Volumising Hot Brush on long, thick hair. Here's how it fared.\", \"Don't miss any action with an Acer Nitro 34-inch gaming monitor on sale for $390\", 'Multiple Instant Pots are on sale, including the air fryer version', \"18 deals on cool gadgets that coffee lovers won't be able to resist\", 'Maserati’s new MC20 supercar uses F1 engine efficiency technology', 'Portland adopts strictest facial recognition ban in nation to date', 'Chinese President Xi calls for faster technology innovation - state media', 'RPT-Wall St Week Ahead-Fed meeting in focus as stocks wobble and coronavirus bill stalls', 'Wall Street Weekahead: Fed meeting in focus as stocks wobble and coronavirus bill stalls', '$718 million options unwind signals more caution on tech stocks', \"China's expanded export controls pose fresh challenge to global tech industry\", \"In 'laggard rotation', emerging market equity funds turn winners - BofA\", 'Portland votes for first-ever U.S. ban on corporate use of facial recognition', 'Citi, JPMorgan and State Street back fintech startup Capitolis', 'Embattled SoftBank renews talks on taking the group private - source', 'Exclusive: Saudi sovereign fund PIF weighs investing in Ant IPO - sources', 'Opendoor in talks to list through Social Capital II merger: Bloomberg', 'Equities edge higher as political concerns weigh on sentiment', 'Dow ends higher but Wall Street posts second straight weekly drop on tech slide', 'IBM says U.S. should adopt new export controls on facial recognition systems', 'Nvidia nears deal to buy chip designer Arm for more than $40 billion - sources', \"South Korea's Samsung Display seeks licence to supply Huawei - source\", 'Sharp wins network tech patent infringement suit against Daimler', 'Tesla shares set to rally for third day after record slump', 'Changing tack: windpower breezes back into shipping with Swedish venture', 'Power sector transformation will get world one third of way to net zero - IEA', \"China's Huawei to launch HarmonyOS, its rival to Google Android, on smartphones next year\", 'Nvidia nears deal to buy chip designer Arm for more than $40 billion, sources say', 'Nvidia to buy chip designer Arm for $40 billion as SoftBank exits', \"Brazilian state of Bahia to test Russia's vaccine, plans to buy 50 million doses\", 'Tech shares push Australia higher on Wall St cues, NZ rises', 'McLaren to sell and lease back Woking factory', 'Tesla shares rebound from steep rout', 'Smartphone shipments in China down 15.6% in August - government data', 'Private space industrialization is here – TechCrunch', 'Box CEO Aaron Levie says thrifty founders have more control – TechCrunch', 'Human Capital: What’s next in Uber and Lyft’s court battle and a look at board diversity in Silicon Valley – TechCrunch', 'Hilarious sketch imagines school bullies aggressively respecting CDC guidelines, bro', 'Elizabeth Warren hid some inspiring Easter eggs in her Democratic convention speech', 'Influencers are flocking to OnlyFans but not everyone is happy about it', 'Coronavirus: Japan suffers its biggest economic slump on record', 'Mali coup: UN joins global condemnation of military takeover', \"'We have had parents crying for us to open'\", 'Kim Jong Un delegates some powers to sister Kim Yo Jong, South Korean intelligence says', 'Unconventional convention a crucial moment for Biden (Opinion)', 'In the Hamptons, some hosts are paying for rapid coronavirus tests for guests', 'Mauritius oil spill: Satellite images show removal operation', 'Lyft and Uber receive reprieve in California employment rights row', 'Belarus: Nato denies foreign troops are on border', \"Brazil's economy in Nike 'swoosh' shape recovery: economy minister\", \"Another resignation from Brazil's economy ministry\", \"Japan's economy minister vows to take 'flexible, timely' action to support growth\", 'Italy economy weathering coronavirus better than expected - minister', \"Vanuatu's citizenships-for-sale scheme keeps economy afloat\", 'Youth unemployment soars in Sweden despite stabilizing economy', 'Erdogan says Turkish economy has regained pre-coronavirus momentum', 'Dutch economy set to shrink 5% in 2020 -CPB', 'UPDATE 1-Dutch economy set to shrink 5% in 2020 -CPB', 'UK economy rebounding for now, as public borrowing mounts', 'UPDATE 2-Mexico to unveil economic recovery plan in two weeks, president says', 'MEDIA-Indian economy may have shrunk 14-26% in Q1 - Economic Times poll', 'Japanese stocks slip as economy shrinks at record rate on pandemic hit', 'Japanese shares fall as economy shrinks at record rate on pandemic woes', \"Brazil's Guedes says he has the trust of President Bolsonaro\", \"Russia's economy ministry says GDP down 4.7% y/y in July\", 'Foreign direct investment to Mexico nearly $18 billion in first half of 2020', 'More UK companies see turnover rise, but outlook tough, BCC warns', 'Buoyant Indian stock markets to correct: RBI governor', 'UPDATE 1-Indonesia c.bank keeps rates on hold, eases car loan rules', \"Trump says could 'decouple' and not do business with China\", 'Most JGB yields fall after weak GDP, 30-yr auction in focus', 'German economy set for rapid growth over summer months - Bundesbank', 'Brazil Economy Minister Paulo Guedes not about to resign: sources', 'Taiwan to further free up economy, aiming to become Asian financial hub', 'Copper giant Peru enters recession after economy contracts 30.2% in Q2', 'Britons a bit more upbeat on finances but worried about economy, GfK says', \"G7 'less pessimistic' on global economy, says Italy's finance minister\", \"'Airplane Mode' will let you relive the monotony of economy class this fall\", 'Facebook vows legal action after being forced to block Thai anti-royalty group', 'Facebook blocks access to group criticizing Thailand king after government threat', 'With $11 million in fresh capital, Bolt Bikes rebrands to Zoomo – TechCrunch', 'Learn how to start your side hustle with this expert-led training', \"California is burning. It's time to demand an end to the climate crisis.\", \"US election 2020: Donald Trump's convention speech fact-checked\", 'Entrepreneur hopes to create a gig economy for out-of-work airline pilots — flying drones instead of planes', 'Fact check: First night of the Republican National Convention features more dishonesty than four nights of DNC', \"Long-awaited Celera 500L 'bullet' plane is finally revealed\", 'Opinion: Donald Trump gets out the eraser', 'Ten countries kept out Covid. But did they win?', 'South Korea on brink of nationwide virus outbreak, officials warn', 'German economy contracts at record pace', 'German economy minister does not expect another shutdown - Broadcaster SWR', \"Spain's economy is already recovering from pandemic hit, minister says\", 'UPDATE 1-Peru economy set for 12% plunge in 2020, worst in three decades', 'France sticks to forecast of 11% economic contraction, says Le Maire', \"Brazil's Bolsonaro and economy minister split over welfare spending\", \"Brazil's Bolsonaro committed to austerity, says economy minister\", \"Economy-sensitive stocks are a 'buy' now -investor\", 'German coalition agrees 10 billion euro extension of coronavirus relief', 'Chinese premier says economy could grow this year: state radio', 'German lawmakers flag private party ban as coronavirus cases rise', 'French central banker says any 2020 GDP forecast revision would be up', 'CANADA STOCKS-TSX opens higher on upbeat economic growth data', 'German business morale brightens more than expected in August', \"Germany on 'road to recovery' as business morale brightens further\", 'Chinese premier says economy could grow this year - state radio', 'China will release funds to local governments more quickly to boost economy', 'CANADA STOCKS-TSX gains on upbeat economic growth data', \"Italy's economy ministry wants independent ultra-fast broadband network, says source\", 'Indian government consumption key to growth in economy amid pandemic, central bank says', 'Top Japan government spokesman signals push to re-open economy, boost stimulus', 'Brazil cenbank chief Campos Neto says replacing Economy Minister Guedes a non-issue', \"Turkey's economy severely contracted 11.8% in second-quarter as coronavirus hit: Reuters poll\", 'Merkel says pandemic to worsen, vaccine key for return to normality', \"Recovery hopes dashed for India's recession-hit economy: Reuters poll\", 'UPDATE 1-Brazil economy minister plays down spending spat with Bolsonaro', \"Fed's Mester says U.S. economy could end 2020 down 6% for the year\", 'UPDATE 1-Colombia investment grade loss likely, economy seen shrinking 7% -Fitch', 'German economy contracts at record pace, recovery hinges on consumers', 'India coronavirus cases cross 3 million mark as economy opens up', \"Italy's economy ministry wants independent single ultra-fast broadband network - treasury source\", 'Republican convention praise of Trump economy is risky strategy, poll highlights', 'UPDATE 1-Indian economy more resilient now vs global financial crisis, says RBI Governor', \"Newsmaker: Japan's Shinzo Abe sought to revive economy, fulfil conservative agenda\", \"The Morning After: Elon Musk's brain implant is working -- in pigs\", 'Apple will now allow developers stuck in App Store jail to push bug fixes to their apps – TechCrunch', \"Singles don't want to date non-voters, according to new OkCupid survey\", 'Australia in first recession for nearly 30 years', 'Nancy Pelosi seen without mask inside San Francisco hair salon', 'CBO report: US debt will overtake GDP next year for the first time since 1946', \"A herd immunity coronavirus strategy can be 'dangerous,' experts say\", 'With Canada and Mexico borders closed, Americans are trapped in their own health care system', 'How Covid-19 myths are merging with the QAnon conspiracy theory', '“Shortsighted” and “Self-defeating”: US rejects global COVID-19 vaccine effort', 'Germany sees V-shaped recovery from coronavirus shock', \"Fed's Daly urges more government spending to boost economy\", \"Tesla's Musk discusses vaccine project, car plant with German politicians\", \"Mexico's economy has fared better than other nations -president\", \"Nike sneakers, Lululemon: America's new economy\", \"Spain's economy growing over 10% in third quarter after pandemic hit\", \"Thai deputy PM sees no big impact from Fin Min's resignation\", 'Spitting at politicians infringes constitution, German minister says', \"Spain's Economy minister calls for parties responsibility to approve budget soon\", 'PRECIOUS-Gold slumps over 1.5% on dollar rebound, economic recovery hopes', \"Norway's interest rate unlikely to go negative - deputy cbank head\", \"Brazil vice president says Amazon must become 'bio-economy' hub\", 'Japan shares rise on hopes for U.S. economy, new prime minister eyed', 'Indian economy likely to see record quarterly slump as pandemic hits', 'Brazil posts August trade surplus of $6.6 bln -economy ministry', 'Bank of England policymakers warn of bigger risks for UK economy', 'EU markets watchdog says stocks rebound out of kilter with COVID-hit economy', 'Factories worldwide shake off COVID-19 gloom but outlook shaky', 'Thai July economy improves but foreign tourist ban a big drag', \"Australia's central bank has limited options as economy sinks into steep slump\", \"Fed's Barkin says U.S. economy will need sustained support: WSJ\", 'German finance watchdog says worst of coronavirus crisis to come', 'Oil drops 2%, reversing course as U.S. gasoline demand slumps', 'Georgian economy contracts at annual 5.8% rate in January-July', 'Danish Finance Ministry sees 4.5% contraction in economy this year', \"Coffee, ketchup and Nike Air Max: it's the COVID consumer economy\", \"Japan LDP's Kishida says can show strength in areas of economy, foreign policy\", \"ECB's De Guindos sees a strong rebound of euro zone economy in third-quarter\", \"India's recovery to take time after economy shrinks 24% in June quarter\", \"Turkey's economy shrinks nearly 10% in second quarter under pandemic impact\", 'Russia to cut rates in 2020, helping economy to grow in 2021: Reuters Poll', 'Thailand plans new cash handouts, job measures worth $2.2 bln for economy', \"Mexican president says country's economy has weathered pandemic better than others\", 'Brazil economy back to 2009 size after record 9.7% slump in second quarter', \"UK economy might take years to recover from COVID hit-BoE's Vlieghe\", 'Bank of England policymakers warn UK economy facing bigger risks', \"Ample monsoon rains push India's summer crop plantings to record\", 'India to reopen underground train networks even as coronavirus cases jump', 'Beirut blast pummelled key nightlife industry', 'South Korea ramps up economic stimulus as coronavirus restrictions bite', 'PREVIEW-Colombia central bank set to trim rate one last time at Monday meeting', 'UPDATE 1-Thailand announces $2.2 bln worth of additional stimulus in handouts, job measures', \"China's slower factory growth eclipsed by robust services in boost to economic recovery\", 'Nifty, Sensex end lower after China border tensions; banks weigh', \"Fed's Mester says central bank won't let inflation run rampant\", \"Japan's Daiwa gets approval for majority-owned China securities JV\", 'Australia central bank expands low-cost funding as dire GDP data looms', \"Bostic: Fed's tools limited as long as health trajectory remains in doubt\", 'UPDATE 1-Australia central bank holds rates, expands bank funding scheme', \"Japan's second-quarter capex falls most in decade on pandemic blow\", 'Kazakh tenge seen weakening amid pandemic concerns: Reuters Poll', 'Facebook seeks fresh legal delay to block order to suspend its transatlantic data transfers – TechCrunch', '5 Reasons you need to attend TC Sessions: Mobility 2020 – TechCrunch', \"Seth Meyers ruthlessly fact-checks Trump's claim he is anti-war\", 'US budget deficit soars to $3tn record', 'Trump may reach a new milestone by Election Day (Opinion)', \"Labor Day means getting back into a routine. Don't count on it.\", 'Climate change may wreck economy unless we act soon, federal report warns', 'Trump audio shows he knew about COVID’s severity even as he misled public', 'Lucid announces the price and specs for the Air electric sedan', 'I’m Thinking of Ending Things: The most un-Netflix “Netflix film” to date', \"Invest in the 'physical economy': advisor\", 'Trump again raises idea of decoupling economy from China', \"Norway's economy grew less than expected in July\", 'UK economy extends recovery from COVID crash', 'South African economy contracts 51% q/q in Q2', 'Russia says Syria needs international help to rebuild its economy', 'ECB sees \"strong rebound\" signs, monitoring FX', \"Japan's new government should focus on response to coronavirus, digitalization: Reuters poll\", 'UK economy extends recovery from COVID crash, growth seen fading', \"Japan's Q2 GDP revised down to annualised 28.1% contraction\", \"Japan's Nishimura says rising income to underpin consumption\", 'U.S. consumer prices increase solidly in August', 'ECB must keep up support for the economy - Villeroy', \"Japan's worst postwar economic downturn could force new leader to boost stimulus\", 'Global economy seeing sharper V recovery, raising case for inflation - Morgan Stanley', 'U.S. economy is improving, weeks before the election. Will Trump benefit?', 'Thai economy to shrink 7%-9% this yr, protests a worry: business groups', 'Syria seeks Russian investment as U.S. sanctions hammer economy', \"Japan's Suga says strong economy necessary to pursue fiscal reform\", 'Czech government seeks to keep economy running as COVID-19 cases rise', 'Thailand hunts for new finance minister to tackle economy in crisis', 'Indian economy projected to contract 11.8% year-on-year, Fitch domestic arm says', 'With a battered economy, Iraq debates its contribution to OPEC+ oil cuts', 'Euro zone ministers pledge lasting fiscal support for economy', 'Exclusive: Mexico may extend relaxed bank credit rules to help economy grow', 'Exclusive: BOJ to offer brighter view on economy as COVID crisis eases: sources', 'Science Journals Are Purging Racist, Sexist Work. Finally', 'Take-Two Interactive CEO defends next-gen price hike', 'TechCrunch statement on sweep at our venue – TechCrunch', 'Nvidia confirms $40B purchase of Arm, bringing together two chip giants – TechCrunch', 'ServiceNow updates its workflow automation platform – TechCrunch', 'YouTube hit with UK class action style suit seeking $3BN+ for ‘unlawful’ use of kids’ data – TechCrunch', \"Yoshihide Suga picked by Japan's governing party to succeed Shinzo Abe\", 'Why are stocks dropping? Hint: It involves Jerome Powell', \"'Oracle just completely saved the day': TikTok users react to looming deal\", 'Stimulus deal unlikely until after the election', 'Trump mental health official accuses media of overblowing dangers of Covid-19', \"Spain's third-quarter growth to exceed 10%, minister says\", 'Australia central bank policy measures working as expected - official', 'Peru Congress votes against ouster of economy minister Alva', 'Factbox: Trump, Biden offer clashing visions on reopening economy', 'Trump, Biden offer clashing visions on reopening economy', 'German economic recovery to continue in second-half, third-quarter to show strong growth: ministry', \"Iran's rial hits new low against dollar as economy reels\", \"Oil industry paints grimmer picture of pandemic's harm to demand\", \"Italy's Recovery Fund windfall: panacea or poisoned chalice?\", 'Oil industry sounds alarm on coronavirus dent in demand', \"No-deal Brexit would hurt Britain more than EU - Germany's Scholz\", 'Zimbabwe eases COVID-19 restrictions as exam classes start', 'European economy is recovering better than we had feared - Scholz', 'European economy is recovering better than we had feared: Scholz', 'Retirements, layoffs, labor force flight may leave scars on U.S economy', \"South African economy to shrink by more than government's 7% forecast in 2020 - Mboweni\", \"S&P expects India's economy to contract 9% in fiscal 2021\", 'BOJ holds fire, offers brighter view of economy as pandemic impact eases', 'New Zealand economy in deepest recession as second-quarter GDP shrinks', \"Japan's pandemic-hit economy too weak for new PM's reform plans: PIMCO\", 'New COVID-19 wave must be prevented to support German economy: stats office', 'Trump camp shifting new ad to economy after law-and-order focus', \"Japan's economy minister instructed by new PM to take steps without hesitation\", 'Taiwan central bank likely to stand pat as economy weathers pandemic - Reuters poll', 'German economy likely to shrink less this year than during 2009 crisis - IfW', 'Mexico adds more than 90,000 tax-paying jobs in August - IMSS', \"Japan's Suga says no limit to bonds government can issue\", 'Singapore gives out pocket-sized device to trace coronavirus', 'COLUMN-Australia still addicted to fossil fuel with oil, gas subsidies: Russell', 'British business calls for green recovery, policies to meet net zero', 'Japan manufacturers remain gloomy for 14th month - Reuters Tankan', \"Europe's electricity could be 80% fossil fuel-free by 2030: industry group\", \"Brazil's Guedes finds influence waning as Bolsonaro takes up spending reins\", 'Bank of England gears up for next stimulus push', 'Syria says U.S. sanctions behind acute fuel crisis', 'METALS-LME copper falls most in seven sessions on stronger dollar']\n"
     ]
    }
   ],
   "source": [
    "print(data['title'].tolist())"
   ]
  },
  {
   "cell_type": "code",
   "execution_count": 29,
   "metadata": {
    "colab": {
     "base_uri": "https://localhost:8080/"
    },
    "executionInfo": {
     "elapsed": 562,
     "status": "ok",
     "timestamp": 1738729839792,
     "user": {
      "displayName": "Rokkam Nithin",
      "userId": "10045097081452275412"
     },
     "user_tz": -330
    },
    "id": "BPEtCxHAAd3W",
    "outputId": "8e4d642d-55b7-4412-cfe3-6a450e3de4bd"
   },
   "outputs": [
    {
     "name": "stdout",
     "output_type": "stream",
     "text": [
      "Article Read -- YouTube launches its TikTok rival, YouTube Shorts, initially in India – TechCrunch link --http://techcrunch.com/2020/09/14/youtube-launches-its-tiktok-rival-youtube-shorts-initially-in-india/\n",
      " ---------------------------------------------------------- \n",
      "Recomendation 1 --- 468(IDX)  2020-08-27 00:00:00+00:00 : Walmart expresses interest in TikTok, teaming up with Microsoft – TechCrunch || Link --http://techcrunch.com/2020/08/27/tiktok-deal/ score -- 0.06035011720503697\n",
      "\n",
      "Recomendation 2 --- 1192(IDX)  NaT : Exclusive: ByteDance investors seek to use stakes to finance TikTok bid || Link --https://www.reuters.com/article/us-usa-tiktok-bytedance-investors-exclus-idUSKBN25K0IW score -- 0.05909720930182888\n",
      "\n",
      "Recomendation 3 --- 10(IDX)  2020-09-13 00:00:00+00:00 : Oracle boots out Microsoft and wins bid for TikTok, reports say – TechCrunch || Link --http://techcrunch.com/2020/09/13/oracle-wins-bid-to-buy-tiktok/ score -- 0.05909553136405597\n",
      "\n",
      "Recomendation 4 --- 1291(IDX)  NaT : China's new tech export controls could give Beijing a say in TikTok sale || Link --https://in.reuters.com/article/us-usa-tiktok-china-idINKBN25Q05Q score -- 0.05586895948863725\n",
      "\n",
      "Recomendation 5 --- 1316(IDX)  NaT : How TikTok got caught in the middle of a trade war with China || Link --https://www.engadget.com/how-tiktok-got-caught-in-middle-trade-war-with-china-223010428.html score -- 0.05164645656451272\n",
      "\n",
      "Recomendation 6 --- 13(IDX)  2020-09-11 00:00:00+00:00 : China may kill TikTok’s US operations rather than see them sold – TechCrunch || Link --http://techcrunch.com/2020/09/11/china-may-kill-tiktoks-u-s-operations-rather-than-see-them-sold/ score -- 0.050436540773090954\n",
      "\n",
      "Recomendation 7 --- 1284(IDX)  NaT : Stocks of TikTok U.S. suitors hit by fears of China block || Link --https://www.reuters.com/article/us-microsoft-stocks-idUSKBN25R1TH score -- 0.04961475861721678\n",
      "\n",
      "Recomendation 8 --- 1672(IDX)  2020-09-14 00:00:00+00:00 : 'Oracle just completely saved the day': TikTok users react to looming deal || Link --https://www.cnn.com/2020/09/14/tech/tiktok-oracle-user-reaction/index.html score -- 0.049019543620489284\n",
      "\n",
      "Recomendation 9 --- 120(IDX)  NaT : TikTok to launch legal action against Trump over ban || Link --https://www.bbc.co.uk/news/world-us-canada-53877956 score -- 0.04875144797458084\n",
      "\n",
      "Recomendation 10 --- 266(IDX)  NaT : And now Triller is trying to buy U.S. TikTok, report claims || Link --https://mashable.com/article/triller-20-billion-offer-us-tiktok/ score -- 0.046762574453560815\n",
      "\n"
     ]
    }
   ],
   "source": [
    "get_recommendations('YouTube launches its TikTok rival, YouTube Shorts, initially in India – TechCrunch', 10)"
   ]
  },
  {
   "cell_type": "code",
   "execution_count": 30,
   "metadata": {
    "executionInfo": {
     "elapsed": 286,
     "status": "ok",
     "timestamp": 1738729289160,
     "user": {
      "displayName": "Rokkam Nithin",
      "userId": "10045097081452275412"
     },
     "user_tz": -330
    },
    "id": "NoAVKQ_HMMC3"
   },
   "outputs": [],
   "source": [
    "def evaluate_recommendations(title, no_of_news_article, relevant_articles):\n",
    "    # Check if title exists in indices\n",
    "    if title not in indices:\n",
    "        print(f\"Title '{title}' not found in dataset.\")\n",
    "        return None, None\n",
    "\n",
    "    # Generate recommendations as before\n",
    "    idx = indices[title]\n",
    "    sim_scores = list(enumerate(cosine_sim[idx]))\n",
    "    sim_scores = sorted(sim_scores, key=lambda x: x[1], reverse=True)\n",
    "    recommended_indices = [i[0] for i in sim_scores[1:no_of_news_article + 1]]\n",
    "\n",
    "    # Continue with precision and recall calculation\n",
    "    recommended_set = set(recommended_indices)\n",
    "    relevant_set = set(relevant_articles)\n",
    "    true_positives = len(recommended_set & relevant_set)\n",
    "    false_positives = len(recommended_set - relevant_set)\n",
    "    false_negatives = len(relevant_set - recommended_set)\n",
    "\n",
    "    precision = true_positives / (true_positives + false_positives) if true_positives + false_positives > 0 else 0\n",
    "    recall = true_positives / (true_positives + false_negatives) if true_positives + false_negatives > 0 else 0\n",
    "\n",
    "    print(f\"Precision: {precision}\")\n",
    "    print(f\"Recall: {recall}\")\n",
    "    f1_score = 2 * (precision * recall) / (precision + recall)\n",
    "    print(f\"F1 Score: {f1_score}\")\n",
    "\n",
    "    # return precision, recall, f1_score\n"
   ]
  },
  {
   "cell_type": "code",
   "execution_count": 31,
   "metadata": {
    "colab": {
     "base_uri": "https://localhost:8080/"
    },
    "executionInfo": {
     "elapsed": 280,
     "status": "ok",
     "timestamp": 1738729289160,
     "user": {
      "displayName": "Rokkam Nithin",
      "userId": "10045097081452275412"
     },
     "user_tz": -330
    },
    "id": "SWvd-vEPMOwg",
    "outputId": "71bcef0d-41ec-4bab-dfa3-eeca2c7f323e"
   },
   "outputs": [
    {
     "name": "stdout",
     "output_type": "stream",
     "text": [
      "Precision: 0.9\n",
      "Recall: 1.0\n",
      "F1 Score: 0.9473684210526316\n"
     ]
    }
   ],
   "source": [
    "valid_title = data['title'].iloc[0]  # Example: using the first title in the dataset\n",
    "relevant_articles = [123, 214, 44,275,126, 221,211,45,273]\n",
    "evaluate_recommendations(valid_title, 10, relevant_articles)"
   ]
  },
  {
   "cell_type": "markdown",
   "metadata": {
    "id": "-SjZCFsiAd3W"
   },
   "source": [
    "# Conclusion"
   ]
  },
  {
   "cell_type": "markdown",
   "metadata": {
    "id": "5J5eH2geAd3W"
   },
   "source": [
    "We built a **content based recommender system** capable of recommend news articles similar to the ones read by the client. We can see from the recommendations obtained, that it's working nicely and it's ready to be tested.\n",
    "\n",
    "                                                                           \n",
    "                                                                            \n",
    "                                                                             \n",
    "                                                                              \n",
    "                                                                               \n",
    "##                                                                 THANK-YOU\n",
    "\n"
   ]
  }
 ],
 "metadata": {
  "accelerator": "GPU",
  "colab": {
   "gpuType": "T4",
   "provenance": []
  },
  "kaggle": {
   "accelerator": "none",
   "dataSources": [
    {
     "datasetId": 879591,
     "sourceId": 1497408,
     "sourceType": "datasetVersion"
    }
   ],
   "dockerImageVersionId": 30162,
   "isGpuEnabled": false,
   "isInternetEnabled": false,
   "language": "python",
   "sourceType": "notebook"
  },
  "kernelspec": {
   "display_name": "Python 3",
   "name": "python3"
  },
  "language_info": {
   "codemirror_mode": {
    "name": "ipython",
    "version": 3
   },
   "file_extension": ".py",
   "mimetype": "text/x-python",
   "name": "python",
   "nbconvert_exporter": "python",
   "pygments_lexer": "ipython3",
   "version": "3.13.2"
  }
 },
 "nbformat": 4,
 "nbformat_minor": 0
}
